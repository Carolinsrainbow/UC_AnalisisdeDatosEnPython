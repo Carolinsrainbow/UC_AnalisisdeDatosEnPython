{
  "cells": [
    {
      "cell_type": "markdown",
      "metadata": {
        "id": "view-in-github",
        "colab_type": "text"
      },
      "source": [
        "<a href=\"https://colab.research.google.com/github/Carolinsrainbow/UC_AnalisisdeDatosEnPython/blob/main/Creando_indicadores.ipynb\" target=\"_parent\"><img src=\"https://colab.research.google.com/assets/colab-badge.svg\" alt=\"Open In Colab\"/></a>"
      ]
    },
    {
      "cell_type": "code",
      "execution_count": null,
      "id": "b1cc248c",
      "metadata": {
        "id": "b1cc248c"
      },
      "outputs": [],
      "source": [
        "import pandas as pd\n",
        "import numpy as np\n",
        "\n",
        "import os\n",
        "\n",
        "import warnings\n",
        "warnings.filterwarnings('ignore')"
      ]
    },
    {
      "cell_type": "code",
      "execution_count": null,
      "id": "582ac9f5",
      "metadata": {
        "id": "582ac9f5"
      },
      "outputs": [],
      "source": [
        "os.chdir('C:/Users/aecat/Dropbox/Docencia/PUC/Magíster Ciencia de Datos/Datos')"
      ]
    },
    {
      "cell_type": "markdown",
      "id": "c929e960",
      "metadata": {
        "id": "c929e960"
      },
      "source": [
        "## Carga de información"
      ]
    },
    {
      "cell_type": "code",
      "execution_count": null,
      "id": "9c2b999c",
      "metadata": {
        "id": "9c2b999c"
      },
      "outputs": [],
      "source": [
        "laliga2122 = pd.read_excel('LaLiga21 22.xlsx', )\n",
        "laliga2021 = pd.read_excel('LaLiga20 21.xlsx', )\n",
        "laliga1920 = pd.read_excel('LaLiga19 20.xlsx', )\n",
        "laliga1819 = pd.read_excel('LaLiga18 19.xlsx', )\n",
        "laliga1718 = pd.read_excel('LaLiga17 18.xlsx', )\n",
        "laliga1617 = pd.read_excel('LaLiga16 17.xlsx', )\n",
        "seg2122 =  pd.read_excel('LaLiga123 21 22.xlsx', )\n",
        "seg2021 =  pd.read_excel('LaLiga123 20 21.xlsx', )\n",
        "seg1920 =  pd.read_excel('LaLiga123 19 20.xlsx', )\n",
        "seg1819 =  pd.read_excel('LaLiga123 18 19.xlsx', )\n",
        "seg1718 =  pd.read_excel('LaLiga123 17 18.xlsx', )\n",
        "seg1617 =  pd.read_excel('LaLiga123 16 17.xlsx', )"
      ]
    },
    {
      "cell_type": "code",
      "execution_count": null,
      "id": "b5a0e0f0",
      "metadata": {
        "id": "b5a0e0f0"
      },
      "outputs": [],
      "source": [
        "laliga = laliga2122.dropna(how='all').append(laliga2021.dropna(how='all')\n",
        ").append(laliga1920.dropna(how='all')).append(laliga1819.dropna(how='all')\n",
        ").append(laliga1718.dropna(how='all')).append(laliga1617.dropna(how='all')).loc[:,\n",
        "['Wk','Date','Local','xG','Score','xG.1','Visitante', 'Attendance']]\n",
        "laliga['Attendance']= laliga['Attendance']*1000"
      ]
    },
    {
      "cell_type": "code",
      "execution_count": null,
      "id": "3e2eb6d4",
      "metadata": {
        "id": "3e2eb6d4"
      },
      "outputs": [],
      "source": [
        "def total_goles(string):\n",
        "    goles = string.split('–')\n",
        "    total_goles = int(goles[0])+int(goles[1])\n",
        "    return total_goles\n",
        "\n",
        "laliga['Total de goles']= laliga['Score'].apply(total_goles)"
      ]
    },
    {
      "cell_type": "code",
      "execution_count": null,
      "id": "efeca9c6",
      "metadata": {
        "id": "efeca9c6"
      },
      "outputs": [],
      "source": [
        "def torneo(año,mes):\n",
        "    if ((año==2016) & (mes<=12)|(año==2017) & (mes<8)):\n",
        "        return '16/17'\n",
        "    elif ((año==2017) & (mes<=12)|(año==2018) & (mes<8)):\n",
        "        return '17/18'\n",
        "    elif ((año==2018) & (mes<=12)|(año==2019) & (mes<8)):\n",
        "        return '18/19'\n",
        "    elif ((año==2019) & (mes<=12)|(año==2020) & (mes<9)):\n",
        "        return '19/20'\n",
        "    elif ((año==2020) & (mes<=12)|(año==2021) & (mes<8)):\n",
        "        return '20/21'\n",
        "    elif ((año==2021) & (mes<=12)|(año==2022) & (mes<8)):\n",
        "        return '21/22'\n",
        "\n",
        "\n",
        "laliga['Año'] = laliga['Date'].dt.year\n",
        "laliga['Mes'] = laliga['Date'].dt.month\n",
        "laliga['Temporada'] = laliga.apply(lambda x: torneo(x['Año'],x['Mes']),axis = 1)"
      ]
    },
    {
      "cell_type": "markdown",
      "id": "3518f551",
      "metadata": {
        "id": "3518f551"
      },
      "source": [
        "## Análisis de victorias"
      ]
    },
    {
      "cell_type": "markdown",
      "id": "710a7c6d",
      "metadata": {
        "id": "710a7c6d"
      },
      "source": [
        "Crearemos columnas para analizar los resultados de los partidos de cada torneo. Primero, una columna que nos diga si ganó el equipo local o visitante y otra columna con el nombre del equipo que ganó"
      ]
    },
    {
      "cell_type": "code",
      "execution_count": null,
      "id": "2be37dbe",
      "metadata": {
        "id": "2be37dbe"
      },
      "outputs": [],
      "source": [
        "#esta función nos indicará si el partido lo ganó el Local, el Visitante o si fue empate\n",
        "def resultado(string):\n",
        "    goles = string.split('–')\n",
        "    if int(goles[0])>int(goles[1]):\n",
        "        return 'Local'\n",
        "    if int(goles[0])<int(goles[1]):\n",
        "        return 'Visitante'\n",
        "    else:\n",
        "        return 'Empate'\n",
        "\n",
        "#esta función nos indicará si el partido lo ganó el Local y nos devolverá el nombre del equipo local,\n",
        "#el Visitante y nos devolverá el nombre del equipo visitante o si fue empate, y nos devolverá el string \"Empate\"\n",
        "def resultado_equipo(string, local, visita):\n",
        "    goles = string.split('–')\n",
        "    if int(goles[0])>int(goles[1]):\n",
        "        return local\n",
        "    if int(goles[0])<int(goles[1]):\n",
        "        return visita\n",
        "    else:\n",
        "        return 'Empate'\n",
        "\n",
        "laliga['Resultado'] = laliga['Score'].apply(resultado)\n",
        "laliga['Ganador'] = laliga.apply(lambda x: resultado_equipo(x['Score'],x['Local'],x['Visitante']),axis=1)"
      ]
    },
    {
      "cell_type": "markdown",
      "id": "bc7c0e42",
      "metadata": {
        "id": "bc7c0e42"
      },
      "source": [
        "Ahora, podemos estudiar la cantidad de partidos que ganó el equipo local, visita o fue empate por cada torneo.\n"
      ]
    },
    {
      "cell_type": "code",
      "execution_count": null,
      "id": "81852cbf",
      "metadata": {
        "id": "81852cbf",
        "outputId": "65f2fd54-e1c4-4352-994c-0ec085bf7a9c"
      },
      "outputs": [
        {
          "data": {
            "text/html": [
              "<div>\n",
              "<style scoped>\n",
              "    .dataframe tbody tr th:only-of-type {\n",
              "        vertical-align: middle;\n",
              "    }\n",
              "\n",
              "    .dataframe tbody tr th {\n",
              "        vertical-align: top;\n",
              "    }\n",
              "\n",
              "    .dataframe thead th {\n",
              "        text-align: right;\n",
              "    }\n",
              "</style>\n",
              "<table border=\"1\" class=\"dataframe\">\n",
              "  <thead>\n",
              "    <tr style=\"text-align: right;\">\n",
              "      <th></th>\n",
              "      <th>Temporada</th>\n",
              "      <th>Resultado</th>\n",
              "      <th>Cantidad</th>\n",
              "    </tr>\n",
              "  </thead>\n",
              "  <tbody>\n",
              "    <tr>\n",
              "      <th>0</th>\n",
              "      <td>16/17</td>\n",
              "      <td>Empate</td>\n",
              "      <td>89</td>\n",
              "    </tr>\n",
              "    <tr>\n",
              "      <th>1</th>\n",
              "      <td>16/17</td>\n",
              "      <td>Local</td>\n",
              "      <td>181</td>\n",
              "    </tr>\n",
              "    <tr>\n",
              "      <th>2</th>\n",
              "      <td>16/17</td>\n",
              "      <td>Visitante</td>\n",
              "      <td>110</td>\n",
              "    </tr>\n",
              "    <tr>\n",
              "      <th>3</th>\n",
              "      <td>17/18</td>\n",
              "      <td>Empate</td>\n",
              "      <td>86</td>\n",
              "    </tr>\n",
              "    <tr>\n",
              "      <th>4</th>\n",
              "      <td>17/18</td>\n",
              "      <td>Local</td>\n",
              "      <td>179</td>\n",
              "    </tr>\n",
              "    <tr>\n",
              "      <th>5</th>\n",
              "      <td>17/18</td>\n",
              "      <td>Visitante</td>\n",
              "      <td>115</td>\n",
              "    </tr>\n",
              "    <tr>\n",
              "      <th>6</th>\n",
              "      <td>18/19</td>\n",
              "      <td>Empate</td>\n",
              "      <td>110</td>\n",
              "    </tr>\n",
              "    <tr>\n",
              "      <th>7</th>\n",
              "      <td>18/19</td>\n",
              "      <td>Local</td>\n",
              "      <td>168</td>\n",
              "    </tr>\n",
              "    <tr>\n",
              "      <th>8</th>\n",
              "      <td>18/19</td>\n",
              "      <td>Visitante</td>\n",
              "      <td>102</td>\n",
              "    </tr>\n",
              "    <tr>\n",
              "      <th>9</th>\n",
              "      <td>19/20</td>\n",
              "      <td>Empate</td>\n",
              "      <td>105</td>\n",
              "    </tr>\n",
              "    <tr>\n",
              "      <th>10</th>\n",
              "      <td>19/20</td>\n",
              "      <td>Local</td>\n",
              "      <td>174</td>\n",
              "    </tr>\n",
              "    <tr>\n",
              "      <th>11</th>\n",
              "      <td>19/20</td>\n",
              "      <td>Visitante</td>\n",
              "      <td>101</td>\n",
              "    </tr>\n",
              "    <tr>\n",
              "      <th>12</th>\n",
              "      <td>20/21</td>\n",
              "      <td>Empate</td>\n",
              "      <td>109</td>\n",
              "    </tr>\n",
              "    <tr>\n",
              "      <th>13</th>\n",
              "      <td>20/21</td>\n",
              "      <td>Local</td>\n",
              "      <td>158</td>\n",
              "    </tr>\n",
              "    <tr>\n",
              "      <th>14</th>\n",
              "      <td>20/21</td>\n",
              "      <td>Visitante</td>\n",
              "      <td>113</td>\n",
              "    </tr>\n",
              "    <tr>\n",
              "      <th>15</th>\n",
              "      <td>21/22</td>\n",
              "      <td>Empate</td>\n",
              "      <td>111</td>\n",
              "    </tr>\n",
              "    <tr>\n",
              "      <th>16</th>\n",
              "      <td>21/22</td>\n",
              "      <td>Local</td>\n",
              "      <td>165</td>\n",
              "    </tr>\n",
              "    <tr>\n",
              "      <th>17</th>\n",
              "      <td>21/22</td>\n",
              "      <td>Visitante</td>\n",
              "      <td>104</td>\n",
              "    </tr>\n",
              "  </tbody>\n",
              "</table>\n",
              "</div>"
            ],
            "text/plain": [
              "   Temporada  Resultado  Cantidad\n",
              "0      16/17     Empate        89\n",
              "1      16/17      Local       181\n",
              "2      16/17  Visitante       110\n",
              "3      17/18     Empate        86\n",
              "4      17/18      Local       179\n",
              "5      17/18  Visitante       115\n",
              "6      18/19     Empate       110\n",
              "7      18/19      Local       168\n",
              "8      18/19  Visitante       102\n",
              "9      19/20     Empate       105\n",
              "10     19/20      Local       174\n",
              "11     19/20  Visitante       101\n",
              "12     20/21     Empate       109\n",
              "13     20/21      Local       158\n",
              "14     20/21  Visitante       113\n",
              "15     21/22     Empate       111\n",
              "16     21/22      Local       165\n",
              "17     21/22  Visitante       104"
            ]
          },
          "execution_count": 8,
          "metadata": {},
          "output_type": "execute_result"
        }
      ],
      "source": [
        "condicion_predominante = laliga.groupby(['Temporada','Resultado'])['Wk'].count().reset_index() #agrupamos la información del Dataframe laliga por Temporada y Resultado, y contamos la cantidad de partidos que caen en cada agrupación.\n",
        "condicion_predominante = condicion_predominante.set_axis(\n",
        "['Temporada', 'Resultado','Cantidad'], axis='columns') #colocamos nombres a las columnas del nuevo Dataframe\n",
        "\n",
        "condicion_predominante"
      ]
    },
    {
      "cell_type": "markdown",
      "id": "499c5024",
      "metadata": {
        "id": "499c5024"
      },
      "source": [
        "Si solo nos interesa el histórico, sin considerar la diferencia por temporada, tenemos que :"
      ]
    },
    {
      "cell_type": "code",
      "execution_count": null,
      "id": "63d23a40",
      "metadata": {
        "id": "63d23a40",
        "outputId": "132b1751-de18-4dbb-ae49-30a08cf3ea63"
      },
      "outputs": [
        {
          "data": {
            "text/html": [
              "<div>\n",
              "<style scoped>\n",
              "    .dataframe tbody tr th:only-of-type {\n",
              "        vertical-align: middle;\n",
              "    }\n",
              "\n",
              "    .dataframe tbody tr th {\n",
              "        vertical-align: top;\n",
              "    }\n",
              "\n",
              "    .dataframe thead th {\n",
              "        text-align: right;\n",
              "    }\n",
              "</style>\n",
              "<table border=\"1\" class=\"dataframe\">\n",
              "  <thead>\n",
              "    <tr style=\"text-align: right;\">\n",
              "      <th></th>\n",
              "      <th>Resultado</th>\n",
              "      <th>Cantidad</th>\n",
              "    </tr>\n",
              "  </thead>\n",
              "  <tbody>\n",
              "    <tr>\n",
              "      <th>0</th>\n",
              "      <td>Empate</td>\n",
              "      <td>610</td>\n",
              "    </tr>\n",
              "    <tr>\n",
              "      <th>1</th>\n",
              "      <td>Local</td>\n",
              "      <td>1025</td>\n",
              "    </tr>\n",
              "    <tr>\n",
              "      <th>2</th>\n",
              "      <td>Visitante</td>\n",
              "      <td>645</td>\n",
              "    </tr>\n",
              "  </tbody>\n",
              "</table>\n",
              "</div>"
            ],
            "text/plain": [
              "   Resultado  Cantidad\n",
              "0     Empate       610\n",
              "1      Local      1025\n",
              "2  Visitante       645"
            ]
          },
          "execution_count": 9,
          "metadata": {},
          "output_type": "execute_result"
        }
      ],
      "source": [
        "cond_predominante_abs = laliga.groupby(['Resultado'])['Wk'].count().reset_index() #ahora solamente agrupamos por resultado\n",
        "cond_predominante_abs = cond_predominante_abs.set_axis(\n",
        "['Resultado','Cantidad'], axis='columns')\n",
        "\n",
        "cond_predominante_abs"
      ]
    },
    {
      "cell_type": "markdown",
      "id": "add98027",
      "metadata": {
        "id": "add98027"
      },
      "source": [
        "De donde se puede notar una clara tendencia a la victoria del equipo local."
      ]
    },
    {
      "cell_type": "markdown",
      "id": "18490a72",
      "metadata": {
        "id": "18490a72"
      },
      "source": [
        "## Más ganadores\n",
        "Ahora, queremos saber cuáles son los equipos que más han ganado durante las últimas 6 temporadas de la primera división española."
      ]
    },
    {
      "cell_type": "code",
      "execution_count": null,
      "id": "b4073c4a",
      "metadata": {
        "id": "b4073c4a",
        "outputId": "ef87d37c-6088-46a3-fa97-f2d109c76046"
      },
      "outputs": [
        {
          "data": {
            "text/html": [
              "<div>\n",
              "<style scoped>\n",
              "    .dataframe tbody tr th:only-of-type {\n",
              "        vertical-align: middle;\n",
              "    }\n",
              "\n",
              "    .dataframe tbody tr th {\n",
              "        vertical-align: top;\n",
              "    }\n",
              "\n",
              "    .dataframe thead th {\n",
              "        text-align: right;\n",
              "    }\n",
              "</style>\n",
              "<table border=\"1\" class=\"dataframe\">\n",
              "  <thead>\n",
              "    <tr style=\"text-align: right;\">\n",
              "      <th></th>\n",
              "      <th>Equipo</th>\n",
              "      <th>Cantidad de victorias</th>\n",
              "    </tr>\n",
              "  </thead>\n",
              "  <tbody>\n",
              "    <tr>\n",
              "      <th>3</th>\n",
              "      <td>Barcelona</td>\n",
              "      <td>152</td>\n",
              "    </tr>\n",
              "    <tr>\n",
              "      <th>22</th>\n",
              "      <td>Real Madrid</td>\n",
              "      <td>149</td>\n",
              "    </tr>\n",
              "    <tr>\n",
              "      <th>2</th>\n",
              "      <td>Atlético Madrid</td>\n",
              "      <td>133</td>\n",
              "    </tr>\n",
              "  </tbody>\n",
              "</table>\n",
              "</div>"
            ],
            "text/plain": [
              "             Equipo  Cantidad de victorias\n",
              "3         Barcelona                    152\n",
              "22      Real Madrid                    149\n",
              "2   Atlético Madrid                    133"
            ]
          },
          "execution_count": 10,
          "metadata": {},
          "output_type": "execute_result"
        }
      ],
      "source": [
        "mas_ganadores = laliga[laliga['Ganador']!= 'Empate'].groupby(['Ganador'])['Wk'].count().reset_index()\n",
        "mas_ganadores = mas_ganadores.set_axis(['Equipo','Cantidad de victorias'], axis='columns')\n",
        "mas_ganadores = mas_ganadores.sort_values(by= 'Cantidad de victorias', ascending = False)\n",
        "mas_ganadores.head(3)"
      ]
    },
    {
      "cell_type": "markdown",
      "id": "7c527804",
      "metadata": {
        "id": "7c527804"
      },
      "source": [
        "## Cantidad de partidos con x goles por torneo"
      ]
    },
    {
      "cell_type": "markdown",
      "id": "05c68471",
      "metadata": {
        "id": "05c68471"
      },
      "source": [
        "También, nos puede interesar la cantidad de goles que se han realizado en un torneo:"
      ]
    },
    {
      "cell_type": "code",
      "execution_count": null,
      "id": "89b66185",
      "metadata": {
        "id": "89b66185"
      },
      "outputs": [],
      "source": [
        "#construimos esta función, a la que le entregamos un marcador (Score) y nos retorna si la cantidad total de goles de ese\n",
        "#marcador es 0, 1, 2, 3 o más de 4.\n",
        "def intervalos(score):\n",
        "    goles = score.split('–')\n",
        "    total_goles = int(goles[0])+int(goles[1])\n",
        "    if total_goles <1:\n",
        "        return '0'\n",
        "    elif total_goles<2:\n",
        "        return '1'\n",
        "    elif total_goles<3:\n",
        "        return '2'\n",
        "    elif total_goles<4:\n",
        "        return '3'\n",
        "    elif total_goles>=4:\n",
        "        return '4+'\n",
        "\n",
        "laliga['Clasificación goles'] = laliga['Score'].apply(intervalos)"
      ]
    },
    {
      "cell_type": "markdown",
      "id": "a6175328",
      "metadata": {
        "id": "a6175328"
      },
      "source": [
        "Queremos saber la cantidad de partidos, por temporada, en que se han convertido 0, 1, 2, 3 o más de 4 goles."
      ]
    },
    {
      "cell_type": "code",
      "execution_count": null,
      "id": "2306393f",
      "metadata": {
        "id": "2306393f",
        "outputId": "5dbde765-d871-4639-e48a-4248fcac9b30"
      },
      "outputs": [
        {
          "data": {
            "text/html": [
              "<div>\n",
              "<style scoped>\n",
              "    .dataframe tbody tr th:only-of-type {\n",
              "        vertical-align: middle;\n",
              "    }\n",
              "\n",
              "    .dataframe tbody tr th {\n",
              "        vertical-align: top;\n",
              "    }\n",
              "\n",
              "    .dataframe thead th {\n",
              "        text-align: right;\n",
              "    }\n",
              "</style>\n",
              "<table border=\"1\" class=\"dataframe\">\n",
              "  <thead>\n",
              "    <tr style=\"text-align: right;\">\n",
              "      <th></th>\n",
              "      <th>Temporada</th>\n",
              "      <th>Cantidad de goles por partido</th>\n",
              "      <th>Cantidad de partidos</th>\n",
              "    </tr>\n",
              "  </thead>\n",
              "  <tbody>\n",
              "    <tr>\n",
              "      <th>0</th>\n",
              "      <td>16/17</td>\n",
              "      <td>0</td>\n",
              "      <td>27</td>\n",
              "    </tr>\n",
              "    <tr>\n",
              "      <th>1</th>\n",
              "      <td>16/17</td>\n",
              "      <td>1</td>\n",
              "      <td>57</td>\n",
              "    </tr>\n",
              "    <tr>\n",
              "      <th>2</th>\n",
              "      <td>16/17</td>\n",
              "      <td>2</td>\n",
              "      <td>82</td>\n",
              "    </tr>\n",
              "    <tr>\n",
              "      <th>3</th>\n",
              "      <td>16/17</td>\n",
              "      <td>3</td>\n",
              "      <td>86</td>\n",
              "    </tr>\n",
              "    <tr>\n",
              "      <th>4</th>\n",
              "      <td>16/17</td>\n",
              "      <td>4+</td>\n",
              "      <td>128</td>\n",
              "    </tr>\n",
              "    <tr>\n",
              "      <th>5</th>\n",
              "      <td>17/18</td>\n",
              "      <td>0</td>\n",
              "      <td>28</td>\n",
              "    </tr>\n",
              "    <tr>\n",
              "      <th>6</th>\n",
              "      <td>17/18</td>\n",
              "      <td>1</td>\n",
              "      <td>82</td>\n",
              "    </tr>\n",
              "    <tr>\n",
              "      <th>7</th>\n",
              "      <td>17/18</td>\n",
              "      <td>2</td>\n",
              "      <td>78</td>\n",
              "    </tr>\n",
              "    <tr>\n",
              "      <th>8</th>\n",
              "      <td>17/18</td>\n",
              "      <td>3</td>\n",
              "      <td>84</td>\n",
              "    </tr>\n",
              "    <tr>\n",
              "      <th>9</th>\n",
              "      <td>17/18</td>\n",
              "      <td>4+</td>\n",
              "      <td>108</td>\n",
              "    </tr>\n",
              "  </tbody>\n",
              "</table>\n",
              "</div>"
            ],
            "text/plain": [
              "  Temporada Cantidad de goles por partido  Cantidad de partidos\n",
              "0     16/17                             0                    27\n",
              "1     16/17                             1                    57\n",
              "2     16/17                             2                    82\n",
              "3     16/17                             3                    86\n",
              "4     16/17                            4+                   128\n",
              "5     17/18                             0                    28\n",
              "6     17/18                             1                    82\n",
              "7     17/18                             2                    78\n",
              "8     17/18                             3                    84\n",
              "9     17/18                            4+                   108"
            ]
          },
          "execution_count": 12,
          "metadata": {},
          "output_type": "execute_result"
        }
      ],
      "source": [
        "cant_goles_pp = laliga.groupby(['Temporada','Clasificación goles'])['Date'].count().reset_index() #agrupamos la información del Dataframe laliga por temporada y clasificación de goles, y contamos cuantos partidos hay en cada agrupación\n",
        "cant_goles_pp = cant_goles_pp.set_axis(['Temporada','Cantidad de goles por partido','Cantidad de partidos'],\n",
        "                axis= 'columns') #nombramos las columnas\n",
        "cant_goles_pp.head(10)"
      ]
    },
    {
      "cell_type": "markdown",
      "id": "b78708a6",
      "metadata": {
        "id": "b78708a6"
      },
      "source": [
        "## Ejercicio formativo 1\n",
        "¿Cuál de las siguientes alternativas corresponde al código que permite agrupar los resultados de localía por equipo?"
      ]
    },
    {
      "cell_type": "code",
      "execution_count": null,
      "id": "cd96b7e0",
      "metadata": {
        "id": "cd96b7e0",
        "outputId": "acd9eb6a-6955-4925-a08f-5ce94f640761"
      },
      "outputs": [
        {
          "data": {
            "text/html": [
              "<div>\n",
              "<style scoped>\n",
              "    .dataframe tbody tr th:only-of-type {\n",
              "        vertical-align: middle;\n",
              "    }\n",
              "\n",
              "    .dataframe tbody tr th {\n",
              "        vertical-align: top;\n",
              "    }\n",
              "\n",
              "    .dataframe thead th {\n",
              "        text-align: right;\n",
              "    }\n",
              "</style>\n",
              "<table border=\"1\" class=\"dataframe\">\n",
              "  <thead>\n",
              "    <tr style=\"text-align: right;\">\n",
              "      <th></th>\n",
              "      <th>Temporada</th>\n",
              "      <th>Local</th>\n",
              "      <th>Visitante</th>\n",
              "      <th>Score</th>\n",
              "    </tr>\n",
              "  </thead>\n",
              "  <tbody>\n",
              "    <tr>\n",
              "      <th>0</th>\n",
              "      <td>16/17</td>\n",
              "      <td>Alavés</td>\n",
              "      <td>Athletic Club</td>\n",
              "      <td>1–0</td>\n",
              "    </tr>\n",
              "    <tr>\n",
              "      <th>1</th>\n",
              "      <td>16/17</td>\n",
              "      <td>Alavés</td>\n",
              "      <td>Atlético Madrid</td>\n",
              "      <td>0–0</td>\n",
              "    </tr>\n",
              "    <tr>\n",
              "      <th>2</th>\n",
              "      <td>16/17</td>\n",
              "      <td>Alavés</td>\n",
              "      <td>Barcelona</td>\n",
              "      <td>0–6</td>\n",
              "    </tr>\n",
              "    <tr>\n",
              "      <th>3</th>\n",
              "      <td>16/17</td>\n",
              "      <td>Alavés</td>\n",
              "      <td>Betis</td>\n",
              "      <td>1–0</td>\n",
              "    </tr>\n",
              "    <tr>\n",
              "      <th>4</th>\n",
              "      <td>16/17</td>\n",
              "      <td>Alavés</td>\n",
              "      <td>Celta Vigo</td>\n",
              "      <td>3–1</td>\n",
              "    </tr>\n",
              "    <tr>\n",
              "      <th>...</th>\n",
              "      <td>...</td>\n",
              "      <td>...</td>\n",
              "      <td>...</td>\n",
              "      <td>...</td>\n",
              "    </tr>\n",
              "    <tr>\n",
              "      <th>2275</th>\n",
              "      <td>21/22</td>\n",
              "      <td>Villarreal</td>\n",
              "      <td>Rayo Vallecano</td>\n",
              "      <td>2–0</td>\n",
              "    </tr>\n",
              "    <tr>\n",
              "      <th>2276</th>\n",
              "      <td>21/22</td>\n",
              "      <td>Villarreal</td>\n",
              "      <td>Real Madrid</td>\n",
              "      <td>0–0</td>\n",
              "    </tr>\n",
              "    <tr>\n",
              "      <th>2277</th>\n",
              "      <td>21/22</td>\n",
              "      <td>Villarreal</td>\n",
              "      <td>Real Sociedad</td>\n",
              "      <td>1–2</td>\n",
              "    </tr>\n",
              "    <tr>\n",
              "      <th>2278</th>\n",
              "      <td>21/22</td>\n",
              "      <td>Villarreal</td>\n",
              "      <td>Sevilla</td>\n",
              "      <td>1–1</td>\n",
              "    </tr>\n",
              "    <tr>\n",
              "      <th>2279</th>\n",
              "      <td>21/22</td>\n",
              "      <td>Villarreal</td>\n",
              "      <td>Valencia</td>\n",
              "      <td>2–0</td>\n",
              "    </tr>\n",
              "  </tbody>\n",
              "</table>\n",
              "<p>2280 rows × 4 columns</p>\n",
              "</div>"
            ],
            "text/plain": [
              "     Temporada       Local        Visitante Score\n",
              "0        16/17      Alavés    Athletic Club   1–0\n",
              "1        16/17      Alavés  Atlético Madrid   0–0\n",
              "2        16/17      Alavés        Barcelona   0–6\n",
              "3        16/17      Alavés            Betis   1–0\n",
              "4        16/17      Alavés       Celta Vigo   3–1\n",
              "...        ...         ...              ...   ...\n",
              "2275     21/22  Villarreal   Rayo Vallecano   2–0\n",
              "2276     21/22  Villarreal      Real Madrid   0–0\n",
              "2277     21/22  Villarreal    Real Sociedad   1–2\n",
              "2278     21/22  Villarreal          Sevilla   1–1\n",
              "2279     21/22  Villarreal         Valencia   2–0\n",
              "\n",
              "[2280 rows x 4 columns]"
            ]
          },
          "execution_count": 13,
          "metadata": {},
          "output_type": "execute_result"
        }
      ],
      "source": [
        "local_result = laliga.groupby(['Temporada','Local','Visitante','Score'])['Wk'].count().reset_index()\n",
        "local_result = local_result.drop('Wk',axis=1)\n",
        "local_result"
      ]
    }
  ],
  "metadata": {
    "kernelspec": {
      "display_name": "Python 3 (ipykernel)",
      "language": "python",
      "name": "python3"
    },
    "language_info": {
      "codemirror_mode": {
        "name": "ipython",
        "version": 3
      },
      "file_extension": ".py",
      "mimetype": "text/x-python",
      "name": "python",
      "nbconvert_exporter": "python",
      "pygments_lexer": "ipython3",
      "version": "3.9.11"
    },
    "colab": {
      "provenance": [],
      "include_colab_link": true
    }
  },
  "nbformat": 4,
  "nbformat_minor": 5
}