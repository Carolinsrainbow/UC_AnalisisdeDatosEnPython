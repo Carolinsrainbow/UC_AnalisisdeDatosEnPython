{
  "cells": [
    {
      "cell_type": "markdown",
      "metadata": {
        "id": "view-in-github",
        "colab_type": "text"
      },
      "source": [
        "<a href=\"https://colab.research.google.com/github/Carolinsrainbow/UC_AnalisisdeDatosEnPython/blob/main/Laboratorio2.ipynb\" target=\"_parent\"><img src=\"https://colab.research.google.com/assets/colab-badge.svg\" alt=\"Open In Colab\"/></a>"
      ]
    },
    {
      "cell_type": "markdown",
      "metadata": {
        "deletable": false,
        "editable": false,
        "nbgrader": {
          "cell_type": "markdown",
          "checksum": "4cd94e54455d60fa7ee533c0a1e762ed",
          "grade": false,
          "grade_id": "cell-18066de3e301101a",
          "locked": true,
          "schema_version": 3,
          "solution": false,
          "task": false
        },
        "id": "41OmY14jp0es"
      },
      "source": [
        "# Laboratorio 2\n",
        "\n",
        "Bienvenido al segundo laboratorio del curso Análisis de Datos en Python.\n",
        "\n",
        "Escribe el código correspondiente para contestar cada una de las preguntas. Fíjate muy bien en el nombre de las variables, ya que de lo contrario, tu trabajo no podrá ser evaluado de manera correcta.\n",
        "\n",
        "Debes ir ejecutando las celdas de codigo en el orden que aparecen, para evitar tener errores. No elimines celdas!!\n",
        "\n",
        "Este trabajo tiene un límite de tiempo que puedes visualizar al inicio de esta pantalla."
      ]
    },
    {
      "cell_type": "markdown",
      "metadata": {
        "deletable": false,
        "editable": false,
        "nbgrader": {
          "cell_type": "markdown",
          "checksum": "35ae1a1536ee65d948e2425419803ce4",
          "grade": false,
          "grade_id": "cell-59299e06f3acacd7",
          "locked": true,
          "schema_version": 3,
          "solution": false,
          "task": false
        },
        "id": "Ofg_C_lWp0eu"
      },
      "source": [
        "### Pregunta 1\n",
        "¿Cuál es el promedio y desviación estándar de la cantidad de basura diaria generada en cada calle?\n",
        "\n",
        "Indicaciones:\n",
        "- Guarda los datos en un dataframe, bajo la variable \"basuraxcalle\"\n",
        "- El dataframe debe tener 3 columnas: \"Calle\", \"Cantidad promedio [kilos de basura]\" y \"Desv est [kilos de basura]\""
      ]
    },
    {
      "cell_type": "code",
      "execution_count": 4,
      "metadata": {
        "deletable": false,
        "nbgrader": {
          "cell_type": "code",
          "checksum": "f801853b9502636a61b9af3911902e7a",
          "grade": false,
          "grade_id": "cell-dda81aaf53003739",
          "locked": false,
          "schema_version": 3,
          "solution": true,
          "task": false
        },
        "colab": {
          "base_uri": "https://localhost:8080/"
        },
        "id": "8HLc8hc3p0eu",
        "outputId": "3d8ec78a-9b21-4666-89ea-f5832b3e2e1a"
      },
      "outputs": [
        {
          "output_type": "stream",
          "name": "stdout",
          "text": [
            "           Calle  Cantidad promedio [kilos de basura]  \\\n",
            "0        Calle 1                             2.982143   \n",
            "1       Calle 10                             3.192857   \n",
            "2      Calle 100                             2.664286   \n",
            "3     Calle 1000                             2.742857   \n",
            "4     Calle 1001                             2.896429   \n",
            "...          ...                                  ...   \n",
            "3235   Calle 995                             3.032143   \n",
            "3236   Calle 996                             2.203571   \n",
            "3237   Calle 997                             2.964286   \n",
            "3238   Calle 998                             2.978571   \n",
            "3239   Calle 999                             2.867857   \n",
            "\n",
            "      Desv est [kilos de basura]  \n",
            "0                       1.209240  \n",
            "1                       1.279447  \n",
            "2                       1.199449  \n",
            "3                       1.211191  \n",
            "4                       1.093578  \n",
            "...                          ...  \n",
            "3235                    1.172858  \n",
            "3236                    0.850918  \n",
            "3237                    1.126520  \n",
            "3238                    1.203500  \n",
            "3239                    0.990717  \n",
            "\n",
            "[3240 rows x 3 columns]\n"
          ]
        }
      ],
      "source": [
        "import pandas as pd\n",
        "import numpy as np\n",
        "\n",
        "ciudad = pd.read_excel('Datos.xlsx',sheet_name = 'Ciudad')\n",
        "basura = pd.read_excel('Datos.xlsx',sheet_name = 'Histórico de basura')\n",
        "\n",
        "basuraxcalle= None\n",
        "\n",
        "# Calcular el promedio y la desviación estándar de la cantidad de basura diaria por calle\n",
        "basuraxcalle = basura.groupby('Calle')['Cantidad [kilos de basura]'].agg(['mean', 'std']).reset_index()\n",
        "\n",
        "# Renombrar las columnas según los requisitos\n",
        "basuraxcalle.columns = ['Calle', 'Cantidad promedio [kilos de basura]', 'Desv est [kilos de basura]']\n",
        "\n",
        "# Mostrar el resultado\n",
        "print(basuraxcalle)"
      ]
    },
    {
      "cell_type": "markdown",
      "metadata": {
        "deletable": false,
        "editable": false,
        "nbgrader": {
          "cell_type": "markdown",
          "checksum": "310f0b4bf1603ebb2b10cdd0a752ba09",
          "grade": false,
          "grade_id": "cell-1f0ffd56e32b4501",
          "locked": true,
          "schema_version": 3,
          "solution": false,
          "task": false
        },
        "id": "ImnCtLg0p0ev"
      },
      "source": [
        "Revisemos que el dataframe haya quedado bien creado, la siguiente celda no tiene puntaje, pero te servirá para que puedas revisar que hayas creado bien tu dataframe"
      ]
    },
    {
      "cell_type": "code",
      "execution_count": 15,
      "metadata": {
        "deletable": false,
        "editable": false,
        "nbgrader": {
          "cell_type": "code",
          "checksum": "db6764cf69d56020031fb3e79bbac6e0",
          "grade": true,
          "grade_id": "cell-95148aaafa01598e",
          "locked": true,
          "points": 0,
          "schema_version": 3,
          "solution": false,
          "task": false
        },
        "id": "swtprby5p0ew"
      },
      "outputs": [],
      "source": [
        "assert list(basuraxcalle.columns) == ['Calle', 'Cantidad promedio [kilos de basura]', 'Desv est [kilos de basura]'], \"Los nombres de las columnas son incorrectos\""
      ]
    },
    {
      "cell_type": "code",
      "execution_count": 16,
      "metadata": {
        "deletable": false,
        "editable": false,
        "nbgrader": {
          "cell_type": "code",
          "checksum": "9078f559d74e46ba986f7d67f7eb896b",
          "grade": false,
          "grade_id": "cell-ccc3ecbb0e2c2e9d",
          "locked": true,
          "schema_version": 3,
          "solution": false,
          "task": false
        },
        "colab": {
          "base_uri": "https://localhost:8080/",
          "height": 80
        },
        "id": "nJ3jEe53p0ew",
        "outputId": "efbb7198-a625-4f24-e666-5a6d536ed3a9"
      },
      "outputs": [
        {
          "output_type": "execute_result",
          "data": {
            "text/plain": [
              "     Calle  Cantidad promedio [kilos de basura]  Desv est [kilos de basura]\n",
              "0  Calle 1                             2.982143                     1.20924"
            ],
            "text/html": [
              "\n",
              "  <div id=\"df-e18ddc63-3b22-4eb7-9aef-0f8e9162c4ff\" class=\"colab-df-container\">\n",
              "    <div>\n",
              "<style scoped>\n",
              "    .dataframe tbody tr th:only-of-type {\n",
              "        vertical-align: middle;\n",
              "    }\n",
              "\n",
              "    .dataframe tbody tr th {\n",
              "        vertical-align: top;\n",
              "    }\n",
              "\n",
              "    .dataframe thead th {\n",
              "        text-align: right;\n",
              "    }\n",
              "</style>\n",
              "<table border=\"1\" class=\"dataframe\">\n",
              "  <thead>\n",
              "    <tr style=\"text-align: right;\">\n",
              "      <th></th>\n",
              "      <th>Calle</th>\n",
              "      <th>Cantidad promedio [kilos de basura]</th>\n",
              "      <th>Desv est [kilos de basura]</th>\n",
              "    </tr>\n",
              "  </thead>\n",
              "  <tbody>\n",
              "    <tr>\n",
              "      <th>0</th>\n",
              "      <td>Calle 1</td>\n",
              "      <td>2.982143</td>\n",
              "      <td>1.20924</td>\n",
              "    </tr>\n",
              "  </tbody>\n",
              "</table>\n",
              "</div>\n",
              "    <div class=\"colab-df-buttons\">\n",
              "\n",
              "  <div class=\"colab-df-container\">\n",
              "    <button class=\"colab-df-convert\" onclick=\"convertToInteractive('df-e18ddc63-3b22-4eb7-9aef-0f8e9162c4ff')\"\n",
              "            title=\"Convert this dataframe to an interactive table.\"\n",
              "            style=\"display:none;\">\n",
              "\n",
              "  <svg xmlns=\"http://www.w3.org/2000/svg\" height=\"24px\" viewBox=\"0 -960 960 960\">\n",
              "    <path d=\"M120-120v-720h720v720H120Zm60-500h600v-160H180v160Zm220 220h160v-160H400v160Zm0 220h160v-160H400v160ZM180-400h160v-160H180v160Zm440 0h160v-160H620v160ZM180-180h160v-160H180v160Zm440 0h160v-160H620v160Z\"/>\n",
              "  </svg>\n",
              "    </button>\n",
              "\n",
              "  <style>\n",
              "    .colab-df-container {\n",
              "      display:flex;\n",
              "      gap: 12px;\n",
              "    }\n",
              "\n",
              "    .colab-df-convert {\n",
              "      background-color: #E8F0FE;\n",
              "      border: none;\n",
              "      border-radius: 50%;\n",
              "      cursor: pointer;\n",
              "      display: none;\n",
              "      fill: #1967D2;\n",
              "      height: 32px;\n",
              "      padding: 0 0 0 0;\n",
              "      width: 32px;\n",
              "    }\n",
              "\n",
              "    .colab-df-convert:hover {\n",
              "      background-color: #E2EBFA;\n",
              "      box-shadow: 0px 1px 2px rgba(60, 64, 67, 0.3), 0px 1px 3px 1px rgba(60, 64, 67, 0.15);\n",
              "      fill: #174EA6;\n",
              "    }\n",
              "\n",
              "    .colab-df-buttons div {\n",
              "      margin-bottom: 4px;\n",
              "    }\n",
              "\n",
              "    [theme=dark] .colab-df-convert {\n",
              "      background-color: #3B4455;\n",
              "      fill: #D2E3FC;\n",
              "    }\n",
              "\n",
              "    [theme=dark] .colab-df-convert:hover {\n",
              "      background-color: #434B5C;\n",
              "      box-shadow: 0px 1px 3px 1px rgba(0, 0, 0, 0.15);\n",
              "      filter: drop-shadow(0px 1px 2px rgba(0, 0, 0, 0.3));\n",
              "      fill: #FFFFFF;\n",
              "    }\n",
              "  </style>\n",
              "\n",
              "    <script>\n",
              "      const buttonEl =\n",
              "        document.querySelector('#df-e18ddc63-3b22-4eb7-9aef-0f8e9162c4ff button.colab-df-convert');\n",
              "      buttonEl.style.display =\n",
              "        google.colab.kernel.accessAllowed ? 'block' : 'none';\n",
              "\n",
              "      async function convertToInteractive(key) {\n",
              "        const element = document.querySelector('#df-e18ddc63-3b22-4eb7-9aef-0f8e9162c4ff');\n",
              "        const dataTable =\n",
              "          await google.colab.kernel.invokeFunction('convertToInteractive',\n",
              "                                                    [key], {});\n",
              "        if (!dataTable) return;\n",
              "\n",
              "        const docLinkHtml = 'Like what you see? Visit the ' +\n",
              "          '<a target=\"_blank\" href=https://colab.research.google.com/notebooks/data_table.ipynb>data table notebook</a>'\n",
              "          + ' to learn more about interactive tables.';\n",
              "        element.innerHTML = '';\n",
              "        dataTable['output_type'] = 'display_data';\n",
              "        await google.colab.output.renderOutput(dataTable, element);\n",
              "        const docLink = document.createElement('div');\n",
              "        docLink.innerHTML = docLinkHtml;\n",
              "        element.appendChild(docLink);\n",
              "      }\n",
              "    </script>\n",
              "  </div>\n",
              "\n",
              "\n",
              "    </div>\n",
              "  </div>\n"
            ],
            "application/vnd.google.colaboratory.intrinsic+json": {
              "type": "dataframe",
              "summary": "{\n  \"name\": \"basuraxcalle[basuraxcalle['Calle'] == \\\"Calle 1\\\"]\",\n  \"rows\": 1,\n  \"fields\": [\n    {\n      \"column\": \"Calle\",\n      \"properties\": {\n        \"dtype\": \"string\",\n        \"num_unique_values\": 1,\n        \"samples\": [\n          \"Calle 1\"\n        ],\n        \"semantic_type\": \"\",\n        \"description\": \"\"\n      }\n    },\n    {\n      \"column\": \"Cantidad promedio [kilos de basura]\",\n      \"properties\": {\n        \"dtype\": \"number\",\n        \"std\": null,\n        \"min\": 2.982142857142857,\n        \"max\": 2.982142857142857,\n        \"num_unique_values\": 1,\n        \"samples\": [\n          2.982142857142857\n        ],\n        \"semantic_type\": \"\",\n        \"description\": \"\"\n      }\n    },\n    {\n      \"column\": \"Desv est [kilos de basura]\",\n      \"properties\": {\n        \"dtype\": \"number\",\n        \"std\": null,\n        \"min\": 1.2092402179723867,\n        \"max\": 1.2092402179723867,\n        \"num_unique_values\": 1,\n        \"samples\": [\n          1.2092402179723867\n        ],\n        \"semantic_type\": \"\",\n        \"description\": \"\"\n      }\n    }\n  ]\n}"
            }
          },
          "metadata": {},
          "execution_count": 16
        }
      ],
      "source": [
        "basuraxcalle[basuraxcalle['Calle'] == \"Calle 1\"]"
      ]
    },
    {
      "cell_type": "markdown",
      "metadata": {
        "deletable": false,
        "editable": false,
        "nbgrader": {
          "cell_type": "markdown",
          "checksum": "21cc1ddeb00ec60a11100273808063c7",
          "grade": false,
          "grade_id": "cell-23e6d0e861927a3e",
          "locked": true,
          "schema_version": 3,
          "solution": false,
          "task": false
        },
        "id": "RXh8LjsVp0ew"
      },
      "source": [
        "El resultado para la Calle 1 deberia ser\n",
        "\n",
        "\n",
        "|Calle   | Cantidad promedio [kilos de basura]\t  | Desv est [kilos de basura]  |\n",
        "|---|---|---|\n",
        "|Calle 1  | 2.982143  | 1.20924  |\n",
        "\n",
        "No es necesario que redondees el numero de promedio o desviacion estandar, ni que hagas ninguna operación con el: guardalo en el dataframe tal cual lo entregue el calculo.\n",
        "\n",
        "Revisemos que hayas calculado bien el promedio y desviacion para la calle 1:"
      ]
    },
    {
      "cell_type": "code",
      "execution_count": 17,
      "metadata": {
        "deletable": false,
        "editable": false,
        "nbgrader": {
          "cell_type": "code",
          "checksum": "819b0d2f4ba9bed6ac2bb855859e0fb9",
          "grade": true,
          "grade_id": "cell-a067e55372584fa7",
          "locked": true,
          "points": 2,
          "schema_version": 3,
          "solution": false,
          "task": false
        },
        "id": "5oDVaAcTp0ew"
      },
      "outputs": [],
      "source": [
        "assert np.round(basuraxcalle[basuraxcalle['Calle'] == \"Calle 1\"][\"Cantidad promedio [kilos de basura]\"].values,2) == [[2.98]], \"Fallo en el promedio\"\n",
        "assert np.round(basuraxcalle[basuraxcalle['Calle'] == \"Calle 1\"][\"Desv est [kilos de basura]\"].values,2) == [[1.21]], \"Fallo en la desviacion estandar\""
      ]
    },
    {
      "cell_type": "markdown",
      "metadata": {
        "deletable": false,
        "editable": false,
        "nbgrader": {
          "cell_type": "markdown",
          "checksum": "7129a86c28f549d0ec7fadb65ccc1323",
          "grade": false,
          "grade_id": "cell-a78be541c30ece9c",
          "locked": true,
          "schema_version": 3,
          "solution": false,
          "task": false
        },
        "id": "bd22cd6Ip0ex"
      },
      "source": [
        "La siguiente celda hace tests ocultos, en el mismo formato del anterior pero para otras calles seleccionadas al azar! No modifiques, muevas ni elimines la celda"
      ]
    },
    {
      "cell_type": "code",
      "execution_count": null,
      "metadata": {
        "deletable": false,
        "editable": false,
        "nbgrader": {
          "cell_type": "code",
          "checksum": "4669dd059c3d9141fbce5a8eb6345328",
          "grade": true,
          "grade_id": "cell-066d423332379478",
          "locked": true,
          "points": 8,
          "schema_version": 3,
          "solution": false,
          "task": false
        },
        "id": "CgS1ZRThp0ex"
      },
      "outputs": [],
      "source": [
        "\n"
      ]
    },
    {
      "cell_type": "markdown",
      "metadata": {
        "deletable": false,
        "editable": false,
        "nbgrader": {
          "cell_type": "markdown",
          "checksum": "6f3275b8f4acff637c864169ef29906a",
          "grade": false,
          "grade_id": "cell-db9a73dba8084824",
          "locked": true,
          "schema_version": 3,
          "solution": false,
          "task": false
        },
        "id": "H5cN2Qtyp0ex"
      },
      "source": [
        "### Pregunta 2\n",
        "\n",
        "Se define como **calle “intensa”** a aquellas calles cuyo promedio diario de basura generada es **estrictamente mayor a 2,92 kilos por día**.\n",
        "\n",
        "¿Cuántas de las calles serían consideradas intensas (en función de los datos históricos de 28 días)?\n",
        "\n",
        "Guarda la cantidad de calles intensas en la variable c_intensas, en formato int.\n",
        "\n",
        "NO DEBES REDONDEAR NI APROXIMAR EL PROMEDIO PARA HACER LA CLASIFICACION!!\n",
        "\n",
        "**Hint: usa el dataframe que construiste para la pregunta anterior!**"
      ]
    },
    {
      "cell_type": "code",
      "execution_count": 18,
      "metadata": {
        "deletable": false,
        "nbgrader": {
          "cell_type": "code",
          "checksum": "383e640f598c8f82f510a346ae697df2",
          "grade": false,
          "grade_id": "cell-f9d923697c5db145",
          "locked": false,
          "schema_version": 3,
          "solution": true,
          "task": false
        },
        "colab": {
          "base_uri": "https://localhost:8080/"
        },
        "id": "JB2Ne4vap0ex",
        "outputId": "d68e109a-1fa9-4515-bb62-7f0568d6c6ce"
      },
      "outputs": [
        {
          "output_type": "execute_result",
          "data": {
            "text/plain": [
              "1657"
            ]
          },
          "metadata": {},
          "execution_count": 18
        }
      ],
      "source": [
        "c_intensas=0\n",
        "\n",
        "# your code here\n",
        "#raise NotImplementedError\n",
        "\n",
        "#En base a la anterior, se saca el filtro de mayor estricto que 2.92\n",
        "calles_intensas = basuraxcalle[basuraxcalle['Cantidad promedio [kilos de basura]'] >= 2.92]\n",
        "\n",
        "# Contar la cantidad de calles intensas\n",
        "c_intensas = int(calles_intensas.shape[0])\n",
        "c_intensas"
      ]
    },
    {
      "cell_type": "markdown",
      "metadata": {
        "deletable": false,
        "editable": false,
        "nbgrader": {
          "cell_type": "markdown",
          "checksum": "54ac5094a64997c8e5892bb7289fc948",
          "grade": false,
          "grade_id": "cell-167174a2da111295",
          "locked": true,
          "schema_version": 3,
          "solution": false,
          "task": false
        },
        "id": "j2jBIp26p0ey"
      },
      "source": [
        "La siguiente celda hace tests ocultos. No modifiques, muevas ni elimines la celda"
      ]
    },
    {
      "cell_type": "code",
      "execution_count": null,
      "metadata": {
        "deletable": false,
        "editable": false,
        "nbgrader": {
          "cell_type": "code",
          "checksum": "91089e08d026e56ab74c42eaef647681",
          "grade": true,
          "grade_id": "cell-348871e962d7eb31",
          "locked": true,
          "points": 10,
          "schema_version": 3,
          "solution": false,
          "task": false
        },
        "id": "tVTEamzcp0ey"
      },
      "outputs": [],
      "source": []
    },
    {
      "cell_type": "markdown",
      "metadata": {
        "deletable": false,
        "editable": false,
        "nbgrader": {
          "cell_type": "markdown",
          "checksum": "68b9a38bd4443d3d74fb7089a2c57110",
          "grade": false,
          "grade_id": "cell-f96dce220a644269",
          "locked": true,
          "schema_version": 3,
          "solution": false,
          "task": false
        },
        "id": "3rqH-1ihp0ey"
      },
      "source": [
        "### Pregunta 3\n",
        "\n",
        "En el dataframe `ciudad` hay datos de las coordenadas donde comienzan y terminan las calles.\n",
        "\n",
        "La comuna comienza en la coordenada 0 y termina en la coordenada 40, tanto para X como para Y. Si se divide territorialmente la comuna de la siguiente manera:\n",
        "\n",
        "#### a. En X, desde la coordenada 0 a la 22 (inclusive) se define Oeste (O)\n",
        "#### b. En X, desde la coordenada 23 a la 40 (inclusive) se define Este (E)\n",
        "#### c. En Y, desde la coordenada 0 a la 27 (inclusive) se define Norte (N)\n",
        "#### d. En Y, desde la coordenada 28 a la 40 (inclusive) se define Sur (S)\n",
        "\n",
        "Considerando esta división territorial, las calles de la comuna se clasifican como zonas: N-E, N-O, S-E, S-O.\n",
        "\n",
        "Puede suceder que alguna calle comience en una zona y termine en otra. Veamos un ejemplo!"
      ]
    },
    {
      "cell_type": "markdown",
      "metadata": {
        "deletable": false,
        "editable": false,
        "nbgrader": {
          "cell_type": "markdown",
          "checksum": "47ca55aa5325d42e54a8f6d66ede32fa",
          "grade": false,
          "grade_id": "cell-2bb97f4eef64adca",
          "locked": true,
          "schema_version": 3,
          "solution": false,
          "task": false
        },
        "id": "6aheWjMfp0ey"
      },
      "source": [
        "Primero renombremos las columnas"
      ]
    },
    {
      "cell_type": "code",
      "execution_count": 19,
      "metadata": {
        "deletable": false,
        "editable": false,
        "nbgrader": {
          "cell_type": "code",
          "checksum": "f0b17f7d95d6405e994ff4bc9b3b36cb",
          "grade": false,
          "grade_id": "cell-b7db3e3314669f5e",
          "locked": true,
          "schema_version": 3,
          "solution": false,
          "task": false
        },
        "id": "XZStoXasp0ey"
      },
      "outputs": [],
      "source": [
        "ciudad = ciudad.rename(columns = {'Se considera que la ciudad comienza en la esquina inferior izquierda de la cuadrícula que la representa, y entonces: X=0 e Y=0':'Calle',\n",
        "          'Coordenada (X,Y) donde comienza la calle':'Coordenada inicial',\n",
        "       'Coordenada (X,Y) donde termina la calle':'Coordenada final'})"
      ]
    },
    {
      "cell_type": "markdown",
      "metadata": {
        "deletable": false,
        "editable": false,
        "nbgrader": {
          "cell_type": "markdown",
          "checksum": "04159eebf93460cbcc639d56496fe800",
          "grade": false,
          "grade_id": "cell-8e1ce96ec97d73be",
          "locked": true,
          "schema_version": 3,
          "solution": false,
          "task": false
        },
        "id": "3E1ws1ZXp0ez"
      },
      "source": [
        "Ahora veamos por ejemplo la calle 28"
      ]
    },
    {
      "cell_type": "code",
      "execution_count": 20,
      "metadata": {
        "deletable": false,
        "editable": false,
        "nbgrader": {
          "cell_type": "code",
          "checksum": "cc493a92a1601a20e74e463f321a1ad4",
          "grade": false,
          "grade_id": "cell-d959a796e40924f5",
          "locked": true,
          "schema_version": 3,
          "solution": false,
          "task": false
        },
        "colab": {
          "base_uri": "https://localhost:8080/",
          "height": 80
        },
        "id": "MwREJdXRp0ez",
        "outputId": "9f9be208-8268-43db-936e-5fe1e98e5a98"
      },
      "outputs": [
        {
          "output_type": "execute_result",
          "data": {
            "text/plain": [
              "       Calle Coordenada inicial Coordenada final  Unnamed: 3 Unnamed: 4\n",
              "27  Calle 28             (0,27)           (0,28)         NaN        NaN"
            ],
            "text/html": [
              "\n",
              "  <div id=\"df-c23b2ff0-a21c-4353-ad76-18bac12a3d5a\" class=\"colab-df-container\">\n",
              "    <div>\n",
              "<style scoped>\n",
              "    .dataframe tbody tr th:only-of-type {\n",
              "        vertical-align: middle;\n",
              "    }\n",
              "\n",
              "    .dataframe tbody tr th {\n",
              "        vertical-align: top;\n",
              "    }\n",
              "\n",
              "    .dataframe thead th {\n",
              "        text-align: right;\n",
              "    }\n",
              "</style>\n",
              "<table border=\"1\" class=\"dataframe\">\n",
              "  <thead>\n",
              "    <tr style=\"text-align: right;\">\n",
              "      <th></th>\n",
              "      <th>Calle</th>\n",
              "      <th>Coordenada inicial</th>\n",
              "      <th>Coordenada final</th>\n",
              "      <th>Unnamed: 3</th>\n",
              "      <th>Unnamed: 4</th>\n",
              "    </tr>\n",
              "  </thead>\n",
              "  <tbody>\n",
              "    <tr>\n",
              "      <th>27</th>\n",
              "      <td>Calle 28</td>\n",
              "      <td>(0,27)</td>\n",
              "      <td>(0,28)</td>\n",
              "      <td>NaN</td>\n",
              "      <td>NaN</td>\n",
              "    </tr>\n",
              "  </tbody>\n",
              "</table>\n",
              "</div>\n",
              "    <div class=\"colab-df-buttons\">\n",
              "\n",
              "  <div class=\"colab-df-container\">\n",
              "    <button class=\"colab-df-convert\" onclick=\"convertToInteractive('df-c23b2ff0-a21c-4353-ad76-18bac12a3d5a')\"\n",
              "            title=\"Convert this dataframe to an interactive table.\"\n",
              "            style=\"display:none;\">\n",
              "\n",
              "  <svg xmlns=\"http://www.w3.org/2000/svg\" height=\"24px\" viewBox=\"0 -960 960 960\">\n",
              "    <path d=\"M120-120v-720h720v720H120Zm60-500h600v-160H180v160Zm220 220h160v-160H400v160Zm0 220h160v-160H400v160ZM180-400h160v-160H180v160Zm440 0h160v-160H620v160ZM180-180h160v-160H180v160Zm440 0h160v-160H620v160Z\"/>\n",
              "  </svg>\n",
              "    </button>\n",
              "\n",
              "  <style>\n",
              "    .colab-df-container {\n",
              "      display:flex;\n",
              "      gap: 12px;\n",
              "    }\n",
              "\n",
              "    .colab-df-convert {\n",
              "      background-color: #E8F0FE;\n",
              "      border: none;\n",
              "      border-radius: 50%;\n",
              "      cursor: pointer;\n",
              "      display: none;\n",
              "      fill: #1967D2;\n",
              "      height: 32px;\n",
              "      padding: 0 0 0 0;\n",
              "      width: 32px;\n",
              "    }\n",
              "\n",
              "    .colab-df-convert:hover {\n",
              "      background-color: #E2EBFA;\n",
              "      box-shadow: 0px 1px 2px rgba(60, 64, 67, 0.3), 0px 1px 3px 1px rgba(60, 64, 67, 0.15);\n",
              "      fill: #174EA6;\n",
              "    }\n",
              "\n",
              "    .colab-df-buttons div {\n",
              "      margin-bottom: 4px;\n",
              "    }\n",
              "\n",
              "    [theme=dark] .colab-df-convert {\n",
              "      background-color: #3B4455;\n",
              "      fill: #D2E3FC;\n",
              "    }\n",
              "\n",
              "    [theme=dark] .colab-df-convert:hover {\n",
              "      background-color: #434B5C;\n",
              "      box-shadow: 0px 1px 3px 1px rgba(0, 0, 0, 0.15);\n",
              "      filter: drop-shadow(0px 1px 2px rgba(0, 0, 0, 0.3));\n",
              "      fill: #FFFFFF;\n",
              "    }\n",
              "  </style>\n",
              "\n",
              "    <script>\n",
              "      const buttonEl =\n",
              "        document.querySelector('#df-c23b2ff0-a21c-4353-ad76-18bac12a3d5a button.colab-df-convert');\n",
              "      buttonEl.style.display =\n",
              "        google.colab.kernel.accessAllowed ? 'block' : 'none';\n",
              "\n",
              "      async function convertToInteractive(key) {\n",
              "        const element = document.querySelector('#df-c23b2ff0-a21c-4353-ad76-18bac12a3d5a');\n",
              "        const dataTable =\n",
              "          await google.colab.kernel.invokeFunction('convertToInteractive',\n",
              "                                                    [key], {});\n",
              "        if (!dataTable) return;\n",
              "\n",
              "        const docLinkHtml = 'Like what you see? Visit the ' +\n",
              "          '<a target=\"_blank\" href=https://colab.research.google.com/notebooks/data_table.ipynb>data table notebook</a>'\n",
              "          + ' to learn more about interactive tables.';\n",
              "        element.innerHTML = '';\n",
              "        dataTable['output_type'] = 'display_data';\n",
              "        await google.colab.output.renderOutput(dataTable, element);\n",
              "        const docLink = document.createElement('div');\n",
              "        docLink.innerHTML = docLinkHtml;\n",
              "        element.appendChild(docLink);\n",
              "      }\n",
              "    </script>\n",
              "  </div>\n",
              "\n",
              "\n",
              "    </div>\n",
              "  </div>\n"
            ],
            "application/vnd.google.colaboratory.intrinsic+json": {
              "type": "dataframe",
              "repr_error": "0"
            }
          },
          "metadata": {},
          "execution_count": 20
        }
      ],
      "source": [
        "ciudad[ciudad[\"Calle\"] == \"Calle 28\"]"
      ]
    },
    {
      "cell_type": "markdown",
      "metadata": {
        "deletable": false,
        "editable": false,
        "nbgrader": {
          "cell_type": "markdown",
          "checksum": "28e88693cbf254051cecf18816217ef9",
          "grade": false,
          "grade_id": "cell-d451a9ac1873d13c",
          "locked": true,
          "schema_version": 3,
          "solution": false,
          "task": false
        },
        "id": "OSD1mOhsp0ez"
      },
      "source": [
        "Esta calle comienza en la coordenada (0,27), pero termina en (0,28). Esto quiere decir, que empieza en la zona N-O, pero termina en la zona S-O. Esta es una clase que no se puede clasificar!!"
      ]
    },
    {
      "cell_type": "markdown",
      "metadata": {
        "deletable": false,
        "editable": false,
        "nbgrader": {
          "cell_type": "markdown",
          "checksum": "e007bebc5683047e7a6a24a41ab2e6b3",
          "grade": false,
          "grade_id": "cell-3b4c87540d3122d8",
          "locked": true,
          "schema_version": 3,
          "solution": false,
          "task": false
        },
        "id": "kiJhrXWvp0ez"
      },
      "source": [
        "A continuacion, guarda en la variable `sin_clasificar` la cantidad de calles que no pueden ser clasificadas en una zona, es decir, que comiencen en una y terminen en otra. El formato debe ser int"
      ]
    },
    {
      "cell_type": "code",
      "execution_count": 29,
      "metadata": {
        "deletable": false,
        "nbgrader": {
          "cell_type": "code",
          "checksum": "b5aa3e921368e6f37fc86e42e4919fb2",
          "grade": false,
          "grade_id": "cell-ff071714e7279562",
          "locked": false,
          "schema_version": 3,
          "solution": true,
          "task": false
        },
        "colab": {
          "base_uri": "https://localhost:8080/"
        },
        "id": "vOY_qw4Lp0ez",
        "outputId": "8ab7f8b0-b98a-4279-fb2d-4548fc2d92ee"
      },
      "outputs": [
        {
          "output_type": "stream",
          "name": "stdout",
          "text": [
            "82\n"
          ]
        }
      ],
      "source": [
        "sin_clasificar=None\n",
        "# your code here\n",
        "#raise NotImplementedError\n",
        "\n",
        "def determinar_zona(coordenada):\n",
        "    x, y = coordenada\n",
        "    if x <= 22:\n",
        "        x_zona = 'O'\n",
        "    else:\n",
        "        x_zona = 'E'\n",
        "\n",
        "    if y <= 27:\n",
        "        y_zona = 'N'\n",
        "    else:\n",
        "        y_zona = 'S'\n",
        "\n",
        "    return y_zona + '-' + x_zona\n",
        "\n",
        "# Verificar y convertir coordenadas iniciales y finales a tuplas de enteros\n",
        "ciudad['Coordenada inicial'] = ciudad['Coordenada inicial'].apply(lambda x: tuple(map(int, x.strip('()').split(','))) if isinstance(x, str) else x)\n",
        "ciudad['Coordenada final'] = ciudad['Coordenada final'].apply(lambda x: tuple(map(int, x.strip('()').split(','))) if isinstance(x, str) else x)\n",
        "\n",
        "# Determinar las zonas para coordenadas iniciales y finales\n",
        "ciudad['Zona inicial'] = ciudad['Coordenada inicial'].apply(determinar_zona)\n",
        "ciudad['Zona final'] = ciudad['Coordenada final'].apply(determinar_zona)\n",
        "\n",
        "# Contar las calles que no pueden ser clasificadas en una sola zona\n",
        "sin_clasificar = ciudad[ciudad['Zona inicial'] != ciudad['Zona final']].shape[0]\n",
        "\n",
        "# Mostrar la cantidad de calles sin clasificar\n",
        "print(sin_clasificar)"
      ]
    },
    {
      "cell_type": "markdown",
      "metadata": {
        "deletable": false,
        "editable": false,
        "nbgrader": {
          "cell_type": "markdown",
          "checksum": "514f8e198bdf84f79a00feec81c70f2c",
          "grade": false,
          "grade_id": "cell-59e8190d0d990fcf",
          "locked": true,
          "schema_version": 3,
          "solution": false,
          "task": false
        },
        "id": "2EQnlLWFp0e0"
      },
      "source": [
        "La siguiente celda hace tests ocultos. No modifiques, muevas ni elimines la celda"
      ]
    },
    {
      "cell_type": "code",
      "execution_count": null,
      "metadata": {
        "deletable": false,
        "editable": false,
        "nbgrader": {
          "cell_type": "code",
          "checksum": "d478ff9e6af950e6bb0149dedd23dfaa",
          "grade": true,
          "grade_id": "cell-f822d00afc85380f",
          "locked": true,
          "points": 10,
          "schema_version": 3,
          "solution": false,
          "task": false
        },
        "id": "mVRfUmtSp0e0"
      },
      "outputs": [],
      "source": [
        "\n"
      ]
    },
    {
      "cell_type": "markdown",
      "metadata": {
        "deletable": false,
        "editable": false,
        "nbgrader": {
          "cell_type": "markdown",
          "checksum": "4e929738af62364d208f9bde90a78bd7",
          "grade": false,
          "grade_id": "cell-0ad77e496d8434f4",
          "locked": true,
          "schema_version": 3,
          "solution": false,
          "task": false
        },
        "id": "rn4EfFQXp0e0"
      },
      "source": [
        "### Pregunta 4\n",
        "Considerando la clasificación anterior,\n",
        "¿cuántas calles quedan clasificadas en cada zona?\n",
        "\n",
        "Para contestar, genera un dataframe que tenga 2 columnas: Clasificacion y Calle. Dicho df debe ser almacenado en la variable \"callesxzona\".\n",
        "\n",
        "Los valores para clasificacion son: \"N-E\", \"N-O\", \"No clasificado\", \"S-E\", \"S-O\"\n",
        "\n",
        "Ejemplo del dataframe:\n",
        "\n",
        "|Clasificacion|Calle|\n",
        "|---|---|\n",
        "|N-E| 0|\n",
        "|N-O| 0|\n",
        "|No clasificado| 0|\n",
        "|S-E| 0|\n",
        "|S-O| 0|\n",
        "\n"
      ]
    },
    {
      "cell_type": "code",
      "execution_count": 30,
      "metadata": {
        "deletable": false,
        "nbgrader": {
          "cell_type": "code",
          "checksum": "3a9d561750df1f814a68759f6d6c1cfc",
          "grade": false,
          "grade_id": "cell-cf9048141a7f6413",
          "locked": false,
          "schema_version": 3,
          "solution": true,
          "task": false
        },
        "colab": {
          "base_uri": "https://localhost:8080/"
        },
        "id": "fZvF4pFkp0e0",
        "outputId": "9d82d991-2560-45c2-bca0-c96839a0db57"
      },
      "outputs": [
        {
          "output_type": "stream",
          "name": "stdout",
          "text": [
            "    Clasificacion  Calle\n",
            "0             N-E    962\n",
            "1             N-O   1210\n",
            "2             S-E    437\n",
            "3             S-O    549\n",
            "4  No clasificado     82\n"
          ]
        }
      ],
      "source": [
        "callesxzona=None\n",
        "# your code here\n",
        "#raise NotImplementedError\n",
        "\n",
        "\n"
      ]
    },
    {
      "cell_type": "code",
      "source": [
        "# Crear el DataFrame para la clasificación de calles por zona\n",
        "ciudad['Clasificacion'] = ciudad.apply(lambda row: row['Zona inicial'] if row['Zona inicial'] == row['Zona final'] else 'No clasificado', axis=1)\n",
        "\n",
        "# Contar cuántas calles hay en cada clasificación\n",
        "callesxzona = ciudad['Clasificacion'].value_counts().reset_index()\n",
        "callesxzona.columns = ['Clasificacion', 'Calle']\n",
        "\n",
        "# Asegurar que todas las clasificaciones están presentes en el DataFrame\n",
        "clasificaciones = ['N-E', 'N-O', 'S-E', 'S-O', 'No clasificado']\n",
        "for clas in clasificaciones:\n",
        "    if clas not in callesxzona['Clasificacion'].values:\n",
        "        callesxzona = callesxzona.append({'Clasificacion': clas, 'Calle': 0}, ignore_index=True)\n",
        "\n",
        "# Ordenar el DataFrame por clasificación\n",
        "callesxzona = callesxzona.set_index('Clasificacion').reindex(clasificaciones).reset_index()\n"
      ],
      "metadata": {
        "id": "YZxxBwDB6L2a"
      },
      "execution_count": 36,
      "outputs": []
    },
    {
      "cell_type": "markdown",
      "metadata": {
        "deletable": false,
        "editable": false,
        "nbgrader": {
          "cell_type": "markdown",
          "checksum": "820c669c5665233ad3ca83654d0e4e1a",
          "grade": false,
          "grade_id": "cell-2d207beb927816ae",
          "locked": true,
          "schema_version": 3,
          "solution": false,
          "task": false
        },
        "id": "ors5aThtp0e1"
      },
      "source": [
        "Revisa que hayas creado bien el dataframe!"
      ]
    },
    {
      "cell_type": "code",
      "execution_count": 37,
      "metadata": {
        "deletable": false,
        "editable": false,
        "nbgrader": {
          "cell_type": "code",
          "checksum": "2a46c5c8a1c363477f60c81a5e0f49a2",
          "grade": false,
          "grade_id": "cell-547902c141c9d36e",
          "locked": true,
          "schema_version": 3,
          "solution": false,
          "task": false
        },
        "colab": {
          "base_uri": "https://localhost:8080/"
        },
        "id": "A0oMZ_L5p0e1",
        "outputId": "009e5a56-92a7-4aac-e461-0ac2d545b092"
      },
      "outputs": [
        {
          "output_type": "stream",
          "name": "stdout",
          "text": [
            "True\n",
            "True\n"
          ]
        }
      ],
      "source": [
        "print(list(callesxzona.columns) == ['Clasificacion', 'Calle'])\n",
        "\n",
        "clasificaciones = list(callesxzona[\"Clasificacion\"].values)\n",
        "clasificaciones.sort()\n",
        "\n",
        "print(clasificaciones == ['N-E', 'N-O', 'No clasificado', 'S-E', 'S-O'])"
      ]
    },
    {
      "cell_type": "markdown",
      "metadata": {
        "deletable": false,
        "editable": false,
        "nbgrader": {
          "cell_type": "markdown",
          "checksum": "baca2fda73e2bd54e95769df5f6d8356",
          "grade": false,
          "grade_id": "cell-50afdc0ba0747458",
          "locked": true,
          "schema_version": 3,
          "solution": false,
          "task": false
        },
        "id": "GMBHNM6tp0e1"
      },
      "source": [
        "Comenzamos con un test visible!"
      ]
    },
    {
      "cell_type": "code",
      "execution_count": 38,
      "metadata": {
        "deletable": false,
        "editable": false,
        "nbgrader": {
          "cell_type": "code",
          "checksum": "56d0f4c0bbf449a02c199a7b866f22b4",
          "grade": true,
          "grade_id": "cell-a752ee97105e2336",
          "locked": true,
          "points": 2,
          "schema_version": 3,
          "solution": false,
          "task": false
        },
        "id": "cSVGkXogp0e1"
      },
      "outputs": [],
      "source": [
        "assert callesxzona[callesxzona['Clasificacion'] == 'N-E'][\"Calle\"].values == [[962]]"
      ]
    },
    {
      "cell_type": "markdown",
      "metadata": {
        "deletable": false,
        "editable": false,
        "nbgrader": {
          "cell_type": "markdown",
          "checksum": "fb346a4317387ecac638df3b55d18e86",
          "grade": false,
          "grade_id": "cell-a81f2ff6273a29a7",
          "locked": true,
          "schema_version": 3,
          "solution": false,
          "task": false
        },
        "id": "uXgGebHjp0e1"
      },
      "source": [
        "La siguiente celda hace tests ocultos. No modifiques, muevas ni elimines la celda"
      ]
    },
    {
      "cell_type": "code",
      "execution_count": null,
      "metadata": {
        "deletable": false,
        "editable": false,
        "nbgrader": {
          "cell_type": "code",
          "checksum": "fa8637793bf6ca9d2f3eaf71bf306f77",
          "grade": true,
          "grade_id": "cell-ba519ed80a29c1e1",
          "locked": true,
          "points": 8,
          "schema_version": 3,
          "solution": false,
          "task": false
        },
        "id": "63jf50C9p0e1"
      },
      "outputs": [],
      "source": []
    },
    {
      "cell_type": "code",
      "execution_count": null,
      "metadata": {
        "id": "pnSDntoxp0e1"
      },
      "outputs": [],
      "source": []
    },
    {
      "cell_type": "markdown",
      "metadata": {
        "deletable": false,
        "editable": false,
        "nbgrader": {
          "cell_type": "markdown",
          "checksum": "90922fe630f578d0df0e175b8d3eff2e",
          "grade": false,
          "grade_id": "cell-e039cfa99c8efbb1",
          "locked": true,
          "schema_version": 3,
          "solution": false,
          "task": false
        },
        "id": "3dpa7pFLp0e1"
      },
      "source": [
        "### Pregunta 5\n",
        "¿Cuál es el promedio y desviación estándar de la cantidad de kilos de basura generada por cada zona?\n",
        "\n",
        "Excluya las calles que quedan sin clasificar.\n",
        "\n",
        "Guarde su respuesta en un dataframe con la siguiente estructura:\n",
        "\n",
        "|Zona   | Cantidad promedio [kilos de basura]\t  | Desv est [kilos de basura]  |\n",
        "|---|---|---|\n",
        "|N-O  | 0  | 0  |\n",
        "\n",
        "Guarde el dataframe en la variable `zona_stats`"
      ]
    },
    {
      "cell_type": "code",
      "execution_count": 41,
      "metadata": {
        "deletable": false,
        "nbgrader": {
          "cell_type": "code",
          "checksum": "aa0222b14d1eec4bd8e97a06231f89e6",
          "grade": false,
          "grade_id": "cell-78ec1837f73b5e91",
          "locked": false,
          "schema_version": 3,
          "solution": true,
          "task": false
        },
        "colab": {
          "base_uri": "https://localhost:8080/"
        },
        "id": "2tpsFsWYp0e1",
        "outputId": "6e7461fd-e743-46e3-c0d3-71927b8a818b"
      },
      "outputs": [
        {
          "output_type": "stream",
          "name": "stdout",
          "text": [
            "  Zona  Cantidad promedio [kilos de basura]  Desv est [kilos de basura]\n",
            "0  N-E                             2.926032                    1.122461\n",
            "1  N-O                             2.920708                    1.123545\n",
            "2  S-E                             2.931636                    1.116296\n",
            "3  S-O                             2.928220                    1.117884\n"
          ]
        }
      ],
      "source": [
        "zona_stats=None\n",
        "# your code here\n",
        "# raise NotImplementedError\n",
        "\n",
        "# Crear el DataFrame para la clasificación de calles por zona\n",
        "ciudad['Clasificacion'] = ciudad.apply(lambda row: row['Zona inicial'] if row['Zona inicial'] == row['Zona final'] else 'No clasificado', axis=1)\n",
        "\n",
        "# Excluir calles no clasificadas\n",
        "ciudad_clasificada = ciudad[ciudad['Clasificacion'] != 'No clasificado']\n",
        "\n",
        "# Combinar con los datos de basura\n",
        "basura = basura.merge(ciudad_clasificada[['Calle', 'Clasificacion']], on='Calle', how='inner')\n",
        "\n",
        "# Calcular el promedio y la desviación estándar por zona\n",
        "zona_stats = basura.groupby('Clasificacion')['Cantidad [kilos de basura]'].agg(['mean', 'std']).reset_index()\n",
        "\n",
        "# Renombrar columnas\n",
        "zona_stats.columns = ['Zona', 'Cantidad promedio [kilos de basura]', 'Desv est [kilos de basura]']\n",
        "\n",
        "# Asegurar que todas las zonas están presentes en el DataFrame\n",
        "zonas = ['N-E', 'N-O', 'S-E', 'S-O']\n",
        "for zona in zonas:\n",
        "    if zona not in zona_stats['Zona'].values:\n",
        "        zona_stats = zona_stats.append({'Zona': zona, 'Cantidad promedio [kilos de basura]': 0, 'Desv est [kilos de basura]': 0}, ignore_index=True)\n",
        "\n",
        "# Ordenar el DataFrame por zona\n",
        "zona_stats = zona_stats.set_index('Zona').reindex(zonas).reset_index()\n",
        "\n",
        "# Mostrar el resultado\n",
        "print(zona_stats)"
      ]
    },
    {
      "cell_type": "markdown",
      "metadata": {
        "deletable": false,
        "editable": false,
        "nbgrader": {
          "cell_type": "markdown",
          "checksum": "bfebd53c27ec0d018a8cf0f6507e362a",
          "grade": false,
          "grade_id": "cell-b044c39bb8b68e08",
          "locked": true,
          "schema_version": 3,
          "solution": false,
          "task": false
        },
        "id": "3wNKQIA7p0e1"
      },
      "source": [
        "Revisemos el formato"
      ]
    },
    {
      "cell_type": "code",
      "execution_count": 42,
      "metadata": {
        "deletable": false,
        "editable": false,
        "nbgrader": {
          "cell_type": "code",
          "checksum": "2d68d6153f67b1e1b3f9ca2752e32c67",
          "grade": false,
          "grade_id": "cell-ef1c01f97c54b944",
          "locked": true,
          "schema_version": 3,
          "solution": false,
          "task": false
        },
        "colab": {
          "base_uri": "https://localhost:8080/",
          "height": 173
        },
        "id": "YUPY3Kbsp0e1",
        "outputId": "3326c8a6-846c-4a7e-f7af-daea830d448c"
      },
      "outputs": [
        {
          "output_type": "execute_result",
          "data": {
            "text/plain": [
              "  Zona  Cantidad promedio [kilos de basura]  Desv est [kilos de basura]\n",
              "0  N-E                             2.926032                    1.122461\n",
              "1  N-O                             2.920708                    1.123545\n",
              "2  S-E                             2.931636                    1.116296\n",
              "3  S-O                             2.928220                    1.117884"
            ],
            "text/html": [
              "\n",
              "  <div id=\"df-650081cc-988e-40c7-bb37-b7702687ec1b\" class=\"colab-df-container\">\n",
              "    <div>\n",
              "<style scoped>\n",
              "    .dataframe tbody tr th:only-of-type {\n",
              "        vertical-align: middle;\n",
              "    }\n",
              "\n",
              "    .dataframe tbody tr th {\n",
              "        vertical-align: top;\n",
              "    }\n",
              "\n",
              "    .dataframe thead th {\n",
              "        text-align: right;\n",
              "    }\n",
              "</style>\n",
              "<table border=\"1\" class=\"dataframe\">\n",
              "  <thead>\n",
              "    <tr style=\"text-align: right;\">\n",
              "      <th></th>\n",
              "      <th>Zona</th>\n",
              "      <th>Cantidad promedio [kilos de basura]</th>\n",
              "      <th>Desv est [kilos de basura]</th>\n",
              "    </tr>\n",
              "  </thead>\n",
              "  <tbody>\n",
              "    <tr>\n",
              "      <th>0</th>\n",
              "      <td>N-E</td>\n",
              "      <td>2.926032</td>\n",
              "      <td>1.122461</td>\n",
              "    </tr>\n",
              "    <tr>\n",
              "      <th>1</th>\n",
              "      <td>N-O</td>\n",
              "      <td>2.920708</td>\n",
              "      <td>1.123545</td>\n",
              "    </tr>\n",
              "    <tr>\n",
              "      <th>2</th>\n",
              "      <td>S-E</td>\n",
              "      <td>2.931636</td>\n",
              "      <td>1.116296</td>\n",
              "    </tr>\n",
              "    <tr>\n",
              "      <th>3</th>\n",
              "      <td>S-O</td>\n",
              "      <td>2.928220</td>\n",
              "      <td>1.117884</td>\n",
              "    </tr>\n",
              "  </tbody>\n",
              "</table>\n",
              "</div>\n",
              "    <div class=\"colab-df-buttons\">\n",
              "\n",
              "  <div class=\"colab-df-container\">\n",
              "    <button class=\"colab-df-convert\" onclick=\"convertToInteractive('df-650081cc-988e-40c7-bb37-b7702687ec1b')\"\n",
              "            title=\"Convert this dataframe to an interactive table.\"\n",
              "            style=\"display:none;\">\n",
              "\n",
              "  <svg xmlns=\"http://www.w3.org/2000/svg\" height=\"24px\" viewBox=\"0 -960 960 960\">\n",
              "    <path d=\"M120-120v-720h720v720H120Zm60-500h600v-160H180v160Zm220 220h160v-160H400v160Zm0 220h160v-160H400v160ZM180-400h160v-160H180v160Zm440 0h160v-160H620v160ZM180-180h160v-160H180v160Zm440 0h160v-160H620v160Z\"/>\n",
              "  </svg>\n",
              "    </button>\n",
              "\n",
              "  <style>\n",
              "    .colab-df-container {\n",
              "      display:flex;\n",
              "      gap: 12px;\n",
              "    }\n",
              "\n",
              "    .colab-df-convert {\n",
              "      background-color: #E8F0FE;\n",
              "      border: none;\n",
              "      border-radius: 50%;\n",
              "      cursor: pointer;\n",
              "      display: none;\n",
              "      fill: #1967D2;\n",
              "      height: 32px;\n",
              "      padding: 0 0 0 0;\n",
              "      width: 32px;\n",
              "    }\n",
              "\n",
              "    .colab-df-convert:hover {\n",
              "      background-color: #E2EBFA;\n",
              "      box-shadow: 0px 1px 2px rgba(60, 64, 67, 0.3), 0px 1px 3px 1px rgba(60, 64, 67, 0.15);\n",
              "      fill: #174EA6;\n",
              "    }\n",
              "\n",
              "    .colab-df-buttons div {\n",
              "      margin-bottom: 4px;\n",
              "    }\n",
              "\n",
              "    [theme=dark] .colab-df-convert {\n",
              "      background-color: #3B4455;\n",
              "      fill: #D2E3FC;\n",
              "    }\n",
              "\n",
              "    [theme=dark] .colab-df-convert:hover {\n",
              "      background-color: #434B5C;\n",
              "      box-shadow: 0px 1px 3px 1px rgba(0, 0, 0, 0.15);\n",
              "      filter: drop-shadow(0px 1px 2px rgba(0, 0, 0, 0.3));\n",
              "      fill: #FFFFFF;\n",
              "    }\n",
              "  </style>\n",
              "\n",
              "    <script>\n",
              "      const buttonEl =\n",
              "        document.querySelector('#df-650081cc-988e-40c7-bb37-b7702687ec1b button.colab-df-convert');\n",
              "      buttonEl.style.display =\n",
              "        google.colab.kernel.accessAllowed ? 'block' : 'none';\n",
              "\n",
              "      async function convertToInteractive(key) {\n",
              "        const element = document.querySelector('#df-650081cc-988e-40c7-bb37-b7702687ec1b');\n",
              "        const dataTable =\n",
              "          await google.colab.kernel.invokeFunction('convertToInteractive',\n",
              "                                                    [key], {});\n",
              "        if (!dataTable) return;\n",
              "\n",
              "        const docLinkHtml = 'Like what you see? Visit the ' +\n",
              "          '<a target=\"_blank\" href=https://colab.research.google.com/notebooks/data_table.ipynb>data table notebook</a>'\n",
              "          + ' to learn more about interactive tables.';\n",
              "        element.innerHTML = '';\n",
              "        dataTable['output_type'] = 'display_data';\n",
              "        await google.colab.output.renderOutput(dataTable, element);\n",
              "        const docLink = document.createElement('div');\n",
              "        docLink.innerHTML = docLinkHtml;\n",
              "        element.appendChild(docLink);\n",
              "      }\n",
              "    </script>\n",
              "  </div>\n",
              "\n",
              "\n",
              "<div id=\"df-01f2e265-b8ca-4d02-b46d-25efe056da59\">\n",
              "  <button class=\"colab-df-quickchart\" onclick=\"quickchart('df-01f2e265-b8ca-4d02-b46d-25efe056da59')\"\n",
              "            title=\"Suggest charts\"\n",
              "            style=\"display:none;\">\n",
              "\n",
              "<svg xmlns=\"http://www.w3.org/2000/svg\" height=\"24px\"viewBox=\"0 0 24 24\"\n",
              "     width=\"24px\">\n",
              "    <g>\n",
              "        <path d=\"M19 3H5c-1.1 0-2 .9-2 2v14c0 1.1.9 2 2 2h14c1.1 0 2-.9 2-2V5c0-1.1-.9-2-2-2zM9 17H7v-7h2v7zm4 0h-2V7h2v10zm4 0h-2v-4h2v4z\"/>\n",
              "    </g>\n",
              "</svg>\n",
              "  </button>\n",
              "\n",
              "<style>\n",
              "  .colab-df-quickchart {\n",
              "      --bg-color: #E8F0FE;\n",
              "      --fill-color: #1967D2;\n",
              "      --hover-bg-color: #E2EBFA;\n",
              "      --hover-fill-color: #174EA6;\n",
              "      --disabled-fill-color: #AAA;\n",
              "      --disabled-bg-color: #DDD;\n",
              "  }\n",
              "\n",
              "  [theme=dark] .colab-df-quickchart {\n",
              "      --bg-color: #3B4455;\n",
              "      --fill-color: #D2E3FC;\n",
              "      --hover-bg-color: #434B5C;\n",
              "      --hover-fill-color: #FFFFFF;\n",
              "      --disabled-bg-color: #3B4455;\n",
              "      --disabled-fill-color: #666;\n",
              "  }\n",
              "\n",
              "  .colab-df-quickchart {\n",
              "    background-color: var(--bg-color);\n",
              "    border: none;\n",
              "    border-radius: 50%;\n",
              "    cursor: pointer;\n",
              "    display: none;\n",
              "    fill: var(--fill-color);\n",
              "    height: 32px;\n",
              "    padding: 0;\n",
              "    width: 32px;\n",
              "  }\n",
              "\n",
              "  .colab-df-quickchart:hover {\n",
              "    background-color: var(--hover-bg-color);\n",
              "    box-shadow: 0 1px 2px rgba(60, 64, 67, 0.3), 0 1px 3px 1px rgba(60, 64, 67, 0.15);\n",
              "    fill: var(--button-hover-fill-color);\n",
              "  }\n",
              "\n",
              "  .colab-df-quickchart-complete:disabled,\n",
              "  .colab-df-quickchart-complete:disabled:hover {\n",
              "    background-color: var(--disabled-bg-color);\n",
              "    fill: var(--disabled-fill-color);\n",
              "    box-shadow: none;\n",
              "  }\n",
              "\n",
              "  .colab-df-spinner {\n",
              "    border: 2px solid var(--fill-color);\n",
              "    border-color: transparent;\n",
              "    border-bottom-color: var(--fill-color);\n",
              "    animation:\n",
              "      spin 1s steps(1) infinite;\n",
              "  }\n",
              "\n",
              "  @keyframes spin {\n",
              "    0% {\n",
              "      border-color: transparent;\n",
              "      border-bottom-color: var(--fill-color);\n",
              "      border-left-color: var(--fill-color);\n",
              "    }\n",
              "    20% {\n",
              "      border-color: transparent;\n",
              "      border-left-color: var(--fill-color);\n",
              "      border-top-color: var(--fill-color);\n",
              "    }\n",
              "    30% {\n",
              "      border-color: transparent;\n",
              "      border-left-color: var(--fill-color);\n",
              "      border-top-color: var(--fill-color);\n",
              "      border-right-color: var(--fill-color);\n",
              "    }\n",
              "    40% {\n",
              "      border-color: transparent;\n",
              "      border-right-color: var(--fill-color);\n",
              "      border-top-color: var(--fill-color);\n",
              "    }\n",
              "    60% {\n",
              "      border-color: transparent;\n",
              "      border-right-color: var(--fill-color);\n",
              "    }\n",
              "    80% {\n",
              "      border-color: transparent;\n",
              "      border-right-color: var(--fill-color);\n",
              "      border-bottom-color: var(--fill-color);\n",
              "    }\n",
              "    90% {\n",
              "      border-color: transparent;\n",
              "      border-bottom-color: var(--fill-color);\n",
              "    }\n",
              "  }\n",
              "</style>\n",
              "\n",
              "  <script>\n",
              "    async function quickchart(key) {\n",
              "      const quickchartButtonEl =\n",
              "        document.querySelector('#' + key + ' button');\n",
              "      quickchartButtonEl.disabled = true;  // To prevent multiple clicks.\n",
              "      quickchartButtonEl.classList.add('colab-df-spinner');\n",
              "      try {\n",
              "        const charts = await google.colab.kernel.invokeFunction(\n",
              "            'suggestCharts', [key], {});\n",
              "      } catch (error) {\n",
              "        console.error('Error during call to suggestCharts:', error);\n",
              "      }\n",
              "      quickchartButtonEl.classList.remove('colab-df-spinner');\n",
              "      quickchartButtonEl.classList.add('colab-df-quickchart-complete');\n",
              "    }\n",
              "    (() => {\n",
              "      let quickchartButtonEl =\n",
              "        document.querySelector('#df-01f2e265-b8ca-4d02-b46d-25efe056da59 button');\n",
              "      quickchartButtonEl.style.display =\n",
              "        google.colab.kernel.accessAllowed ? 'block' : 'none';\n",
              "    })();\n",
              "  </script>\n",
              "</div>\n",
              "\n",
              "  <div id=\"id_344ba0ed-62c6-40ee-a027-087f6c67d285\">\n",
              "    <style>\n",
              "      .colab-df-generate {\n",
              "        background-color: #E8F0FE;\n",
              "        border: none;\n",
              "        border-radius: 50%;\n",
              "        cursor: pointer;\n",
              "        display: none;\n",
              "        fill: #1967D2;\n",
              "        height: 32px;\n",
              "        padding: 0 0 0 0;\n",
              "        width: 32px;\n",
              "      }\n",
              "\n",
              "      .colab-df-generate:hover {\n",
              "        background-color: #E2EBFA;\n",
              "        box-shadow: 0px 1px 2px rgba(60, 64, 67, 0.3), 0px 1px 3px 1px rgba(60, 64, 67, 0.15);\n",
              "        fill: #174EA6;\n",
              "      }\n",
              "\n",
              "      [theme=dark] .colab-df-generate {\n",
              "        background-color: #3B4455;\n",
              "        fill: #D2E3FC;\n",
              "      }\n",
              "\n",
              "      [theme=dark] .colab-df-generate:hover {\n",
              "        background-color: #434B5C;\n",
              "        box-shadow: 0px 1px 3px 1px rgba(0, 0, 0, 0.15);\n",
              "        filter: drop-shadow(0px 1px 2px rgba(0, 0, 0, 0.3));\n",
              "        fill: #FFFFFF;\n",
              "      }\n",
              "    </style>\n",
              "    <button class=\"colab-df-generate\" onclick=\"generateWithVariable('zona_stats')\"\n",
              "            title=\"Generate code using this dataframe.\"\n",
              "            style=\"display:none;\">\n",
              "\n",
              "  <svg xmlns=\"http://www.w3.org/2000/svg\" height=\"24px\"viewBox=\"0 0 24 24\"\n",
              "       width=\"24px\">\n",
              "    <path d=\"M7,19H8.4L18.45,9,17,7.55,7,17.6ZM5,21V16.75L18.45,3.32a2,2,0,0,1,2.83,0l1.4,1.43a1.91,1.91,0,0,1,.58,1.4,1.91,1.91,0,0,1-.58,1.4L9.25,21ZM18.45,9,17,7.55Zm-12,3A5.31,5.31,0,0,0,4.9,8.1,5.31,5.31,0,0,0,1,6.5,5.31,5.31,0,0,0,4.9,4.9,5.31,5.31,0,0,0,6.5,1,5.31,5.31,0,0,0,8.1,4.9,5.31,5.31,0,0,0,12,6.5,5.46,5.46,0,0,0,6.5,12Z\"/>\n",
              "  </svg>\n",
              "    </button>\n",
              "    <script>\n",
              "      (() => {\n",
              "      const buttonEl =\n",
              "        document.querySelector('#id_344ba0ed-62c6-40ee-a027-087f6c67d285 button.colab-df-generate');\n",
              "      buttonEl.style.display =\n",
              "        google.colab.kernel.accessAllowed ? 'block' : 'none';\n",
              "\n",
              "      buttonEl.onclick = () => {\n",
              "        google.colab.notebook.generateWithVariable('zona_stats');\n",
              "      }\n",
              "      })();\n",
              "    </script>\n",
              "  </div>\n",
              "\n",
              "    </div>\n",
              "  </div>\n"
            ],
            "application/vnd.google.colaboratory.intrinsic+json": {
              "type": "dataframe",
              "variable_name": "zona_stats",
              "summary": "{\n  \"name\": \"zona_stats\",\n  \"rows\": 4,\n  \"fields\": [\n    {\n      \"column\": \"Zona\",\n      \"properties\": {\n        \"dtype\": \"string\",\n        \"num_unique_values\": 4,\n        \"samples\": [\n          \"N-O\",\n          \"S-O\",\n          \"N-E\"\n        ],\n        \"semantic_type\": \"\",\n        \"description\": \"\"\n      }\n    },\n    {\n      \"column\": \"Cantidad promedio [kilos de basura]\",\n      \"properties\": {\n        \"dtype\": \"number\",\n        \"std\": 0.004583002457145095,\n        \"min\": 2.9207083825265645,\n        \"max\": 2.9316361556064074,\n        \"num_unique_values\": 4,\n        \"samples\": [\n          2.9207083825265645,\n          2.928220140515222,\n          2.9260320760320764\n        ],\n        \"semantic_type\": \"\",\n        \"description\": \"\"\n      }\n    },\n    {\n      \"column\": \"Desv est [kilos de basura]\",\n      \"properties\": {\n        \"dtype\": \"number\",\n        \"std\": 0.0035029764101889536,\n        \"min\": 1.1162961863489063,\n        \"max\": 1.1235450167791106,\n        \"num_unique_values\": 4,\n        \"samples\": [\n          1.1235450167791106,\n          1.1178835041814446,\n          1.1224609374450758\n        ],\n        \"semantic_type\": \"\",\n        \"description\": \"\"\n      }\n    }\n  ]\n}"
            }
          },
          "metadata": {},
          "execution_count": 42
        }
      ],
      "source": [
        "zona_stats\n"
      ]
    },
    {
      "cell_type": "code",
      "execution_count": 43,
      "metadata": {
        "deletable": false,
        "editable": false,
        "nbgrader": {
          "cell_type": "code",
          "checksum": "309683a7947b75d09cda1d5e4e7159e8",
          "grade": false,
          "grade_id": "cell-949375023d980bf6",
          "locked": true,
          "schema_version": 3,
          "solution": false,
          "task": false
        },
        "colab": {
          "base_uri": "https://localhost:8080/"
        },
        "id": "8Nj8ciYRp0e2",
        "outputId": "ee16cbf0-ddeb-47ad-d328-6170c52961f8"
      },
      "outputs": [
        {
          "output_type": "stream",
          "name": "stdout",
          "text": [
            "True\n",
            "True\n"
          ]
        }
      ],
      "source": [
        "print(list(zona_stats.columns) == ['Zona', 'Cantidad promedio [kilos de basura]', 'Desv est [kilos de basura]'])\n",
        "\n",
        "cols = list(zona_stats['Zona'].values)\n",
        "cols.sort()\n",
        "\n",
        "print(cols == ['N-E', 'N-O', 'S-E', 'S-O'])"
      ]
    },
    {
      "cell_type": "markdown",
      "metadata": {
        "id": "bztqewT1p0e2"
      },
      "source": [
        "Comenzamos con un test visible:"
      ]
    },
    {
      "cell_type": "code",
      "execution_count": 44,
      "metadata": {
        "deletable": false,
        "editable": false,
        "nbgrader": {
          "cell_type": "code",
          "checksum": "3539f34b127a62455fb04c062cd5a447",
          "grade": true,
          "grade_id": "cell-160992c4370d57bc",
          "locked": true,
          "points": 5,
          "schema_version": 3,
          "solution": false,
          "task": false
        },
        "id": "3xW95Wvrp0e2"
      },
      "outputs": [],
      "source": [
        "ans_NE = np.round(zona_stats[zona_stats[\"Zona\"]=='N-E'][[\"Cantidad promedio [kilos de basura]\", \"Desv est [kilos de basura]\"]].values,3)\n",
        "\n",
        "assert (ans_NE== [[2.926, 1.122]]).all()"
      ]
    },
    {
      "cell_type": "markdown",
      "metadata": {
        "deletable": false,
        "editable": false,
        "nbgrader": {
          "cell_type": "markdown",
          "checksum": "037d763fb124ea2e9b1268ee9066210d",
          "grade": false,
          "grade_id": "cell-f380f1481d1ee9df",
          "locked": true,
          "schema_version": 3,
          "solution": false,
          "task": false
        },
        "id": "PyjM_aepp0e3"
      },
      "source": [
        "La siguiente celda hace tests ocultos. No modifiques, muevas ni elimines la celda"
      ]
    },
    {
      "cell_type": "code",
      "execution_count": null,
      "metadata": {
        "deletable": false,
        "editable": false,
        "nbgrader": {
          "cell_type": "code",
          "checksum": "a65c0337e8ee6a9c8e6c16820f2fd3d3",
          "grade": true,
          "grade_id": "cell-66b73491203a6798",
          "locked": true,
          "points": 5,
          "schema_version": 3,
          "solution": false,
          "task": false
        },
        "id": "vu69LgBcp0e3"
      },
      "outputs": [],
      "source": []
    }
  ],
  "metadata": {
    "kernelspec": {
      "display_name": "Python 3",
      "language": "python",
      "name": "python3"
    },
    "language_info": {
      "codemirror_mode": {
        "name": "ipython",
        "version": 3
      },
      "file_extension": ".py",
      "mimetype": "text/x-python",
      "name": "python",
      "nbconvert_exporter": "python",
      "pygments_lexer": "ipython3",
      "version": "3.7.6"
    },
    "colab": {
      "provenance": [],
      "include_colab_link": true
    }
  },
  "nbformat": 4,
  "nbformat_minor": 0
}