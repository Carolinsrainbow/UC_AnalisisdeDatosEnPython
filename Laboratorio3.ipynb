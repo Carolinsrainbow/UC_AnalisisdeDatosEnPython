{
  "cells": [
    {
      "cell_type": "markdown",
      "metadata": {
        "id": "view-in-github",
        "colab_type": "text"
      },
      "source": [
        "<a href=\"https://colab.research.google.com/github/Carolinsrainbow/UC_AnalisisdeDatosEnPython/blob/main/Laboratorio3.ipynb\" target=\"_parent\"><img src=\"https://colab.research.google.com/assets/colab-badge.svg\" alt=\"Open In Colab\"/></a>"
      ]
    },
    {
      "cell_type": "markdown",
      "metadata": {
        "deletable": false,
        "editable": false,
        "nbgrader": {
          "cell_type": "markdown",
          "checksum": "c28a7f41eba620a80e8764eaec571295",
          "grade": false,
          "grade_id": "cell-84e53a310c2d8b57",
          "locked": true,
          "schema_version": 3,
          "solution": false,
          "task": false
        },
        "id": "_hQbogu9Nd2B"
      },
      "source": [
        "# Laboratorio 3\n",
        "\n",
        "Bienvenido al tercer laboratorio del curso Análisis de Datos en Python.\n",
        "\n",
        "Escribe el código correspondiente para contestar cada una de las preguntas. Fíjate muy bien en el nombre de las variables, ya que de lo contrario, tu trabajo no podrá ser evaluado de manera correcta.\n",
        "\n",
        "Debes ir ejecutando las celdas de codigo en el orden que aparecen, para evitar tener errores.\n",
        "\n",
        "El laboratorio consta de dos partes: la primera, que realizarás en este jupyter notebook y la segunda, que se encuentra en el recurso llamado \"Laboratorio 3: visualización de datos y asociación (Parte 2)\""
      ]
    },
    {
      "cell_type": "code",
      "execution_count": 4,
      "metadata": {
        "deletable": false,
        "editable": false,
        "nbgrader": {
          "cell_type": "code",
          "checksum": "4f261b3364af4a0a05fd931a3ddf393c",
          "grade": false,
          "grade_id": "cell-2af2c97d53614353",
          "locked": true,
          "schema_version": 3,
          "solution": false,
          "task": false
        },
        "id": "kft4FZndNd2D"
      },
      "outputs": [],
      "source": [
        "## Primero importamos las librerias y los datos que utilizaremos.\n",
        "import pandas as pd\n",
        "import numpy as np\n",
        "import matplotlib.pyplot as plt\n",
        "import seaborn as sns\n",
        "import warnings\n",
        "warnings.filterwarnings('ignore')\n",
        "base = pd.read_excel('Tarea3.xlsx')"
      ]
    },
    {
      "cell_type": "markdown",
      "metadata": {
        "deletable": false,
        "editable": false,
        "nbgrader": {
          "cell_type": "markdown",
          "checksum": "6639eec29015798aca11e138c39bc918",
          "grade": false,
          "grade_id": "cell-c0ee146b134d6d5b",
          "locked": true,
          "schema_version": 3,
          "solution": false,
          "task": false
        },
        "id": "Ue_n85HTNd2F"
      },
      "source": [
        "## Parte 1\n",
        "\n",
        "La primera parte del laboratorio consta de tres preguntas que se detallan a continuación. Sigue las indicaciones de cada pregunta para lograr el puntaje"
      ]
    },
    {
      "cell_type": "markdown",
      "metadata": {
        "deletable": false,
        "editable": false,
        "nbgrader": {
          "cell_type": "markdown",
          "checksum": "d296225325a7592f725e4a974e377b5d",
          "grade": false,
          "grade_id": "cell-7a0693c94117644a",
          "locked": true,
          "schema_version": 3,
          "solution": false,
          "task": false
        },
        "id": "C25rHkcTNd2F"
      },
      "source": [
        "### Pregunta 1\n",
        "\n",
        "¿Cuál es la correlación entre ausencias (absences) a clases de un estudiante y las demás variables numéricas de las bases de datos?\n",
        "\n",
        "Hint: Crea la matriz de correlacion utilizando el metodo `corr()` de pandas y luego extrae solo la columna de correlaciones con la variable `absences`. Almacena la información en la variable `student_corr` de forma directa en como la has calculado"
      ]
    },
    {
      "cell_type": "code",
      "execution_count": 5,
      "metadata": {
        "deletable": false,
        "nbgrader": {
          "cell_type": "code",
          "checksum": "5eabd1a14e8301fd59165496392b8a7a",
          "grade": false,
          "grade_id": "cell-6006b5555ba5c615",
          "locked": false,
          "schema_version": 3,
          "solution": true,
          "task": false
        },
        "colab": {
          "base_uri": "https://localhost:8080/"
        },
        "id": "oEpC1giFNd2G",
        "outputId": "dd5edee1-bcef-4666-8a59-e5abf4c11ef6"
      },
      "outputs": [
        {
          "output_type": "stream",
          "name": "stdout",
          "text": [
            "age           0.175230\n",
            "Medu          0.100285\n",
            "Fedu          0.024473\n",
            "traveltime   -0.012944\n",
            "studytime    -0.062700\n",
            "failures      0.063726\n",
            "famrel       -0.044354\n",
            "freetime     -0.058078\n",
            "goout         0.044302\n",
            "Dalc          0.111908\n",
            "Walc          0.136291\n",
            "health       -0.029937\n",
            "absences      1.000000\n",
            "G1           -0.031003\n",
            "G2           -0.031777\n",
            "G3            0.034247\n",
            "Name: absences, dtype: float64\n"
          ]
        }
      ],
      "source": [
        "student_corr=None\n",
        "\n",
        "# your code here\n",
        "#raise NotImplementedError\n",
        "\n",
        "correlation_matrix = base.corr(numeric_only=True)\n",
        "student_corr = correlation_matrix['absences']\n",
        "print(student_corr)"
      ]
    },
    {
      "cell_type": "markdown",
      "metadata": {
        "deletable": false,
        "editable": false,
        "nbgrader": {
          "cell_type": "markdown",
          "checksum": "a3472cde652a2f2725df7b54b1989ef0",
          "grade": false,
          "grade_id": "cell-6457d0dce6113525",
          "locked": true,
          "schema_version": 3,
          "solution": false,
          "task": false
        },
        "id": "2D31JyduNd2G"
      },
      "source": [
        "Revisemos que las dimensiones sean las correctas. Recuerda que solo deben quedar aquellas variables de tipo numericas"
      ]
    },
    {
      "cell_type": "code",
      "execution_count": 6,
      "metadata": {
        "deletable": false,
        "editable": false,
        "nbgrader": {
          "cell_type": "code",
          "checksum": "b2000873b54e16816958aed026ded3cd",
          "grade": false,
          "grade_id": "cell-27ab22fbfb1e2c5d",
          "locked": true,
          "schema_version": 3,
          "solution": false,
          "task": false
        },
        "colab": {
          "base_uri": "https://localhost:8080/"
        },
        "id": "knnTeb8BNd2H",
        "outputId": "54f18003-2480-45fd-8f73-62d2df7522de"
      },
      "outputs": [
        {
          "output_type": "stream",
          "name": "stdout",
          "text": [
            "True\n"
          ]
        }
      ],
      "source": [
        "print(student_corr.shape == (16,))"
      ]
    },
    {
      "cell_type": "markdown",
      "metadata": {
        "deletable": false,
        "editable": false,
        "nbgrader": {
          "cell_type": "markdown",
          "checksum": "4776a4ddde1146e862a1b255042f410c",
          "grade": false,
          "grade_id": "cell-828d91b393a3ef3a",
          "locked": true,
          "schema_version": 3,
          "solution": false,
          "task": false
        },
        "id": "3pdzICbuNd2H"
      },
      "source": [
        "Veremos si has calculado correctamente las correlaciones, chequearemos con la misma variable `absences` y tambien con `age`"
      ]
    },
    {
      "cell_type": "code",
      "execution_count": 7,
      "metadata": {
        "deletable": false,
        "editable": false,
        "nbgrader": {
          "cell_type": "code",
          "checksum": "405552d47da20140a66ad12552683d80",
          "grade": true,
          "grade_id": "cell-b49ce5b526acbc94",
          "locked": true,
          "points": 2,
          "schema_version": 3,
          "solution": false,
          "task": false
        },
        "id": "jge2LU69Nd2H"
      },
      "outputs": [],
      "source": [
        "assert student_corr['absences'] == 1.0, \"La correlación de absences es distinta de 1\"\n",
        "assert np.round(student_corr['age'], 3) == 0.175, \"La correlación de age es incorrecta\""
      ]
    },
    {
      "cell_type": "markdown",
      "metadata": {
        "deletable": false,
        "editable": false,
        "nbgrader": {
          "cell_type": "markdown",
          "checksum": "cfd9e685de2c47048fc1e398529c3e14",
          "grade": false,
          "grade_id": "cell-60a8048930dabe47",
          "locked": true,
          "schema_version": 3,
          "solution": false,
          "task": false
        },
        "id": "dmnW7IFRNd2I"
      },
      "source": [
        "La siguiente celda contiene test ocultos, que siguen el mismo formato de los anteriores"
      ]
    },
    {
      "cell_type": "code",
      "execution_count": null,
      "metadata": {
        "deletable": false,
        "editable": false,
        "nbgrader": {
          "cell_type": "code",
          "checksum": "cf088b0c23a8a884a741766fda8bf40c",
          "grade": true,
          "grade_id": "cell-391aea6a96a80f21",
          "locked": true,
          "points": 5,
          "schema_version": 3,
          "solution": false,
          "task": false
        },
        "id": "v_dI34oqNd2I"
      },
      "outputs": [],
      "source": []
    },
    {
      "cell_type": "markdown",
      "metadata": {
        "deletable": false,
        "editable": false,
        "nbgrader": {
          "cell_type": "markdown",
          "checksum": "c7b1eb573670b61f686b1852bf147976",
          "grade": false,
          "grade_id": "cell-bbfec298917265e0",
          "locked": true,
          "schema_version": 3,
          "solution": false,
          "task": false
        },
        "id": "8SH_dlpCNd2I"
      },
      "source": [
        "Ahora contesta: ¿Alguna de estas correlaciones es relevante?\n",
        "\n",
        "Rellena la variable `existen` con `YES` si hay variables significativas o `NO` si no las hay.\n",
        "\n",
        "En caso de existir una o más variables significativas, rellena `variable` con el nombre de la variable en formato string que mayor significancia posea, por ejemplo, `TRAVELTIME`.\n",
        "\n",
        "Si ninguna variable es significativa, rellena `variable = \"NO\"`"
      ]
    },
    {
      "cell_type": "code",
      "execution_count": 8,
      "metadata": {
        "deletable": false,
        "nbgrader": {
          "cell_type": "code",
          "checksum": "54eabd9bfe6b3f1f04bc130f191ab1c8",
          "grade": false,
          "grade_id": "cell-698f15c5b996d7d0",
          "locked": false,
          "schema_version": 3,
          "solution": true,
          "task": false
        },
        "id": "FWFG6a9YNd2J"
      },
      "outputs": [],
      "source": [
        "existen=None\n",
        "variable=None\n",
        "\n",
        "# your code here\n",
        "#raise NotImplementedError\n",
        "variable = 'NO'"
      ]
    },
    {
      "cell_type": "code",
      "execution_count": 9,
      "metadata": {
        "deletable": false,
        "editable": false,
        "nbgrader": {
          "cell_type": "code",
          "checksum": "5864d928571478b77ba99a98476b71c4",
          "grade": false,
          "grade_id": "cell-04c9a0a875f64944",
          "locked": true,
          "schema_version": 3,
          "solution": false,
          "task": false
        },
        "colab": {
          "base_uri": "https://localhost:8080/"
        },
        "id": "ibL4nmHQNd2J",
        "outputId": "96abcf75-8065-4a75-9024-38c4b523531d"
      },
      "outputs": [
        {
          "output_type": "stream",
          "name": "stdout",
          "text": [
            "False\n",
            "True\n"
          ]
        }
      ],
      "source": [
        "print(existen in [\"YES\", \"NO\"])\n",
        "print(variable in list(base.columns)+[\"NO\"])"
      ]
    },
    {
      "cell_type": "code",
      "execution_count": 9,
      "metadata": {
        "deletable": false,
        "editable": false,
        "nbgrader": {
          "cell_type": "code",
          "checksum": "88e7530efd72a4e57b5df9d0bc360fa0",
          "grade": true,
          "grade_id": "cell-72896b3f7d12124f",
          "locked": true,
          "points": 3,
          "schema_version": 3,
          "solution": false,
          "task": false
        },
        "id": "8XzcC0j-Nd2K"
      },
      "outputs": [],
      "source": []
    },
    {
      "cell_type": "markdown",
      "metadata": {
        "deletable": false,
        "editable": false,
        "nbgrader": {
          "cell_type": "markdown",
          "checksum": "63a6434de802dc2f042b270cb9e74db4",
          "grade": false,
          "grade_id": "cell-e5da29d872766d3a",
          "locked": true,
          "schema_version": 3,
          "solution": false,
          "task": false
        },
        "id": "KGzMMBkFNd2K"
      },
      "source": [
        "### Pregunta 2\n",
        "\n",
        "Calcula las ausencias promedio según escuela y almacénalo en la variable  'escuela_promedio', no se debe aproximar ni redondear el valor\n",
        "\n",
        "Calcula las ausencias promedio según género y almacénalo en la variable  'genero_promedio', no se debe aproximar ni redondear el valor\n",
        "\n",
        "Recuerda aplicar un .reset_index()\n"
      ]
    },
    {
      "cell_type": "code",
      "execution_count": null,
      "metadata": {
        "deletable": false,
        "nbgrader": {
          "cell_type": "code",
          "checksum": "19106a11702db4a9d5e316b921cd89d7",
          "grade": false,
          "grade_id": "cell-bf7e9abf40c2e270",
          "locked": false,
          "schema_version": 3,
          "solution": true,
          "task": false
        },
        "id": "wonSbKQINd2L"
      },
      "outputs": [],
      "source": [
        "escuela_promedio=None\n",
        "genero_promedio=None\n",
        "\n",
        "# your code here\n",
        "# raise NotImplementedError"
      ]
    },
    {
      "cell_type": "markdown",
      "metadata": {
        "deletable": false,
        "editable": false,
        "nbgrader": {
          "cell_type": "markdown",
          "checksum": "af7ff6cefb1d5fa548e93df63bc97dc5",
          "grade": false,
          "grade_id": "cell-ce8fca51f0ce7e03",
          "locked": true,
          "schema_version": 3,
          "solution": false,
          "task": false
        },
        "id": "XWhFSY25Nd2L"
      },
      "source": [
        "`escuela_promedio` debe ser de la forma:\n",
        "\n",
        "|   | school\t  | absences  |\n",
        "|---|---|---|\n",
        "|0 | GP  | XXXXX  |\n",
        "|1 | MS  | XXXXX  |\n",
        "\n",
        "`genero_promedio` debe ser de la forma:\n",
        "\n",
        "|   | sex\t  | absences  |\n",
        "|---|---|---|\n",
        "|0 | F  | XXXXX  |\n",
        "|1 | M  | XXXXX  |"
      ]
    },
    {
      "cell_type": "code",
      "execution_count": 10,
      "metadata": {
        "deletable": false,
        "editable": false,
        "nbgrader": {
          "cell_type": "code",
          "checksum": "c62d9224d2f265295bb3426aca97eec8",
          "grade": false,
          "grade_id": "cell-38c49c7885d399ad",
          "locked": true,
          "schema_version": 3,
          "solution": false,
          "task": false
        },
        "colab": {
          "base_uri": "https://localhost:8080/",
          "height": 173
        },
        "id": "GI9dyF4fNd2M",
        "outputId": "a2d9a114-2976-45ab-c8e5-d9ffdc23caaa"
      },
      "outputs": [
        {
          "output_type": "error",
          "ename": "NameError",
          "evalue": "name 'escuela_promedio' is not defined",
          "traceback": [
            "\u001b[0;31m---------------------------------------------------------------------------\u001b[0m",
            "\u001b[0;31mNameError\u001b[0m                                 Traceback (most recent call last)",
            "\u001b[0;32m<ipython-input-10-9e925c9c8773>\u001b[0m in \u001b[0;36m<cell line: 1>\u001b[0;34m()\u001b[0m\n\u001b[0;32m----> 1\u001b[0;31m \u001b[0mlist\u001b[0m\u001b[0;34m(\u001b[0m\u001b[0mescuela_promedio\u001b[0m\u001b[0;34m.\u001b[0m\u001b[0mcolumns\u001b[0m\u001b[0;34m)\u001b[0m \u001b[0;34m==\u001b[0m \u001b[0;34m[\u001b[0m\u001b[0;34m'school'\u001b[0m\u001b[0;34m,\u001b[0m \u001b[0;34m'absences'\u001b[0m\u001b[0;34m]\u001b[0m\u001b[0;34m\u001b[0m\u001b[0;34m\u001b[0m\u001b[0m\n\u001b[0m\u001b[1;32m      2\u001b[0m \u001b[0;34m\u001b[0m\u001b[0m\n\u001b[1;32m      3\u001b[0m \u001b[0;31m## Si esta celda entrega un False, recuerda usar reset_index()\u001b[0m\u001b[0;34m\u001b[0m\u001b[0;34m\u001b[0m\u001b[0m\n",
            "\u001b[0;31mNameError\u001b[0m: name 'escuela_promedio' is not defined"
          ]
        }
      ],
      "source": [
        "list(escuela_promedio.columns) == ['school', 'absences']\n",
        "\n",
        "## Si esta celda entrega un False, recuerda usar reset_index()"
      ]
    },
    {
      "cell_type": "markdown",
      "metadata": {
        "deletable": false,
        "editable": false,
        "nbgrader": {
          "cell_type": "markdown",
          "checksum": "355a9f627c0fc959803b21966af90a04",
          "grade": false,
          "grade_id": "cell-762907efe2cecd36",
          "locked": true,
          "schema_version": 3,
          "solution": false,
          "task": false
        },
        "id": "dMqSQPNBNd2M"
      },
      "source": [
        "Los promedios por escuelas estaran en un test visible:"
      ]
    },
    {
      "cell_type": "code",
      "execution_count": null,
      "metadata": {
        "deletable": false,
        "editable": false,
        "nbgrader": {
          "cell_type": "code",
          "checksum": "af4afdd502f886bfdade65e0594c4d7a",
          "grade": true,
          "grade_id": "cell-bfaf0b2a06b8726c",
          "locked": true,
          "points": 5,
          "schema_version": 3,
          "solution": false,
          "task": false
        },
        "id": "rW_2lc5GNd2M"
      },
      "outputs": [],
      "source": [
        "assert np.round(escuela_promedio[escuela_promedio[\"school\"] == \"GP\"][\"absences\"].values,3) == 5.966, \"Tus promedios para escuela tipo GP estan incorrectos\"\n",
        "assert np.round(escuela_promedio[escuela_promedio[\"school\"] == \"MS\"][\"absences\"].values,3) == 3.761, \"Tus promedios para escuela tipo MS estan incorrectos\""
      ]
    },
    {
      "cell_type": "markdown",
      "metadata": {
        "deletable": false,
        "editable": false,
        "nbgrader": {
          "cell_type": "markdown",
          "checksum": "08ee784035f35462dbb5cede2736bbaa",
          "grade": false,
          "grade_id": "cell-844ea06f0890857c",
          "locked": true,
          "schema_version": 3,
          "solution": false,
          "task": false
        },
        "id": "kJRPYWbUNd2N"
      },
      "source": [
        "Y el siguiente test oculto revisara, siguiendo el mismo formato anterior, los promedios por genero:"
      ]
    },
    {
      "cell_type": "code",
      "execution_count": null,
      "metadata": {
        "deletable": false,
        "editable": false,
        "nbgrader": {
          "cell_type": "code",
          "checksum": "242130b580543071dffc2137af52e1ed",
          "grade": true,
          "grade_id": "cell-391d188fc9c3eadb",
          "locked": true,
          "points": 5,
          "schema_version": 3,
          "solution": false,
          "task": false
        },
        "id": "3E9OGq2rNd2N"
      },
      "outputs": [],
      "source": [
        "\n",
        "\n"
      ]
    },
    {
      "cell_type": "markdown",
      "metadata": {
        "deletable": false,
        "editable": false,
        "nbgrader": {
          "cell_type": "markdown",
          "checksum": "ae11c763b9e96bb8465cef0f328c6165",
          "grade": false,
          "grade_id": "cell-1e270509a2505f66",
          "locked": true,
          "schema_version": 3,
          "solution": false,
          "task": false
        },
        "id": "X4HcojtcNd2N"
      },
      "source": [
        "### Pregunta 3\n",
        "Consideremos ahora que el indicador que quiere observar es si un estudiante asistió al colegio **todos los días de clases**.\n",
        "\n",
        "Construya una tabla de frecuencias de este indicador con respecto a los años de educación de la mamá (`Medu`) y los años de educación del papá del estudiante (`Fedu`). Utilice `Fedu` como columnas y `Medu` como filas\n",
        "\n",
        "Almacene la tabla en la variable `tabla_student`. La forma de esta tabla debe ser la siguiente:\n",
        "\n",
        "|Fedu<br>Medu|1<br> |2<br> |3<br> |4<br> |\n",
        "|---|---|---|---|---|\n",
        "|0| | | | |\n",
        "|1| | | | |\n",
        "|2| | | | |\n",
        "|3| | | | |\n",
        "|4| | | | |\n",
        "\n",
        "Aclaracion: Lo que se debe contar como frecuencia es la cantidad de estudiantes que no faltaron ningún día a clases.\n",
        "\n",
        "**Hint**: El comando `.crosstab` puede resultarle de utilidad (https://pandas.pydata.org/docs/reference/api/pandas.crosstab.html)"
      ]
    },
    {
      "cell_type": "code",
      "execution_count": null,
      "metadata": {
        "deletable": false,
        "nbgrader": {
          "cell_type": "code",
          "checksum": "e2a3059dbaf45fdd8aed82a731f8dc48",
          "grade": false,
          "grade_id": "cell-0d1a5ffc9261b447",
          "locked": false,
          "schema_version": 3,
          "solution": true,
          "task": false
        },
        "id": "f3eT4gvXNd2O"
      },
      "outputs": [],
      "source": [
        "tabla_student=None\n",
        "\n",
        "# your code here\n",
        "raise NotImplementedError"
      ]
    },
    {
      "cell_type": "markdown",
      "metadata": {
        "deletable": false,
        "editable": false,
        "nbgrader": {
          "cell_type": "markdown",
          "checksum": "eb99c58e9b997304004e3315b62a8d11",
          "grade": false,
          "grade_id": "cell-6829603885750203",
          "locked": true,
          "schema_version": 3,
          "solution": false,
          "task": false
        },
        "id": "aGfxIhQxNd2O"
      },
      "source": [
        " El siguiente test probará la combinación FEDU 1 cruzado con MEDU 0. Es decir, la cantidad de estudiantes con `FEDU=1` y `MEDU=0` y **que no hayan faltado ningun dia a clases**"
      ]
    },
    {
      "cell_type": "code",
      "execution_count": null,
      "metadata": {
        "deletable": false,
        "editable": false,
        "nbgrader": {
          "cell_type": "code",
          "checksum": "ec5127d63c0290da3d7a1ba2d6eafcf6",
          "grade": false,
          "grade_id": "cell-90fb0b9181fc5870",
          "locked": true,
          "schema_version": 3,
          "solution": false,
          "task": false
        },
        "id": "wvoBg8iMNd2P"
      },
      "outputs": [],
      "source": [
        "tabla_student"
      ]
    },
    {
      "cell_type": "code",
      "execution_count": null,
      "metadata": {
        "deletable": false,
        "editable": false,
        "nbgrader": {
          "cell_type": "code",
          "checksum": "d92d9b636ab9c93d263a82cba347bcc5",
          "grade": true,
          "grade_id": "cell-32221ace4f9ca1cd",
          "locked": true,
          "points": 2,
          "schema_version": 3,
          "solution": false,
          "task": false
        },
        "id": "rqHRWrd9Nd2P"
      },
      "outputs": [],
      "source": [
        "assert tabla_student[1][0] == 0, \"Te has equivocado, el valor correcto considerando FEDU 1 y MEDU 0 es 0\""
      ]
    },
    {
      "cell_type": "code",
      "execution_count": null,
      "metadata": {
        "deletable": false,
        "editable": false,
        "nbgrader": {
          "cell_type": "code",
          "checksum": "f70cbc686e15f80a164be424195fb7af",
          "grade": true,
          "grade_id": "cell-0d3f1a1758969642",
          "locked": true,
          "points": 2,
          "schema_version": 3,
          "solution": false,
          "task": false
        },
        "id": "GhHL9ESNNd2P"
      },
      "outputs": [],
      "source": [
        "assert tabla_student[1][3] == 2, \"Te has equivocado, el valor correcto considerando FEDU 1 y MEDU 3 es 2\""
      ]
    },
    {
      "cell_type": "markdown",
      "metadata": {
        "deletable": false,
        "editable": false,
        "nbgrader": {
          "cell_type": "markdown",
          "checksum": "83eed1948e6558766a5dec9dba54e647",
          "grade": false,
          "grade_id": "cell-bd171066c5883e43",
          "locked": true,
          "schema_version": 3,
          "solution": false,
          "task": false
        },
        "id": "eFJ7ub-cNd2P"
      },
      "source": [
        "El siguiente test es el real con puntaje, en este se escogen algunos valores al azar de la tabla."
      ]
    },
    {
      "cell_type": "code",
      "execution_count": null,
      "metadata": {
        "deletable": false,
        "editable": false,
        "nbgrader": {
          "cell_type": "code",
          "checksum": "d28a20601d90a246ba28c2fe212606d5",
          "grade": true,
          "grade_id": "cell-79dab044aabea4a1",
          "locked": true,
          "points": 6,
          "schema_version": 3,
          "solution": false,
          "task": false
        },
        "id": "1tSzMN27Nd2P"
      },
      "outputs": [],
      "source": [
        "\n"
      ]
    },
    {
      "cell_type": "markdown",
      "metadata": {
        "deletable": false,
        "editable": false,
        "nbgrader": {
          "cell_type": "markdown",
          "checksum": "d5a16d7b721995a228f61a03c17748a6",
          "grade": false,
          "grade_id": "cell-2feee83d88013b84",
          "locked": true,
          "schema_version": 3,
          "solution": false,
          "task": false
        },
        "id": "wHFCUpYGNd2P"
      },
      "source": [
        "## Parte 2\n",
        "\n",
        "Bienvenido a la segunda parte del laboratorio.\n",
        "\n",
        "**IMPORTANTE**: A continuación encontrarás indicaciones para generar visualizaciones de datos. Luego de crear estas visualizaciones, debes guardarlas, ya que deberás usarlas en la segunda parte del laboratorio."
      ]
    },
    {
      "cell_type": "markdown",
      "metadata": {
        "deletable": false,
        "editable": false,
        "nbgrader": {
          "cell_type": "markdown",
          "checksum": "0d442ed66faf1112b43c425337faeb9e",
          "grade": false,
          "grade_id": "cell-ba2a0c6b698f62dc",
          "locked": true,
          "schema_version": 3,
          "solution": false,
          "task": false
        },
        "id": "gPekITYNNd2Q"
      },
      "source": [
        "### Pregunta 4\n",
        "\n",
        "Cree una visualización que le permita observar/comparar qué tan distinta es la calificación en primer grado `G1` de los estudiantes dependiendo de quién es su tutor (guardian)"
      ]
    },
    {
      "cell_type": "code",
      "execution_count": null,
      "metadata": {
        "deletable": false,
        "nbgrader": {
          "cell_type": "code",
          "checksum": "95c9234a5ffb3304f75e8bc54441cc9b",
          "grade": false,
          "grade_id": "cell-1f481f6ab8934b1c",
          "locked": false,
          "schema_version": 3,
          "solution": true,
          "task": false
        },
        "id": "E0FtGcSUNd2Q"
      },
      "outputs": [],
      "source": [
        "# your code here\n",
        "raise NotImplementedError"
      ]
    },
    {
      "cell_type": "markdown",
      "metadata": {
        "deletable": false,
        "editable": false,
        "nbgrader": {
          "cell_type": "markdown",
          "checksum": "88eb9f071a2c2ff2fcabf3c40c4269a2",
          "grade": false,
          "grade_id": "cell-bf457be832894d29",
          "locked": true,
          "schema_version": 3,
          "solution": false,
          "task": false
        },
        "id": "KMtZg71DNd2Q"
      },
      "source": [
        "## Pregunta 5\n",
        "\n",
        "Cree una visualizacion que permita analizar si hay alguna relacion entre la calificacion en segundo grado `G2` y el tiempo de traslado `traveltime`\n",
        "\n",
        "\n"
      ]
    },
    {
      "cell_type": "code",
      "execution_count": null,
      "metadata": {
        "deletable": false,
        "nbgrader": {
          "cell_type": "code",
          "checksum": "f1931e6b739d36a2af487de18c9cedfe",
          "grade": false,
          "grade_id": "cell-f82ebcc98506c41d",
          "locked": false,
          "schema_version": 3,
          "solution": true,
          "task": false
        },
        "id": "3l4WdAsGNd2Q"
      },
      "outputs": [],
      "source": [
        "# your code here\n",
        "raise NotImplementedError"
      ]
    }
  ],
  "metadata": {
    "kernelspec": {
      "display_name": "Python 3",
      "language": "python",
      "name": "python3"
    },
    "language_info": {
      "codemirror_mode": {
        "name": "ipython",
        "version": 3
      },
      "file_extension": ".py",
      "mimetype": "text/x-python",
      "name": "python",
      "nbconvert_exporter": "python",
      "pygments_lexer": "ipython3",
      "version": "3.7.6"
    },
    "colab": {
      "provenance": [],
      "include_colab_link": true
    }
  },
  "nbformat": 4,
  "nbformat_minor": 0
}