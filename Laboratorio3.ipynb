{
  "cells": [
    {
      "cell_type": "markdown",
      "metadata": {
        "id": "view-in-github",
        "colab_type": "text"
      },
      "source": [
        "<a href=\"https://colab.research.google.com/github/Carolinsrainbow/UC_AnalisisdeDatosEnPython/blob/main/Laboratorio3.ipynb\" target=\"_parent\"><img src=\"https://colab.research.google.com/assets/colab-badge.svg\" alt=\"Open In Colab\"/></a>"
      ]
    },
    {
      "cell_type": "markdown",
      "metadata": {
        "deletable": false,
        "editable": false,
        "nbgrader": {
          "cell_type": "markdown",
          "checksum": "c28a7f41eba620a80e8764eaec571295",
          "grade": false,
          "grade_id": "cell-84e53a310c2d8b57",
          "locked": true,
          "schema_version": 3,
          "solution": false,
          "task": false
        },
        "id": "_hQbogu9Nd2B"
      },
      "source": [
        "# Laboratorio 3\n",
        "\n",
        "Bienvenido al tercer laboratorio del curso Análisis de Datos en Python.\n",
        "\n",
        "Escribe el código correspondiente para contestar cada una de las preguntas. Fíjate muy bien en el nombre de las variables, ya que de lo contrario, tu trabajo no podrá ser evaluado de manera correcta.\n",
        "\n",
        "Debes ir ejecutando las celdas de codigo en el orden que aparecen, para evitar tener errores.\n",
        "\n",
        "El laboratorio consta de dos partes: la primera, que realizarás en este jupyter notebook y la segunda, que se encuentra en el recurso llamado \"Laboratorio 3: visualización de datos y asociación (Parte 2)\""
      ]
    },
    {
      "cell_type": "code",
      "execution_count": 4,
      "metadata": {
        "deletable": false,
        "editable": false,
        "nbgrader": {
          "cell_type": "code",
          "checksum": "4f261b3364af4a0a05fd931a3ddf393c",
          "grade": false,
          "grade_id": "cell-2af2c97d53614353",
          "locked": true,
          "schema_version": 3,
          "solution": false,
          "task": false
        },
        "id": "kft4FZndNd2D"
      },
      "outputs": [],
      "source": [
        "## Primero importamos las librerias y los datos que utilizaremos.\n",
        "import pandas as pd\n",
        "import numpy as np\n",
        "import matplotlib.pyplot as plt\n",
        "import seaborn as sns\n",
        "import warnings\n",
        "warnings.filterwarnings('ignore')\n",
        "base = pd.read_excel('Tarea3.xlsx')"
      ]
    },
    {
      "cell_type": "markdown",
      "metadata": {
        "deletable": false,
        "editable": false,
        "nbgrader": {
          "cell_type": "markdown",
          "checksum": "6639eec29015798aca11e138c39bc918",
          "grade": false,
          "grade_id": "cell-c0ee146b134d6d5b",
          "locked": true,
          "schema_version": 3,
          "solution": false,
          "task": false
        },
        "id": "Ue_n85HTNd2F"
      },
      "source": [
        "## Parte 1\n",
        "\n",
        "La primera parte del laboratorio consta de tres preguntas que se detallan a continuación. Sigue las indicaciones de cada pregunta para lograr el puntaje"
      ]
    },
    {
      "cell_type": "markdown",
      "metadata": {
        "deletable": false,
        "editable": false,
        "nbgrader": {
          "cell_type": "markdown",
          "checksum": "d296225325a7592f725e4a974e377b5d",
          "grade": false,
          "grade_id": "cell-7a0693c94117644a",
          "locked": true,
          "schema_version": 3,
          "solution": false,
          "task": false
        },
        "id": "C25rHkcTNd2F"
      },
      "source": [
        "### Pregunta 1\n",
        "\n",
        "¿Cuál es la correlación entre ausencias (absences) a clases de un estudiante y las demás variables numéricas de las bases de datos?\n",
        "\n",
        "Hint: Crea la matriz de correlacion utilizando el metodo `corr()` de pandas y luego extrae solo la columna de correlaciones con la variable `absences`. Almacena la información en la variable `student_corr` de forma directa en como la has calculado"
      ]
    },
    {
      "cell_type": "code",
      "execution_count": 5,
      "metadata": {
        "deletable": false,
        "nbgrader": {
          "cell_type": "code",
          "checksum": "5eabd1a14e8301fd59165496392b8a7a",
          "grade": false,
          "grade_id": "cell-6006b5555ba5c615",
          "locked": false,
          "schema_version": 3,
          "solution": true,
          "task": false
        },
        "colab": {
          "base_uri": "https://localhost:8080/"
        },
        "id": "oEpC1giFNd2G",
        "outputId": "dd5edee1-bcef-4666-8a59-e5abf4c11ef6"
      },
      "outputs": [
        {
          "output_type": "stream",
          "name": "stdout",
          "text": [
            "age           0.175230\n",
            "Medu          0.100285\n",
            "Fedu          0.024473\n",
            "traveltime   -0.012944\n",
            "studytime    -0.062700\n",
            "failures      0.063726\n",
            "famrel       -0.044354\n",
            "freetime     -0.058078\n",
            "goout         0.044302\n",
            "Dalc          0.111908\n",
            "Walc          0.136291\n",
            "health       -0.029937\n",
            "absences      1.000000\n",
            "G1           -0.031003\n",
            "G2           -0.031777\n",
            "G3            0.034247\n",
            "Name: absences, dtype: float64\n"
          ]
        }
      ],
      "source": [
        "student_corr=None\n",
        "\n",
        "# your code here\n",
        "#raise NotImplementedError\n",
        "\n",
        "correlation_matrix = base.corr(numeric_only=True)\n",
        "student_corr = correlation_matrix['absences']\n",
        "print(student_corr)"
      ]
    },
    {
      "cell_type": "markdown",
      "metadata": {
        "deletable": false,
        "editable": false,
        "nbgrader": {
          "cell_type": "markdown",
          "checksum": "a3472cde652a2f2725df7b54b1989ef0",
          "grade": false,
          "grade_id": "cell-6457d0dce6113525",
          "locked": true,
          "schema_version": 3,
          "solution": false,
          "task": false
        },
        "id": "2D31JyduNd2G"
      },
      "source": [
        "Revisemos que las dimensiones sean las correctas. Recuerda que solo deben quedar aquellas variables de tipo numericas"
      ]
    },
    {
      "cell_type": "code",
      "execution_count": 6,
      "metadata": {
        "deletable": false,
        "editable": false,
        "nbgrader": {
          "cell_type": "code",
          "checksum": "b2000873b54e16816958aed026ded3cd",
          "grade": false,
          "grade_id": "cell-27ab22fbfb1e2c5d",
          "locked": true,
          "schema_version": 3,
          "solution": false,
          "task": false
        },
        "colab": {
          "base_uri": "https://localhost:8080/"
        },
        "id": "knnTeb8BNd2H",
        "outputId": "54f18003-2480-45fd-8f73-62d2df7522de"
      },
      "outputs": [
        {
          "output_type": "stream",
          "name": "stdout",
          "text": [
            "True\n"
          ]
        }
      ],
      "source": [
        "print(student_corr.shape == (16,))"
      ]
    },
    {
      "cell_type": "markdown",
      "metadata": {
        "deletable": false,
        "editable": false,
        "nbgrader": {
          "cell_type": "markdown",
          "checksum": "4776a4ddde1146e862a1b255042f410c",
          "grade": false,
          "grade_id": "cell-828d91b393a3ef3a",
          "locked": true,
          "schema_version": 3,
          "solution": false,
          "task": false
        },
        "id": "3pdzICbuNd2H"
      },
      "source": [
        "Veremos si has calculado correctamente las correlaciones, chequearemos con la misma variable `absences` y tambien con `age`"
      ]
    },
    {
      "cell_type": "code",
      "execution_count": 7,
      "metadata": {
        "deletable": false,
        "editable": false,
        "nbgrader": {
          "cell_type": "code",
          "checksum": "405552d47da20140a66ad12552683d80",
          "grade": true,
          "grade_id": "cell-b49ce5b526acbc94",
          "locked": true,
          "points": 2,
          "schema_version": 3,
          "solution": false,
          "task": false
        },
        "id": "jge2LU69Nd2H"
      },
      "outputs": [],
      "source": [
        "assert student_corr['absences'] == 1.0, \"La correlación de absences es distinta de 1\"\n",
        "assert np.round(student_corr['age'], 3) == 0.175, \"La correlación de age es incorrecta\""
      ]
    },
    {
      "cell_type": "markdown",
      "metadata": {
        "deletable": false,
        "editable": false,
        "nbgrader": {
          "cell_type": "markdown",
          "checksum": "cfd9e685de2c47048fc1e398529c3e14",
          "grade": false,
          "grade_id": "cell-60a8048930dabe47",
          "locked": true,
          "schema_version": 3,
          "solution": false,
          "task": false
        },
        "id": "dmnW7IFRNd2I"
      },
      "source": [
        "La siguiente celda contiene test ocultos, que siguen el mismo formato de los anteriores"
      ]
    },
    {
      "cell_type": "code",
      "execution_count": null,
      "metadata": {
        "deletable": false,
        "editable": false,
        "nbgrader": {
          "cell_type": "code",
          "checksum": "cf088b0c23a8a884a741766fda8bf40c",
          "grade": true,
          "grade_id": "cell-391aea6a96a80f21",
          "locked": true,
          "points": 5,
          "schema_version": 3,
          "solution": false,
          "task": false
        },
        "id": "v_dI34oqNd2I"
      },
      "outputs": [],
      "source": []
    },
    {
      "cell_type": "markdown",
      "metadata": {
        "deletable": false,
        "editable": false,
        "nbgrader": {
          "cell_type": "markdown",
          "checksum": "c7b1eb573670b61f686b1852bf147976",
          "grade": false,
          "grade_id": "cell-bbfec298917265e0",
          "locked": true,
          "schema_version": 3,
          "solution": false,
          "task": false
        },
        "id": "8SH_dlpCNd2I"
      },
      "source": [
        "Ahora contesta: ¿Alguna de estas correlaciones es relevante?\n",
        "\n",
        "Rellena la variable `existen` con `YES` si hay variables significativas o `NO` si no las hay.\n",
        "\n",
        "En caso de existir una o más variables significativas, rellena `variable` con el nombre de la variable en formato string que mayor significancia posea, por ejemplo, `TRAVELTIME`.\n",
        "\n",
        "Si ninguna variable es significativa, rellena `variable = \"NO\"`"
      ]
    },
    {
      "cell_type": "code",
      "execution_count": 8,
      "metadata": {
        "deletable": false,
        "nbgrader": {
          "cell_type": "code",
          "checksum": "54eabd9bfe6b3f1f04bc130f191ab1c8",
          "grade": false,
          "grade_id": "cell-698f15c5b996d7d0",
          "locked": false,
          "schema_version": 3,
          "solution": true,
          "task": false
        },
        "id": "FWFG6a9YNd2J"
      },
      "outputs": [],
      "source": [
        "existen=None\n",
        "variable=None\n",
        "\n",
        "# your code here\n",
        "#raise NotImplementedError\n",
        "variable = 'NO'"
      ]
    },
    {
      "cell_type": "code",
      "execution_count": 9,
      "metadata": {
        "deletable": false,
        "editable": false,
        "nbgrader": {
          "cell_type": "code",
          "checksum": "5864d928571478b77ba99a98476b71c4",
          "grade": false,
          "grade_id": "cell-04c9a0a875f64944",
          "locked": true,
          "schema_version": 3,
          "solution": false,
          "task": false
        },
        "colab": {
          "base_uri": "https://localhost:8080/"
        },
        "id": "ibL4nmHQNd2J",
        "outputId": "96abcf75-8065-4a75-9024-38c4b523531d"
      },
      "outputs": [
        {
          "output_type": "stream",
          "name": "stdout",
          "text": [
            "False\n",
            "True\n"
          ]
        }
      ],
      "source": [
        "print(existen in [\"YES\", \"NO\"])\n",
        "print(variable in list(base.columns)+[\"NO\"])"
      ]
    },
    {
      "cell_type": "code",
      "execution_count": 9,
      "metadata": {
        "deletable": false,
        "editable": false,
        "nbgrader": {
          "cell_type": "code",
          "checksum": "88e7530efd72a4e57b5df9d0bc360fa0",
          "grade": true,
          "grade_id": "cell-72896b3f7d12124f",
          "locked": true,
          "points": 3,
          "schema_version": 3,
          "solution": false,
          "task": false
        },
        "id": "8XzcC0j-Nd2K"
      },
      "outputs": [],
      "source": []
    },
    {
      "cell_type": "markdown",
      "metadata": {
        "deletable": false,
        "editable": false,
        "nbgrader": {
          "cell_type": "markdown",
          "checksum": "63a6434de802dc2f042b270cb9e74db4",
          "grade": false,
          "grade_id": "cell-e5da29d872766d3a",
          "locked": true,
          "schema_version": 3,
          "solution": false,
          "task": false
        },
        "id": "KGzMMBkFNd2K"
      },
      "source": [
        "### Pregunta 2\n",
        "\n",
        "Calcula las ausencias promedio según escuela y almacénalo en la variable  'escuela_promedio', no se debe aproximar ni redondear el valor\n",
        "\n",
        "Calcula las ausencias promedio según género y almacénalo en la variable  'genero_promedio', no se debe aproximar ni redondear el valor\n",
        "\n",
        "Recuerda aplicar un .reset_index()\n"
      ]
    },
    {
      "cell_type": "code",
      "execution_count": 13,
      "metadata": {
        "deletable": false,
        "nbgrader": {
          "cell_type": "code",
          "checksum": "19106a11702db4a9d5e316b921cd89d7",
          "grade": false,
          "grade_id": "cell-bf7e9abf40c2e270",
          "locked": false,
          "schema_version": 3,
          "solution": true,
          "task": false
        },
        "colab": {
          "base_uri": "https://localhost:8080/"
        },
        "id": "wonSbKQINd2L",
        "outputId": "a955fe2e-569d-47a7-f486-0107b7debb46"
      },
      "outputs": [
        {
          "output_type": "stream",
          "name": "stdout",
          "text": [
            "  school  absences\n",
            "0     GP  5.965616\n",
            "1     MS  3.760870\n",
            "  sex  absences\n",
            "0   F  6.216346\n",
            "1   M  5.144385\n"
          ]
        }
      ],
      "source": [
        "escuela_promedio=None\n",
        "genero_promedio=None\n",
        "\n",
        "# your code here\n",
        "# raise NotImplementedError\n",
        "\n",
        "# Calculamos el promedio de ausencias filtrando por colegio y ausencias,agregamos el reset index para tener el formato que nos piden\n",
        "escuela_promedio = base.groupby('school')['absences'].mean().reset_index()\n",
        "print(escuela_promedio)\n",
        "\n",
        "# Calcular las ausencias promedio según género\n",
        "genero_promedio = base.groupby('sex')['absences'].mean().reset_index()\n",
        "print(genero_promedio)\n"
      ]
    },
    {
      "cell_type": "markdown",
      "metadata": {
        "deletable": false,
        "editable": false,
        "nbgrader": {
          "cell_type": "markdown",
          "checksum": "af7ff6cefb1d5fa548e93df63bc97dc5",
          "grade": false,
          "grade_id": "cell-ce8fca51f0ce7e03",
          "locked": true,
          "schema_version": 3,
          "solution": false,
          "task": false
        },
        "id": "XWhFSY25Nd2L"
      },
      "source": [
        "`escuela_promedio` debe ser de la forma:\n",
        "\n",
        "|   | school\t  | absences  |\n",
        "|---|---|---|\n",
        "|0 | GP  | XXXXX  |\n",
        "|1 | MS  | XXXXX  |\n",
        "\n",
        "`genero_promedio` debe ser de la forma:\n",
        "\n",
        "|   | sex\t  | absences  |\n",
        "|---|---|---|\n",
        "|0 | F  | XXXXX  |\n",
        "|1 | M  | XXXXX  |"
      ]
    },
    {
      "cell_type": "code",
      "execution_count": 14,
      "metadata": {
        "deletable": false,
        "editable": false,
        "nbgrader": {
          "cell_type": "code",
          "checksum": "c62d9224d2f265295bb3426aca97eec8",
          "grade": false,
          "grade_id": "cell-38c49c7885d399ad",
          "locked": true,
          "schema_version": 3,
          "solution": false,
          "task": false
        },
        "colab": {
          "base_uri": "https://localhost:8080/"
        },
        "id": "GI9dyF4fNd2M",
        "outputId": "8b4477cb-0228-40a1-fa31-696cb798d9e7"
      },
      "outputs": [
        {
          "output_type": "execute_result",
          "data": {
            "text/plain": [
              "True"
            ]
          },
          "metadata": {},
          "execution_count": 14
        }
      ],
      "source": [
        "list(escuela_promedio.columns) == ['school', 'absences']\n",
        "\n",
        "## Si esta celda entrega un False, recuerda usar reset_index()"
      ]
    },
    {
      "cell_type": "markdown",
      "metadata": {
        "deletable": false,
        "editable": false,
        "nbgrader": {
          "cell_type": "markdown",
          "checksum": "355a9f627c0fc959803b21966af90a04",
          "grade": false,
          "grade_id": "cell-762907efe2cecd36",
          "locked": true,
          "schema_version": 3,
          "solution": false,
          "task": false
        },
        "id": "dMqSQPNBNd2M"
      },
      "source": [
        "Los promedios por escuelas estaran en un test visible:"
      ]
    },
    {
      "cell_type": "code",
      "execution_count": 15,
      "metadata": {
        "deletable": false,
        "editable": false,
        "nbgrader": {
          "cell_type": "code",
          "checksum": "af4afdd502f886bfdade65e0594c4d7a",
          "grade": true,
          "grade_id": "cell-bfaf0b2a06b8726c",
          "locked": true,
          "points": 5,
          "schema_version": 3,
          "solution": false,
          "task": false
        },
        "id": "rW_2lc5GNd2M"
      },
      "outputs": [],
      "source": [
        "assert np.round(escuela_promedio[escuela_promedio[\"school\"] == \"GP\"][\"absences\"].values,3) == 5.966, \"Tus promedios para escuela tipo GP estan incorrectos\"\n",
        "assert np.round(escuela_promedio[escuela_promedio[\"school\"] == \"MS\"][\"absences\"].values,3) == 3.761, \"Tus promedios para escuela tipo MS estan incorrectos\""
      ]
    },
    {
      "cell_type": "markdown",
      "metadata": {
        "deletable": false,
        "editable": false,
        "nbgrader": {
          "cell_type": "markdown",
          "checksum": "08ee784035f35462dbb5cede2736bbaa",
          "grade": false,
          "grade_id": "cell-844ea06f0890857c",
          "locked": true,
          "schema_version": 3,
          "solution": false,
          "task": false
        },
        "id": "kJRPYWbUNd2N"
      },
      "source": [
        "Y el siguiente test oculto revisara, siguiendo el mismo formato anterior, los promedios por genero:"
      ]
    },
    {
      "cell_type": "code",
      "execution_count": null,
      "metadata": {
        "deletable": false,
        "editable": false,
        "nbgrader": {
          "cell_type": "code",
          "checksum": "242130b580543071dffc2137af52e1ed",
          "grade": true,
          "grade_id": "cell-391d188fc9c3eadb",
          "locked": true,
          "points": 5,
          "schema_version": 3,
          "solution": false,
          "task": false
        },
        "id": "3E9OGq2rNd2N"
      },
      "outputs": [],
      "source": [
        "\n",
        "\n"
      ]
    },
    {
      "cell_type": "markdown",
      "metadata": {
        "deletable": false,
        "editable": false,
        "nbgrader": {
          "cell_type": "markdown",
          "checksum": "ae11c763b9e96bb8465cef0f328c6165",
          "grade": false,
          "grade_id": "cell-1e270509a2505f66",
          "locked": true,
          "schema_version": 3,
          "solution": false,
          "task": false
        },
        "id": "X4HcojtcNd2N"
      },
      "source": [
        "### Pregunta 3\n",
        "Consideremos ahora que el indicador que quiere observar es si un estudiante asistió al colegio **todos los días de clases**.\n",
        "\n",
        "Construya una tabla de frecuencias de este indicador con respecto a los años de educación de la mamá (`Medu`) y los años de educación del papá del estudiante (`Fedu`). Utilice `Fedu` como columnas y `Medu` como filas\n",
        "\n",
        "Almacene la tabla en la variable `tabla_student`. La forma de esta tabla debe ser la siguiente:\n",
        "\n",
        "|Fedu<br>Medu|1<br> |2<br> |3<br> |4<br> |\n",
        "|---|---|---|---|---|\n",
        "|0| | | | |\n",
        "|1| | | | |\n",
        "|2| | | | |\n",
        "|3| | | | |\n",
        "|4| | | | |\n",
        "\n",
        "Aclaracion: Lo que se debe contar como frecuencia es la cantidad de estudiantes que no faltaron ningún día a clases.\n",
        "\n",
        "**Hint**: El comando `.crosstab` puede resultarle de utilidad (https://pandas.pydata.org/docs/reference/api/pandas.crosstab.html)"
      ]
    },
    {
      "cell_type": "code",
      "execution_count": 34,
      "metadata": {
        "deletable": false,
        "nbgrader": {
          "cell_type": "code",
          "checksum": "e2a3059dbaf45fdd8aed82a731f8dc48",
          "grade": false,
          "grade_id": "cell-0d1a5ffc9261b447",
          "locked": false,
          "schema_version": 3,
          "solution": true,
          "task": false
        },
        "colab": {
          "base_uri": "https://localhost:8080/"
        },
        "id": "f3eT4gvXNd2O",
        "outputId": "3c79a849-7ed9-4e18-e090-f992d09d6746"
      },
      "outputs": [
        {
          "output_type": "stream",
          "name": "stdout",
          "text": [
            "Fedu    0     1     2     3     4\n",
            "Medu                             \n",
            "0     0.0   0.0   2.0   0.0   0.0\n",
            "1     0.0  11.0   3.0   1.0   1.0\n",
            "2     0.0   9.0  16.0   4.0   2.0\n",
            "3     0.0   2.0   9.0  10.0   9.0\n",
            "4     0.0   0.0   4.0  11.0  21.0\n"
          ]
        }
      ],
      "source": [
        "tabla_student=None\n",
        "\n",
        "# your code here\n",
        "# raise NotImplementedError\n",
        "\n",
        "base['asistencia100'] = base['absences'] == 0\n",
        "tabla_student = pd.crosstab(index=base['Medu'], columns=base['Fedu'], values=base['asistencia100'], aggfunc='sum', dropna=False).fillna(0)\n",
        "print(tabla_student)\n"
      ]
    },
    {
      "cell_type": "markdown",
      "metadata": {
        "deletable": false,
        "editable": false,
        "nbgrader": {
          "cell_type": "markdown",
          "checksum": "eb99c58e9b997304004e3315b62a8d11",
          "grade": false,
          "grade_id": "cell-6829603885750203",
          "locked": true,
          "schema_version": 3,
          "solution": false,
          "task": false
        },
        "id": "aGfxIhQxNd2O"
      },
      "source": [
        " El siguiente test probará la combinación FEDU 1 cruzado con MEDU 0. Es decir, la cantidad de estudiantes con `FEDU=1` y `MEDU=0` y **que no hayan faltado ningun dia a clases**"
      ]
    },
    {
      "cell_type": "code",
      "execution_count": 31,
      "metadata": {
        "deletable": false,
        "editable": false,
        "nbgrader": {
          "cell_type": "code",
          "checksum": "ec5127d63c0290da3d7a1ba2d6eafcf6",
          "grade": false,
          "grade_id": "cell-90fb0b9181fc5870",
          "locked": true,
          "schema_version": 3,
          "solution": false,
          "task": false
        },
        "colab": {
          "base_uri": "https://localhost:8080/",
          "height": 235
        },
        "id": "wvoBg8iMNd2P",
        "outputId": "41c935ae-364f-49c1-9639-08d3fc635d30"
      },
      "outputs": [
        {
          "output_type": "execute_result",
          "data": {
            "text/plain": [
              "Fedu    0     1     2     3     4\n",
              "Medu                             \n",
              "0     0.0   0.0   2.0   0.0   0.0\n",
              "1     0.0  11.0   3.0   1.0   1.0\n",
              "2     0.0   9.0  16.0   4.0   2.0\n",
              "3     0.0   2.0   9.0  10.0   9.0\n",
              "4     0.0   0.0   4.0  11.0  21.0"
            ],
            "text/html": [
              "\n",
              "  <div id=\"df-a945c74f-29d4-4e84-8980-e09be8c4de5a\" class=\"colab-df-container\">\n",
              "    <div>\n",
              "<style scoped>\n",
              "    .dataframe tbody tr th:only-of-type {\n",
              "        vertical-align: middle;\n",
              "    }\n",
              "\n",
              "    .dataframe tbody tr th {\n",
              "        vertical-align: top;\n",
              "    }\n",
              "\n",
              "    .dataframe thead th {\n",
              "        text-align: right;\n",
              "    }\n",
              "</style>\n",
              "<table border=\"1\" class=\"dataframe\">\n",
              "  <thead>\n",
              "    <tr style=\"text-align: right;\">\n",
              "      <th>Fedu</th>\n",
              "      <th>0</th>\n",
              "      <th>1</th>\n",
              "      <th>2</th>\n",
              "      <th>3</th>\n",
              "      <th>4</th>\n",
              "    </tr>\n",
              "    <tr>\n",
              "      <th>Medu</th>\n",
              "      <th></th>\n",
              "      <th></th>\n",
              "      <th></th>\n",
              "      <th></th>\n",
              "      <th></th>\n",
              "    </tr>\n",
              "  </thead>\n",
              "  <tbody>\n",
              "    <tr>\n",
              "      <th>0</th>\n",
              "      <td>0.0</td>\n",
              "      <td>0.0</td>\n",
              "      <td>2.0</td>\n",
              "      <td>0.0</td>\n",
              "      <td>0.0</td>\n",
              "    </tr>\n",
              "    <tr>\n",
              "      <th>1</th>\n",
              "      <td>0.0</td>\n",
              "      <td>11.0</td>\n",
              "      <td>3.0</td>\n",
              "      <td>1.0</td>\n",
              "      <td>1.0</td>\n",
              "    </tr>\n",
              "    <tr>\n",
              "      <th>2</th>\n",
              "      <td>0.0</td>\n",
              "      <td>9.0</td>\n",
              "      <td>16.0</td>\n",
              "      <td>4.0</td>\n",
              "      <td>2.0</td>\n",
              "    </tr>\n",
              "    <tr>\n",
              "      <th>3</th>\n",
              "      <td>0.0</td>\n",
              "      <td>2.0</td>\n",
              "      <td>9.0</td>\n",
              "      <td>10.0</td>\n",
              "      <td>9.0</td>\n",
              "    </tr>\n",
              "    <tr>\n",
              "      <th>4</th>\n",
              "      <td>0.0</td>\n",
              "      <td>0.0</td>\n",
              "      <td>4.0</td>\n",
              "      <td>11.0</td>\n",
              "      <td>21.0</td>\n",
              "    </tr>\n",
              "  </tbody>\n",
              "</table>\n",
              "</div>\n",
              "    <div class=\"colab-df-buttons\">\n",
              "\n",
              "  <div class=\"colab-df-container\">\n",
              "    <button class=\"colab-df-convert\" onclick=\"convertToInteractive('df-a945c74f-29d4-4e84-8980-e09be8c4de5a')\"\n",
              "            title=\"Convert this dataframe to an interactive table.\"\n",
              "            style=\"display:none;\">\n",
              "\n",
              "  <svg xmlns=\"http://www.w3.org/2000/svg\" height=\"24px\" viewBox=\"0 -960 960 960\">\n",
              "    <path d=\"M120-120v-720h720v720H120Zm60-500h600v-160H180v160Zm220 220h160v-160H400v160Zm0 220h160v-160H400v160ZM180-400h160v-160H180v160Zm440 0h160v-160H620v160ZM180-180h160v-160H180v160Zm440 0h160v-160H620v160Z\"/>\n",
              "  </svg>\n",
              "    </button>\n",
              "\n",
              "  <style>\n",
              "    .colab-df-container {\n",
              "      display:flex;\n",
              "      gap: 12px;\n",
              "    }\n",
              "\n",
              "    .colab-df-convert {\n",
              "      background-color: #E8F0FE;\n",
              "      border: none;\n",
              "      border-radius: 50%;\n",
              "      cursor: pointer;\n",
              "      display: none;\n",
              "      fill: #1967D2;\n",
              "      height: 32px;\n",
              "      padding: 0 0 0 0;\n",
              "      width: 32px;\n",
              "    }\n",
              "\n",
              "    .colab-df-convert:hover {\n",
              "      background-color: #E2EBFA;\n",
              "      box-shadow: 0px 1px 2px rgba(60, 64, 67, 0.3), 0px 1px 3px 1px rgba(60, 64, 67, 0.15);\n",
              "      fill: #174EA6;\n",
              "    }\n",
              "\n",
              "    .colab-df-buttons div {\n",
              "      margin-bottom: 4px;\n",
              "    }\n",
              "\n",
              "    [theme=dark] .colab-df-convert {\n",
              "      background-color: #3B4455;\n",
              "      fill: #D2E3FC;\n",
              "    }\n",
              "\n",
              "    [theme=dark] .colab-df-convert:hover {\n",
              "      background-color: #434B5C;\n",
              "      box-shadow: 0px 1px 3px 1px rgba(0, 0, 0, 0.15);\n",
              "      filter: drop-shadow(0px 1px 2px rgba(0, 0, 0, 0.3));\n",
              "      fill: #FFFFFF;\n",
              "    }\n",
              "  </style>\n",
              "\n",
              "    <script>\n",
              "      const buttonEl =\n",
              "        document.querySelector('#df-a945c74f-29d4-4e84-8980-e09be8c4de5a button.colab-df-convert');\n",
              "      buttonEl.style.display =\n",
              "        google.colab.kernel.accessAllowed ? 'block' : 'none';\n",
              "\n",
              "      async function convertToInteractive(key) {\n",
              "        const element = document.querySelector('#df-a945c74f-29d4-4e84-8980-e09be8c4de5a');\n",
              "        const dataTable =\n",
              "          await google.colab.kernel.invokeFunction('convertToInteractive',\n",
              "                                                    [key], {});\n",
              "        if (!dataTable) return;\n",
              "\n",
              "        const docLinkHtml = 'Like what you see? Visit the ' +\n",
              "          '<a target=\"_blank\" href=https://colab.research.google.com/notebooks/data_table.ipynb>data table notebook</a>'\n",
              "          + ' to learn more about interactive tables.';\n",
              "        element.innerHTML = '';\n",
              "        dataTable['output_type'] = 'display_data';\n",
              "        await google.colab.output.renderOutput(dataTable, element);\n",
              "        const docLink = document.createElement('div');\n",
              "        docLink.innerHTML = docLinkHtml;\n",
              "        element.appendChild(docLink);\n",
              "      }\n",
              "    </script>\n",
              "  </div>\n",
              "\n",
              "\n",
              "<div id=\"df-52842fda-74ea-416a-8b62-eb2a72c7c719\">\n",
              "  <button class=\"colab-df-quickchart\" onclick=\"quickchart('df-52842fda-74ea-416a-8b62-eb2a72c7c719')\"\n",
              "            title=\"Suggest charts\"\n",
              "            style=\"display:none;\">\n",
              "\n",
              "<svg xmlns=\"http://www.w3.org/2000/svg\" height=\"24px\"viewBox=\"0 0 24 24\"\n",
              "     width=\"24px\">\n",
              "    <g>\n",
              "        <path d=\"M19 3H5c-1.1 0-2 .9-2 2v14c0 1.1.9 2 2 2h14c1.1 0 2-.9 2-2V5c0-1.1-.9-2-2-2zM9 17H7v-7h2v7zm4 0h-2V7h2v10zm4 0h-2v-4h2v4z\"/>\n",
              "    </g>\n",
              "</svg>\n",
              "  </button>\n",
              "\n",
              "<style>\n",
              "  .colab-df-quickchart {\n",
              "      --bg-color: #E8F0FE;\n",
              "      --fill-color: #1967D2;\n",
              "      --hover-bg-color: #E2EBFA;\n",
              "      --hover-fill-color: #174EA6;\n",
              "      --disabled-fill-color: #AAA;\n",
              "      --disabled-bg-color: #DDD;\n",
              "  }\n",
              "\n",
              "  [theme=dark] .colab-df-quickchart {\n",
              "      --bg-color: #3B4455;\n",
              "      --fill-color: #D2E3FC;\n",
              "      --hover-bg-color: #434B5C;\n",
              "      --hover-fill-color: #FFFFFF;\n",
              "      --disabled-bg-color: #3B4455;\n",
              "      --disabled-fill-color: #666;\n",
              "  }\n",
              "\n",
              "  .colab-df-quickchart {\n",
              "    background-color: var(--bg-color);\n",
              "    border: none;\n",
              "    border-radius: 50%;\n",
              "    cursor: pointer;\n",
              "    display: none;\n",
              "    fill: var(--fill-color);\n",
              "    height: 32px;\n",
              "    padding: 0;\n",
              "    width: 32px;\n",
              "  }\n",
              "\n",
              "  .colab-df-quickchart:hover {\n",
              "    background-color: var(--hover-bg-color);\n",
              "    box-shadow: 0 1px 2px rgba(60, 64, 67, 0.3), 0 1px 3px 1px rgba(60, 64, 67, 0.15);\n",
              "    fill: var(--button-hover-fill-color);\n",
              "  }\n",
              "\n",
              "  .colab-df-quickchart-complete:disabled,\n",
              "  .colab-df-quickchart-complete:disabled:hover {\n",
              "    background-color: var(--disabled-bg-color);\n",
              "    fill: var(--disabled-fill-color);\n",
              "    box-shadow: none;\n",
              "  }\n",
              "\n",
              "  .colab-df-spinner {\n",
              "    border: 2px solid var(--fill-color);\n",
              "    border-color: transparent;\n",
              "    border-bottom-color: var(--fill-color);\n",
              "    animation:\n",
              "      spin 1s steps(1) infinite;\n",
              "  }\n",
              "\n",
              "  @keyframes spin {\n",
              "    0% {\n",
              "      border-color: transparent;\n",
              "      border-bottom-color: var(--fill-color);\n",
              "      border-left-color: var(--fill-color);\n",
              "    }\n",
              "    20% {\n",
              "      border-color: transparent;\n",
              "      border-left-color: var(--fill-color);\n",
              "      border-top-color: var(--fill-color);\n",
              "    }\n",
              "    30% {\n",
              "      border-color: transparent;\n",
              "      border-left-color: var(--fill-color);\n",
              "      border-top-color: var(--fill-color);\n",
              "      border-right-color: var(--fill-color);\n",
              "    }\n",
              "    40% {\n",
              "      border-color: transparent;\n",
              "      border-right-color: var(--fill-color);\n",
              "      border-top-color: var(--fill-color);\n",
              "    }\n",
              "    60% {\n",
              "      border-color: transparent;\n",
              "      border-right-color: var(--fill-color);\n",
              "    }\n",
              "    80% {\n",
              "      border-color: transparent;\n",
              "      border-right-color: var(--fill-color);\n",
              "      border-bottom-color: var(--fill-color);\n",
              "    }\n",
              "    90% {\n",
              "      border-color: transparent;\n",
              "      border-bottom-color: var(--fill-color);\n",
              "    }\n",
              "  }\n",
              "</style>\n",
              "\n",
              "  <script>\n",
              "    async function quickchart(key) {\n",
              "      const quickchartButtonEl =\n",
              "        document.querySelector('#' + key + ' button');\n",
              "      quickchartButtonEl.disabled = true;  // To prevent multiple clicks.\n",
              "      quickchartButtonEl.classList.add('colab-df-spinner');\n",
              "      try {\n",
              "        const charts = await google.colab.kernel.invokeFunction(\n",
              "            'suggestCharts', [key], {});\n",
              "      } catch (error) {\n",
              "        console.error('Error during call to suggestCharts:', error);\n",
              "      }\n",
              "      quickchartButtonEl.classList.remove('colab-df-spinner');\n",
              "      quickchartButtonEl.classList.add('colab-df-quickchart-complete');\n",
              "    }\n",
              "    (() => {\n",
              "      let quickchartButtonEl =\n",
              "        document.querySelector('#df-52842fda-74ea-416a-8b62-eb2a72c7c719 button');\n",
              "      quickchartButtonEl.style.display =\n",
              "        google.colab.kernel.accessAllowed ? 'block' : 'none';\n",
              "    })();\n",
              "  </script>\n",
              "</div>\n",
              "\n",
              "  <div id=\"id_530c6c20-2145-49cd-bb28-512de3285260\">\n",
              "    <style>\n",
              "      .colab-df-generate {\n",
              "        background-color: #E8F0FE;\n",
              "        border: none;\n",
              "        border-radius: 50%;\n",
              "        cursor: pointer;\n",
              "        display: none;\n",
              "        fill: #1967D2;\n",
              "        height: 32px;\n",
              "        padding: 0 0 0 0;\n",
              "        width: 32px;\n",
              "      }\n",
              "\n",
              "      .colab-df-generate:hover {\n",
              "        background-color: #E2EBFA;\n",
              "        box-shadow: 0px 1px 2px rgba(60, 64, 67, 0.3), 0px 1px 3px 1px rgba(60, 64, 67, 0.15);\n",
              "        fill: #174EA6;\n",
              "      }\n",
              "\n",
              "      [theme=dark] .colab-df-generate {\n",
              "        background-color: #3B4455;\n",
              "        fill: #D2E3FC;\n",
              "      }\n",
              "\n",
              "      [theme=dark] .colab-df-generate:hover {\n",
              "        background-color: #434B5C;\n",
              "        box-shadow: 0px 1px 3px 1px rgba(0, 0, 0, 0.15);\n",
              "        filter: drop-shadow(0px 1px 2px rgba(0, 0, 0, 0.3));\n",
              "        fill: #FFFFFF;\n",
              "      }\n",
              "    </style>\n",
              "    <button class=\"colab-df-generate\" onclick=\"generateWithVariable('tabla_student')\"\n",
              "            title=\"Generate code using this dataframe.\"\n",
              "            style=\"display:none;\">\n",
              "\n",
              "  <svg xmlns=\"http://www.w3.org/2000/svg\" height=\"24px\"viewBox=\"0 0 24 24\"\n",
              "       width=\"24px\">\n",
              "    <path d=\"M7,19H8.4L18.45,9,17,7.55,7,17.6ZM5,21V16.75L18.45,3.32a2,2,0,0,1,2.83,0l1.4,1.43a1.91,1.91,0,0,1,.58,1.4,1.91,1.91,0,0,1-.58,1.4L9.25,21ZM18.45,9,17,7.55Zm-12,3A5.31,5.31,0,0,0,4.9,8.1,5.31,5.31,0,0,0,1,6.5,5.31,5.31,0,0,0,4.9,4.9,5.31,5.31,0,0,0,6.5,1,5.31,5.31,0,0,0,8.1,4.9,5.31,5.31,0,0,0,12,6.5,5.46,5.46,0,0,0,6.5,12Z\"/>\n",
              "  </svg>\n",
              "    </button>\n",
              "    <script>\n",
              "      (() => {\n",
              "      const buttonEl =\n",
              "        document.querySelector('#id_530c6c20-2145-49cd-bb28-512de3285260 button.colab-df-generate');\n",
              "      buttonEl.style.display =\n",
              "        google.colab.kernel.accessAllowed ? 'block' : 'none';\n",
              "\n",
              "      buttonEl.onclick = () => {\n",
              "        google.colab.notebook.generateWithVariable('tabla_student');\n",
              "      }\n",
              "      })();\n",
              "    </script>\n",
              "  </div>\n",
              "\n",
              "    </div>\n",
              "  </div>\n"
            ],
            "application/vnd.google.colaboratory.intrinsic+json": {
              "type": "dataframe",
              "variable_name": "tabla_student",
              "summary": "{\n  \"name\": \"tabla_student\",\n  \"rows\": 5,\n  \"fields\": [\n    {\n      \"column\": \"Medu\",\n      \"properties\": {\n        \"dtype\": \"number\",\n        \"std\": 1,\n        \"min\": 0,\n        \"max\": 4,\n        \"num_unique_values\": 5,\n        \"samples\": [\n          1,\n          4,\n          2\n        ],\n        \"semantic_type\": \"\",\n        \"description\": \"\"\n      }\n    },\n    {\n      \"column\": 0,\n      \"properties\": {\n        \"dtype\": \"number\",\n        \"std\": 0.0,\n        \"min\": 0.0,\n        \"max\": 0.0,\n        \"num_unique_values\": 1,\n        \"samples\": [\n          0.0\n        ],\n        \"semantic_type\": \"\",\n        \"description\": \"\"\n      }\n    },\n    {\n      \"column\": 1,\n      \"properties\": {\n        \"dtype\": \"number\",\n        \"std\": 5.224940191045253,\n        \"min\": 0.0,\n        \"max\": 11.0,\n        \"num_unique_values\": 4,\n        \"samples\": [\n          11.0\n        ],\n        \"semantic_type\": \"\",\n        \"description\": \"\"\n      }\n    },\n    {\n      \"column\": 2,\n      \"properties\": {\n        \"dtype\": \"number\",\n        \"std\": 5.805170109479997,\n        \"min\": 2.0,\n        \"max\": 16.0,\n        \"num_unique_values\": 5,\n        \"samples\": [\n          3.0\n        ],\n        \"semantic_type\": \"\",\n        \"description\": \"\"\n      }\n    },\n    {\n      \"column\": 3,\n      \"properties\": {\n        \"dtype\": \"number\",\n        \"std\": 5.06951674225463,\n        \"min\": 0.0,\n        \"max\": 11.0,\n        \"num_unique_values\": 5,\n        \"samples\": [\n          1.0\n        ],\n        \"semantic_type\": \"\",\n        \"description\": \"\"\n      }\n    },\n    {\n      \"column\": 4,\n      \"properties\": {\n        \"dtype\": \"number\",\n        \"std\": 8.792041856133306,\n        \"min\": 0.0,\n        \"max\": 21.0,\n        \"num_unique_values\": 5,\n        \"samples\": [\n          1.0\n        ],\n        \"semantic_type\": \"\",\n        \"description\": \"\"\n      }\n    }\n  ]\n}"
            }
          },
          "metadata": {},
          "execution_count": 31
        }
      ],
      "source": [
        "tabla_student"
      ]
    },
    {
      "cell_type": "code",
      "execution_count": 32,
      "metadata": {
        "deletable": false,
        "editable": false,
        "nbgrader": {
          "cell_type": "code",
          "checksum": "d92d9b636ab9c93d263a82cba347bcc5",
          "grade": true,
          "grade_id": "cell-32221ace4f9ca1cd",
          "locked": true,
          "points": 2,
          "schema_version": 3,
          "solution": false,
          "task": false
        },
        "id": "rqHRWrd9Nd2P"
      },
      "outputs": [],
      "source": [
        "assert tabla_student[1][0] == 0, \"Te has equivocado, el valor correcto considerando FEDU 1 y MEDU 0 es 0\""
      ]
    },
    {
      "cell_type": "code",
      "execution_count": 33,
      "metadata": {
        "deletable": false,
        "editable": false,
        "nbgrader": {
          "cell_type": "code",
          "checksum": "f70cbc686e15f80a164be424195fb7af",
          "grade": true,
          "grade_id": "cell-0d3f1a1758969642",
          "locked": true,
          "points": 2,
          "schema_version": 3,
          "solution": false,
          "task": false
        },
        "id": "GhHL9ESNNd2P"
      },
      "outputs": [],
      "source": [
        "assert tabla_student[1][3] == 2, \"Te has equivocado, el valor correcto considerando FEDU 1 y MEDU 3 es 2\""
      ]
    },
    {
      "cell_type": "markdown",
      "metadata": {
        "deletable": false,
        "editable": false,
        "nbgrader": {
          "cell_type": "markdown",
          "checksum": "83eed1948e6558766a5dec9dba54e647",
          "grade": false,
          "grade_id": "cell-bd171066c5883e43",
          "locked": true,
          "schema_version": 3,
          "solution": false,
          "task": false
        },
        "id": "eFJ7ub-cNd2P"
      },
      "source": [
        "El siguiente test es el real con puntaje, en este se escogen algunos valores al azar de la tabla."
      ]
    },
    {
      "cell_type": "code",
      "execution_count": null,
      "metadata": {
        "deletable": false,
        "editable": false,
        "nbgrader": {
          "cell_type": "code",
          "checksum": "d28a20601d90a246ba28c2fe212606d5",
          "grade": true,
          "grade_id": "cell-79dab044aabea4a1",
          "locked": true,
          "points": 6,
          "schema_version": 3,
          "solution": false,
          "task": false
        },
        "id": "1tSzMN27Nd2P"
      },
      "outputs": [],
      "source": [
        "\n"
      ]
    },
    {
      "cell_type": "markdown",
      "metadata": {
        "deletable": false,
        "editable": false,
        "nbgrader": {
          "cell_type": "markdown",
          "checksum": "d5a16d7b721995a228f61a03c17748a6",
          "grade": false,
          "grade_id": "cell-2feee83d88013b84",
          "locked": true,
          "schema_version": 3,
          "solution": false,
          "task": false
        },
        "id": "wHFCUpYGNd2P"
      },
      "source": [
        "## Parte 2\n",
        "\n",
        "Bienvenido a la segunda parte del laboratorio.\n",
        "\n",
        "**IMPORTANTE**: A continuación encontrarás indicaciones para generar visualizaciones de datos. Luego de crear estas visualizaciones, debes guardarlas, ya que deberás usarlas en la segunda parte del laboratorio."
      ]
    },
    {
      "cell_type": "markdown",
      "metadata": {
        "deletable": false,
        "editable": false,
        "nbgrader": {
          "cell_type": "markdown",
          "checksum": "0d442ed66faf1112b43c425337faeb9e",
          "grade": false,
          "grade_id": "cell-ba2a0c6b698f62dc",
          "locked": true,
          "schema_version": 3,
          "solution": false,
          "task": false
        },
        "id": "gPekITYNNd2Q"
      },
      "source": [
        "### Pregunta 4\n",
        "\n",
        "Cree una visualización que le permita observar/comparar qué tan distinta es la calificación en primer grado `G1` de los estudiantes dependiendo de quién es su tutor (guardian)"
      ]
    },
    {
      "cell_type": "code",
      "execution_count": 37,
      "metadata": {
        "deletable": false,
        "nbgrader": {
          "cell_type": "code",
          "checksum": "95c9234a5ffb3304f75e8bc54441cc9b",
          "grade": false,
          "grade_id": "cell-1f481f6ab8934b1c",
          "locked": false,
          "schema_version": 3,
          "solution": true,
          "task": false
        },
        "colab": {
          "base_uri": "https://localhost:8080/",
          "height": 564
        },
        "id": "E0FtGcSUNd2Q",
        "outputId": "51df959e-b66b-4a85-d980-629bb2f8e852"
      },
      "outputs": [
        {
          "output_type": "display_data",
          "data": {
            "text/plain": [
              "<Figure size 1000x600 with 1 Axes>"
            ],
            "image/png": "[encoded data removed]"
          },
          "metadata": {}
        }
      ],
      "source": [
        "# your code here\n",
        "#raise NotImplementedError\n",
        "\n",
        "# Crear el gráfico de caja (boxplot)\n",
        "plt.figure(figsize=(10, 6))\n",
        "sns.boxplot(x='guardian', y='G1', data=base)\n",
        "\n",
        "# Añadir título y etiquetas\n",
        "plt.title('Calificaciones en Primer Grado comparativo en base a tutor')\n",
        "plt.xlabel('Tutor')\n",
        "plt.ylabel('Calificación en Primer Grado')\n",
        "\n",
        "# Mostrar el gráfico\n",
        "plt.show()"
      ]
    },
    {
      "cell_type": "markdown",
      "metadata": {
        "deletable": false,
        "editable": false,
        "nbgrader": {
          "cell_type": "markdown",
          "checksum": "88eb9f071a2c2ff2fcabf3c40c4269a2",
          "grade": false,
          "grade_id": "cell-bf457be832894d29",
          "locked": true,
          "schema_version": 3,
          "solution": false,
          "task": false
        },
        "id": "KMtZg71DNd2Q"
      },
      "source": [
        "## Pregunta 5\n",
        "\n",
        "Cree una visualizacion que permita analizar si hay alguna relacion entre la calificacion en segundo grado `G2` y el tiempo de traslado `traveltime`\n",
        "\n",
        "\n"
      ]
    },
    {
      "cell_type": "code",
      "execution_count": 40,
      "metadata": {
        "deletable": false,
        "nbgrader": {
          "cell_type": "code",
          "checksum": "f1931e6b739d36a2af487de18c9cedfe",
          "grade": false,
          "grade_id": "cell-f82ebcc98506c41d",
          "locked": false,
          "schema_version": 3,
          "solution": true,
          "task": false
        },
        "colab": {
          "base_uri": "https://localhost:8080/",
          "height": 565
        },
        "id": "3l4WdAsGNd2Q",
        "outputId": "25e7fcc8-0f2b-4a59-f4fe-4fd491185f78"
      },
      "outputs": [
        {
          "output_type": "display_data",
          "data": {
            "text/plain": [
              "<Figure size 1000x600 with 1 Axes>"
            ],
            "image/png": "[encoded data removed]"
          },
          "metadata": {}
        }
      ],
      "source": [
        "# your code here\n",
        "# raise NotImplementedError\n",
        "# Crear el gráfico de dispersión (scatter plot)\n",
        "\n",
        "plt.figure(figsize=(10, 6))\n",
        "sns.scatterplot(x='traveltime', y='G2', data=base)\n",
        "\n",
        "# Añadir título y etiquetas\n",
        "plt.title('Relación entre Calificación en Segundo Grado vs Tiempo de Traslado')\n",
        "plt.xlabel('Tiempo de Traslado')\n",
        "plt.ylabel('Calificación en Segundo Grado')\n",
        "\n",
        "# Mostrar el gráfico\n",
        "plt.show()"
      ]
    }
  ],
  "metadata": {
    "kernelspec": {
      "display_name": "Python 3",
      "language": "python",
      "name": "python3"
    },
    "language_info": {
      "codemirror_mode": {
        "name": "ipython",
        "version": 3
      },
      "file_extension": ".py",
      "mimetype": "text/x-python",
      "name": "python",
      "nbconvert_exporter": "python",
      "pygments_lexer": "ipython3",
      "version": "3.7.6"
    },
    "colab": {
      "provenance": [],
      "include_colab_link": true
    }
  },
  "nbformat": 4,
  "nbformat_minor": 0
}