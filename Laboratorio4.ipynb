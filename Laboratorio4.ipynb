{
  "cells": [
    {
      "cell_type": "markdown",
      "metadata": {
        "id": "view-in-github",
        "colab_type": "text"
      },
      "source": [
        "<a href=\"https://colab.research.google.com/github/Carolinsrainbow/UC_AnalisisdeDatosEnPython/blob/main/Laboratorio4.ipynb\" target=\"_parent\"><img src=\"https://colab.research.google.com/assets/colab-badge.svg\" alt=\"Open In Colab\"/></a>"
      ]
    },
    {
      "cell_type": "markdown",
      "metadata": {
        "deletable": false,
        "editable": false,
        "nbgrader": {
          "cell_type": "markdown",
          "checksum": "d7daedafed3feec2882e55c4f6c31fb8",
          "grade": false,
          "grade_id": "cell-bdf64918d232af81",
          "locked": true,
          "schema_version": 3,
          "solution": false,
          "task": false
        },
        "id": "3n_5j8ZLFQsU"
      },
      "source": [
        "# Laboratorio 4 (Trabajo final, parte uno)\n",
        "\n",
        "Bienvenido al tercer laboratorio del curso Análisis de Datos en Python.\n",
        "\n",
        "Escribe el código correspondiente para contestar cada una de las preguntas. Fíjate muy bien en el nombre de las variables, ya que de lo contrario, tu trabajo no podrá ser evaluado de manera correcta.\n",
        "\n",
        "Debes ir ejecutando las celdas de codigo en el orden que aparecen, para evitar tener errores.\n",
        "\n",
        "El laboratorio consta de dos partes: la primera, que realizarás en este jupyter notebook y la segunda, que se encuentra en el recurso llamado \"Trabajo final (parte 2)\""
      ]
    },
    {
      "cell_type": "code",
      "execution_count": 1,
      "metadata": {
        "deletable": false,
        "editable": false,
        "nbgrader": {
          "cell_type": "code",
          "checksum": "b04f0b2bce92801e460fd1a50c551db0",
          "grade": false,
          "grade_id": "cell-fc3f134aeefe4fb3",
          "locked": true,
          "schema_version": 3,
          "solution": false,
          "task": false
        },
        "id": "JW3YmaCQFQsX"
      },
      "outputs": [],
      "source": [
        "## Primero importamos las librerias y los datos que utilizaremos.\n",
        "import pandas as pd\n",
        "import numpy as np\n",
        "import matplotlib.pyplot as plt\n",
        "import seaborn as sns\n",
        "import datetime\n",
        "from sklearn.model_selection import train_test_split\n",
        "from sklearn.preprocessing import StandardScaler\n",
        "from sklearn.preprocessing import MinMaxScaler\n",
        "from sklearn.linear_model import LinearRegression\n",
        "from sklearn.metrics import r2_score\n",
        "from sklearn.metrics import mean_squared_error\n",
        "from sklearn.metrics import mean_absolute_error\n",
        "from sklearn.cluster import KMeans\n",
        "from sklearn import preprocessing\n",
        "import matplotlib.pyplot as plt\n",
        "import warnings\n",
        "warnings.filterwarnings('ignore')\n",
        "data = pd.read_excel('Tarea 4.xlsx', sheet_name = 'cellphones data')\n",
        "ratings = pd.read_excel('Tarea 4.xlsx', sheet_name = 'cellphones ratings')\n",
        "users = pd.read_excel('Tarea 4.xlsx', sheet_name = 'cellphones users')"
      ]
    },
    {
      "cell_type": "markdown",
      "metadata": {
        "deletable": false,
        "editable": false,
        "nbgrader": {
          "cell_type": "markdown",
          "checksum": "47cdc34dca2b522e70c7878bf104696f",
          "grade": false,
          "grade_id": "cell-e475dab07aeaf103",
          "locked": true,
          "schema_version": 3,
          "solution": false,
          "task": false
        },
        "id": "etCWtKT4FQsY"
      },
      "source": [
        "### Pregunta 1\n",
        "\n",
        "Utilice el método de agrupación “K-Means” y construya 3 agrupaciones de celulares, considerando los siguientes atributos\n",
        "\n",
        "`['internal memory','RAM','performance','main camera','selfie camera','battery size']`\n",
        "\n",
        "¿Qué puede decir sobre los precios de venta de los celulares de cada grupo?\n",
        "\n",
        "Para responder a lo anterior, construye un dataframe que contega los 3 clusters y para cada grupo obtenga el precio promedio, la desviación estandar del precio, precio mínimo y precio máximo.\n",
        "\n",
        "**MUY IMPORTANTE**\n",
        "* NO debes aproximar ni redondear ningún valor\n",
        "* Utilizar la función `preprocessing.MinMaxScaler()` para estandarizar datos.\n",
        "* Usa la función `KMeans` con `random_state=42`. Los datos que entregas a esta función deben estar estandarizados, según el punto anterior."
      ]
    },
    {
      "cell_type": "markdown",
      "metadata": {
        "deletable": false,
        "editable": false,
        "nbgrader": {
          "cell_type": "markdown",
          "checksum": "4c5e6299e4f5ce2ee6fc303171eec54f",
          "grade": false,
          "grade_id": "cell-04fc5db282edb6c0",
          "locked": true,
          "schema_version": 3,
          "solution": false,
          "task": false
        },
        "id": "HHo9j5A-FQsY"
      },
      "source": [
        "Debes crear una tabla de la forma:\n",
        "\n",
        "\n",
        "|   | Grupo k means | Precio promedio | Desv est precio | Precio mínimo | Precio máximo |\n",
        "|---|---|---|---|---|---|\n",
        "|0 | 0  | XXXXX  |  XXXXX  |  XXXXX  |  XXXXX  |\n",
        "|1 | 1  | XXXXX  |  XXXXX  |  XXXXX  |  XXXXX  |\n",
        "|2 | 2  | XXXXX  |  XXXXX  |  XXXXX  |  XXXXX  |\n",
        "\n",
        "Utiliza los mismos nombres para los Headers: Grupo k means, Precio promedio, Desv est precio, Precio mínimo, Precio máximo. Es importante que respetes las mayúsculas de dichos nombres tal cual son señalados.\n",
        "Debe guardarse en la variable 'data_grupos'"
      ]
    },
    {
      "cell_type": "code",
      "execution_count": null,
      "metadata": {
        "deletable": false,
        "nbgrader": {
          "cell_type": "code",
          "checksum": "602301facd18ebe260b63027684e1afe",
          "grade": false,
          "grade_id": "cell-90bc898769b7238d",
          "locked": false,
          "schema_version": 3,
          "solution": true,
          "task": false
        },
        "id": "KhooFH9EFQsZ"
      },
      "outputs": [],
      "source": [
        "data_grupos=None\n",
        "\n",
        "columnas = ['internal memory','RAM','performance','main camera','selfie camera','battery size']\n",
        "\n",
        "# your code here\n",
        "raise NotImplementedError"
      ]
    },
    {
      "cell_type": "markdown",
      "metadata": {
        "deletable": false,
        "editable": false,
        "nbgrader": {
          "cell_type": "markdown",
          "checksum": "3bb8b4d6d771d0906ae640dc50bd5345",
          "grade": false,
          "grade_id": "cell-cba6e4d4ec3af7e7",
          "locked": true,
          "schema_version": 3,
          "solution": false,
          "task": false
        },
        "id": "z0PXmu6uFQsa"
      },
      "source": [
        "Haremos un test visible para ver si estamos por buen camino, usaremos de ejemplo el primer grupo (Grupo 0). Tu tabla debe comenzar de la siguiente forma:\n",
        "\n",
        "|   | Grupo k means | Precio promedio | Desv est precio | Precio mínimo | Precio máximo |\n",
        "|---|---|---|---|---|---|\n",
        "|0 | 0  | 225.375000 |  122.057290  |  129  |  500  |\n"
      ]
    },
    {
      "cell_type": "code",
      "execution_count": null,
      "metadata": {
        "deletable": false,
        "editable": false,
        "nbgrader": {
          "cell_type": "code",
          "checksum": "8081a49995c6e91c27320741cd654a0a",
          "grade": true,
          "grade_id": "cell-4065dead0f031387",
          "locked": true,
          "points": 10,
          "schema_version": 3,
          "solution": false,
          "task": false
        },
        "id": "7YEH3TJIFQsb"
      },
      "outputs": [],
      "source": [
        "# Revisión del primer cluster\n",
        "\n",
        "data_cluster_0 = data_grupos[data_grupos[\"Grupo k means\"] == 0]\n",
        "\n",
        "assert np.round(data_cluster_0[\"Precio promedio\"].values,1) == 225.4, \"Promedio del cluster 0 con errores\"\n",
        "assert np.round(data_cluster_0[\"Desv est precio\"].values, 1) == 122.1, \"Desviación estandar del cluster 0 con errores\"\n",
        "\n",
        "assert np.round(data_cluster_0[\"Precio mínimo\"].values, 1) == 129.0, \"Mínimo del cluster 0 con errores\"\n",
        "assert np.round(data_cluster_0[\"Precio máximo\"].values, 1) == 500, \"Máximo del cluster 0 con errores\"\n"
      ]
    },
    {
      "cell_type": "markdown",
      "metadata": {
        "deletable": false,
        "editable": false,
        "nbgrader": {
          "cell_type": "markdown",
          "checksum": "bbe4cf8c6161b71d4f40dc804cc5765c",
          "grade": false,
          "grade_id": "cell-83ed83c4e6b8f630",
          "locked": true,
          "schema_version": 3,
          "solution": false,
          "task": false
        },
        "id": "sf7aAk1KFQsb"
      },
      "source": [
        "Ahora haremos el test real, no debes modificar ni escribir nada en la siguiente celda, solo debes ejecutarla."
      ]
    },
    {
      "cell_type": "code",
      "execution_count": null,
      "metadata": {
        "deletable": false,
        "editable": false,
        "nbgrader": {
          "cell_type": "code",
          "checksum": "0776ebae7cfbb3d917a3757d2906e4b0",
          "grade": true,
          "grade_id": "cell-09925935c47b0412",
          "locked": true,
          "points": 10,
          "schema_version": 3,
          "solution": false,
          "task": false
        },
        "id": "Mu_7pe-DFQsc"
      },
      "outputs": [],
      "source": [
        "\n"
      ]
    },
    {
      "cell_type": "markdown",
      "metadata": {
        "deletable": false,
        "editable": false,
        "nbgrader": {
          "cell_type": "markdown",
          "checksum": "eb0ae9a603170284c967935c096ab733",
          "grade": false,
          "grade_id": "cell-3aefc659936320d5",
          "locked": true,
          "schema_version": 3,
          "solution": false,
          "task": false
        },
        "id": "WP9YXMKCFQsc"
      },
      "source": [
        "### Pregunta 2\n",
        "Calcule la correlación (bivariada) entre el precio y todas las variables cuantitativas con información sobre los celulares. ¿Cuáles son las 3 variables que presentan una mayor correlación con el precio?\n",
        "Para responder a la pregunta, debes completar las variables variable_1, variable_2 y variable_3 con las 3 variables que poseen mayor correlacion, siendo variable_1 la que mayor correlación posee, variable_2, la segunda mayor y variable_3 la tercera mayor.\n",
        "\n",
        "Ejemplo: si la variable 'main camera' fuera la variable con mayor correlación. Entonces deben dejar\n",
        "variable_1 = 'main camera', si la segunda mayor fuera 'RAM' entonces variable_2 = 'RAM' (deben respetar el nombre con sus espacios y mayúsculas)\n",
        "\n",
        "NOTA: Deben generar las correlaciones de la forma que más cómodos se sientan, no tendrán puntaje aquellos que completan las variables sin entregar un respaldo con las correlaciones calculadas."
      ]
    },
    {
      "cell_type": "code",
      "execution_count": null,
      "metadata": {
        "deletable": false,
        "nbgrader": {
          "cell_type": "code",
          "checksum": "35cbf9c9b0c9132970b536c38af98b2e",
          "grade": false,
          "grade_id": "cell-0b2dc7e6cd810e1b",
          "locked": false,
          "schema_version": 3,
          "solution": true,
          "task": false
        },
        "id": "eIsN0lalFQsc"
      },
      "outputs": [],
      "source": [
        "variable_1=None\n",
        "variable_2=None\n",
        "variable_3=None\n",
        "\n",
        "# your code here\n",
        "raise NotImplementedError\n"
      ]
    },
    {
      "cell_type": "markdown",
      "metadata": {
        "deletable": false,
        "editable": false,
        "nbgrader": {
          "cell_type": "markdown",
          "checksum": "1a4771ec63be22ff25eb19c4cd14497d",
          "grade": false,
          "grade_id": "cell-ec5c4a0ea4a59ac6",
          "locked": true,
          "schema_version": 3,
          "solution": false,
          "task": false
        },
        "id": "kKpk-mTJFQsc"
      },
      "source": [
        "Revisemos que los nombres de las variables hayan sido bien escritos,"
      ]
    },
    {
      "cell_type": "code",
      "execution_count": null,
      "metadata": {
        "deletable": false,
        "editable": false,
        "nbgrader": {
          "cell_type": "code",
          "checksum": "8770b98f131ea789f1b204c8488bf53a",
          "grade": false,
          "grade_id": "cell-c27d75afd1c1b7e1",
          "locked": true,
          "schema_version": 3,
          "solution": false,
          "task": false
        },
        "id": "5qQXfJLkFQsd"
      },
      "outputs": [],
      "source": [
        "for v in [variable_1, variable_2, variable_3]:\n",
        "    print(v in data.columns)"
      ]
    },
    {
      "cell_type": "code",
      "execution_count": null,
      "metadata": {
        "deletable": false,
        "editable": false,
        "nbgrader": {
          "cell_type": "code",
          "checksum": "5fb910d485761aba561db489b0a46e98",
          "grade": true,
          "grade_id": "cell-4188e1d2f8026918",
          "locked": true,
          "points": 20,
          "schema_version": 3,
          "solution": false,
          "task": false
        },
        "id": "n3Mki86TFQsd"
      },
      "outputs": [],
      "source": []
    },
    {
      "cell_type": "markdown",
      "metadata": {
        "deletable": false,
        "editable": false,
        "nbgrader": {
          "cell_type": "markdown",
          "checksum": "e69828dc93390eafc0e507f8f20e8ff5",
          "grade": false,
          "grade_id": "cell-5a40a44908a4b611",
          "locked": true,
          "schema_version": 3,
          "solution": false,
          "task": false
        },
        "id": "D8XRZeGMFQsd"
      },
      "source": [
        "### Pregunta 3\n",
        "Construya una regresión multivariada entre precio y las 3 variables determinadas en la parte (2). Utilice un 20% de los datos para testear y un random_state de 42. El entorno de este jupyter notebook permite el LinearRegression(normalize=True), así que úsenlo.\n",
        "Una vez construido su modelo, debe almacenar la siguiente información:\n",
        "\n",
        "    'coeficientes': para esto utilicen el comando .coef_ (nombredesumodelo.coef_) y lo almacenan directamente en la variable sin redondear ni aproximar nada.\n",
        "    'intercepto': para esto utilicen el comando .intercept_ (nombredesumodelo.intercept_) y lo almacenan directamente en la variable sin redondear ni aproximar nada.\n",
        "    'r2_score_final': también sin redondear ni aproximar nada.\n",
        "    \n",
        "Adicionalmente, genera una gráfica que contraste los valores reales con la predicción.\n"
      ]
    },
    {
      "cell_type": "code",
      "execution_count": null,
      "metadata": {
        "deletable": false,
        "nbgrader": {
          "cell_type": "code",
          "checksum": "b7c684c09105661e0676c0ec775488b6",
          "grade": false,
          "grade_id": "cell-520335fb547c3200",
          "locked": false,
          "schema_version": 3,
          "solution": true,
          "task": false
        },
        "id": "CAXRVQblFQsd"
      },
      "outputs": [],
      "source": [
        "coeficientes=None\n",
        "intercepto=None\n",
        "r2_score_final=None\n",
        "\n",
        "# your code here\n",
        "raise NotImplementedError\n"
      ]
    },
    {
      "cell_type": "code",
      "execution_count": null,
      "metadata": {
        "deletable": false,
        "editable": false,
        "nbgrader": {
          "cell_type": "code",
          "checksum": "2f89f83535cf0402de104f7f89978e10",
          "grade": true,
          "grade_id": "cell-e7ea26b98e7417a9",
          "locked": true,
          "points": 20,
          "schema_version": 3,
          "solution": false,
          "task": false
        },
        "id": "xdEXWQwzFQse"
      },
      "outputs": [],
      "source": [
        "\n"
      ]
    },
    {
      "cell_type": "markdown",
      "metadata": {
        "deletable": false,
        "editable": false,
        "nbgrader": {
          "cell_type": "markdown",
          "checksum": "3cd95557be09374d3155f2c378a8618d",
          "grade": false,
          "grade_id": "cell-3895d675f3e49f26",
          "locked": true,
          "schema_version": 3,
          "solution": false,
          "task": false
        },
        "id": "4SvwKNBIFQse"
      },
      "source": [
        "### Pregunta 4\n",
        "Construya una agrupación, utilizando K-Means, considerando ranking promedio (puesto por el comprador), edad y sexo. Escoja, con el método del codo, la cantidad de grupos. ¿Qué puede decir de las similitudes o diferencias intra e inter grupos?\n",
        "Utilice el min_max_scaler para la estandarización de los datos y utilice un random_state de 42 en la creación de Kmeans.\n",
        "Hint: para el método del códogo, haga un range hasta 15.\n",
        "\n",
        "Para responder esta pregunta, complete la variable 'clusters' con el número de clusters que obtenga mediante el método del codo, si su resultado es 10, entonces 'clusters'=10. (como int).\n",
        "Elija el segundo codo, el primero será muy notorio y evitende, pero el segundo será la opción correcta."
      ]
    },
    {
      "cell_type": "code",
      "execution_count": null,
      "metadata": {
        "deletable": false,
        "nbgrader": {
          "cell_type": "code",
          "checksum": "322cf13c34f2a797c1126dc4fada2e63",
          "grade": false,
          "grade_id": "cell-2efe7df1270d370c",
          "locked": false,
          "schema_version": 3,
          "solution": true,
          "task": false
        },
        "id": "piVaHXJVFQse"
      },
      "outputs": [],
      "source": [
        "#En esta primera parte, calcule los clusters mediante el método del codo.\n",
        "clusters=None\n",
        "\n",
        "# your code here\n",
        "raise NotImplementedError\n",
        "\n",
        "\n"
      ]
    },
    {
      "cell_type": "code",
      "execution_count": null,
      "metadata": {
        "deletable": false,
        "editable": false,
        "nbgrader": {
          "cell_type": "code",
          "checksum": "2795d198d13cddfffc4ca97ae2f9f487",
          "grade": false,
          "grade_id": "cell-b488beed00aca095",
          "locked": true,
          "schema_version": 3,
          "solution": false,
          "task": false
        },
        "id": "iDBKHWFtFQse"
      },
      "outputs": [],
      "source": [
        "# Revisemos que la variable haya quedado correctamente asignada a tu respuesta,\n",
        "print(clusters)"
      ]
    },
    {
      "cell_type": "markdown",
      "metadata": {
        "deletable": false,
        "editable": false,
        "nbgrader": {
          "cell_type": "markdown",
          "checksum": "39fa8dadc5c190a4e158cc3e6337b002",
          "grade": false,
          "grade_id": "cell-d76fac9fda251072",
          "locked": true,
          "schema_version": 3,
          "solution": false,
          "task": false
        },
        "id": "ZMpAqIUjFQse"
      },
      "source": [
        "Ahora se procederá a evaluar los clusters obtenidos, no modifique ni altere la celda que está acontinuación, solo debe ejecutarla."
      ]
    },
    {
      "cell_type": "code",
      "execution_count": null,
      "metadata": {
        "deletable": false,
        "editable": false,
        "nbgrader": {
          "cell_type": "code",
          "checksum": "976bcb2079467d9e92c07b37a53210e2",
          "grade": true,
          "grade_id": "cell-fba53982f0704ebe",
          "locked": true,
          "points": 10,
          "schema_version": 3,
          "solution": false,
          "task": false
        },
        "id": "Ri798HP9FQsf"
      },
      "outputs": [],
      "source": []
    },
    {
      "cell_type": "markdown",
      "metadata": {
        "deletable": false,
        "editable": false,
        "nbgrader": {
          "cell_type": "markdown",
          "checksum": "e2e77e77ddd694222104c61af34570fa",
          "grade": false,
          "grade_id": "cell-497a04c265e092c1",
          "locked": true,
          "schema_version": 3,
          "solution": false,
          "task": false
        },
        "id": "6-U-9QpHFQsf"
      },
      "source": [
        "Ahora debe aplicar el método de kmeans con el número de clusters obtenido y graficarlos.\n",
        "Ruerde utilizar la semilla de random_state=42"
      ]
    },
    {
      "cell_type": "code",
      "execution_count": null,
      "metadata": {
        "deletable": false,
        "editable": false,
        "nbgrader": {
          "cell_type": "code",
          "checksum": "559f2f69baf0d38e74f77fe21eafdf33",
          "grade": false,
          "grade_id": "cell-125783036505bad0",
          "locked": true,
          "schema_version": 3,
          "solution": false,
          "task": false
        },
        "id": "YZAs0ooAFQsf"
      },
      "outputs": [],
      "source": [
        "kmeans_p4 = KMeans(n_clusters=4, random_state=42).fit(df_escalado_p4)\n",
        "centroids_p4 = kmeans_p4.cluster_centers_\n",
        "centroids_p4\n",
        "\n",
        "labels_p4 = kmeans_p4.predict(df_escalado_p4)\n",
        "data_p4['label'] = labels_p4\n",
        "data_p4['cellphone_id'] = id_cell\n",
        "\n",
        "x = df_escalado_p4['rating'].values\n",
        "y = df_escalado_p4['age'].values\n",
        "z = df_escalado_p4['gender'].values\n",
        "\n",
        "colores=['red','green','blue','orange']\n",
        "asignar=[]\n",
        "for row in labels_p4:\n",
        "     asignar.append(colores[row])\n",
        "plt.rcParams[\"figure.figsize\"] = (12,7)\n",
        "ax = plt.axes(projection='3d')\n",
        "ax.scatter3D(x, y, z, c=asignar)\n",
        "ax.scatter3D(centroids_p4[:, 0], centroids_p4[:, 1],centroids_p4[:, 2], marker = '*',c=['red','green','blue','orange'],\n",
        "            s=900)\n",
        "ax.set_xlabel(\"Rating\")\n",
        "ax.set_ylabel(\"Age\")\n",
        "ax.set_zlabel(\"Gender\")\n",
        "plt.title('Agrupación k-means puesto por el comprador')\n",
        "plt.show()"
      ]
    }
  ],
  "metadata": {
    "kernelspec": {
      "display_name": "Python 3",
      "language": "python",
      "name": "python3"
    },
    "language_info": {
      "codemirror_mode": {
        "name": "ipython",
        "version": 3
      },
      "file_extension": ".py",
      "mimetype": "text/x-python",
      "name": "python",
      "nbconvert_exporter": "python",
      "pygments_lexer": "ipython3",
      "version": "3.7.6"
    },
    "colab": {
      "provenance": [],
      "include_colab_link": true
    }
  },
  "nbformat": 4,
  "nbformat_minor": 0
}