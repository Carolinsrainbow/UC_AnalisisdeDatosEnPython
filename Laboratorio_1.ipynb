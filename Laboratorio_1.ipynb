{
  "cells": [
    {
      "cell_type": "markdown",
      "metadata": {
        "id": "view-in-github",
        "colab_type": "text"
      },
      "source": [
        "<a href=\"https://colab.research.google.com/github/Carolinsrainbow/UC_AnalisisdeDatosEnPython/blob/main/Laboratorio_1.ipynb\" target=\"_parent\"><img src=\"https://colab.research.google.com/assets/colab-badge.svg\" alt=\"Open In Colab\"/></a>"
      ]
    },
    {
      "cell_type": "markdown",
      "metadata": {
        "id": "8hCLo8Dk6twj"
      },
      "source": [
        "# Laboratorio 1\n",
        "\n",
        "Bienvenido al primer laboratorio del curso Análisis de Datos en Python.\n",
        "\n",
        "Escribe el código correspondiente para contestar cada una de las preguntas. Fíjate muy bien en el nombre de las variables, ya que de lo contrario, tu trabajo no podrá ser evaluado de manera correcta.\n",
        "\n",
        "Debes ir ejecutando las celdas de codigo en el orden que aparecen, para evitar tener errores.\n",
        "\n",
        "Este trabajo tiene un límite de tiempo que puedes visualizar al inicio de esta pantalla."
      ]
    },
    {
      "cell_type": "code",
      "execution_count": 29,
      "metadata": {
        "deletable": false,
        "editable": false,
        "nbgrader": {
          "cell_type": "code",
          "checksum": "ec5d7c4e7873376f37e4455522b18a0a",
          "grade": false,
          "grade_id": "cell-cf7ebef8b0d2f431",
          "locked": true,
          "schema_version": 3,
          "solution": false,
          "task": false
        },
        "id": "dHRQlq9y6twl"
      },
      "outputs": [],
      "source": [
        "# Primero importamos las librerias y los datos que utilizaremos.\n",
        "\n",
        "import pandas as pd\n",
        "import numpy as np\n",
        "import matplotlib.pyplot as plt\n",
        "import seaborn as sns\n",
        "import datetime\n",
        "import matplotlib.pyplot as plt\n",
        "import warnings\n",
        "warnings.filterwarnings('ignore')\n",
        "df = pd.read_csv('data_football_ratings.csv')"
      ]
    },
    {
      "cell_type": "markdown",
      "metadata": {
        "deletable": false,
        "editable": false,
        "nbgrader": {
          "cell_type": "markdown",
          "checksum": "5a7bf6507a9aadb1a1cc2d6e2f3da0eb",
          "grade": false,
          "grade_id": "cell-eba39bd0225994a3",
          "locked": true,
          "schema_version": 3,
          "solution": false,
          "task": false
        },
        "id": "aiQq--kW6twn"
      },
      "source": [
        "# Pregunta 1\n",
        "¿Cuál es el promedio, mediana y desviación estándar de los datos registrados en la columna “original_rating”?\n",
        "\n",
        "Deben crear el código necesario para el promedio, la mediana y la desviación standard\n",
        "*almacena las respuestas en formato int en las variables promedio, mediana y desvest respectivamente*\n",
        "\n",
        "Usa la funcion `int()` para convertir a entero."
      ]
    },
    {
      "cell_type": "code",
      "execution_count": null,
      "metadata": {
        "deletable": false,
        "nbgrader": {
          "cell_type": "code",
          "checksum": "6508ec778249fff9298d6fe017e7b1a3",
          "grade": false,
          "grade_id": "cell-ec61d81b31cbe6dd",
          "locked": false,
          "schema_version": 3,
          "solution": true,
          "task": false
        },
        "colab": {
          "base_uri": "https://localhost:8080/"
        },
        "id": "BFkbNydn6twn",
        "outputId": "fb8f7e6c-f844-4102-d5f2-ac8a3f7c41c5"
      },
      "outputs": [
        {
          "output_type": "execute_result",
          "data": {
            "text/plain": [
              "1"
            ]
          },
          "metadata": {},
          "execution_count": 2
        }
      ],
      "source": [
        "#Respuesta promedio = 5\n",
        "#Respuesta mediana = 6\n",
        "#Respuesta desvest = 1\n",
        "\n",
        "# Vemos el resumen de la tabla\n",
        "df.head()\n",
        "Datos_base = df[['original_rating']]\n",
        "Datos_base\n",
        "\n",
        "#Creamos el promedio\n",
        "promedio = int(Datos_base.mean())\n",
        "promedio\n",
        "\n",
        "#Creamos la media\n",
        "mediana = int(np.median(Datos_base))\n",
        "mediana\n",
        "\n",
        "#Creamos desviación\n",
        "desvest = int(np.std(Datos_base))\n",
        "desvest"
      ]
    },
    {
      "cell_type": "code",
      "execution_count": null,
      "metadata": {
        "colab": {
          "base_uri": "https://localhost:8080/"
        },
        "id": "pFGSDUEE6two",
        "outputId": "21aa6abc-887c-4b18-f65d-b6592dd1b982"
      },
      "outputs": [
        {
          "output_type": "execute_result",
          "data": {
            "text/plain": [
              "5"
            ]
          },
          "metadata": {},
          "execution_count": 3
        }
      ],
      "source": [
        "promedio"
      ]
    },
    {
      "cell_type": "code",
      "execution_count": null,
      "metadata": {
        "colab": {
          "base_uri": "https://localhost:8080/"
        },
        "id": "70NxRxD96twp",
        "outputId": "5f051cd8-6d53-4f50-deac-cabc75c4efa6"
      },
      "outputs": [
        {
          "output_type": "execute_result",
          "data": {
            "text/plain": [
              "6"
            ]
          },
          "metadata": {},
          "execution_count": 4
        }
      ],
      "source": [
        "mediana\n"
      ]
    },
    {
      "cell_type": "code",
      "execution_count": null,
      "metadata": {
        "id": "dKbu8yZa6twp",
        "outputId": "72247023-4bdf-47a3-9044-090135191ed3"
      },
      "outputs": [
        {
          "data": {
            "text/plain": [
              "1"
            ]
          },
          "execution_count": 45,
          "metadata": {},
          "output_type": "execute_result"
        }
      ],
      "source": [
        "desvest"
      ]
    },
    {
      "cell_type": "markdown",
      "metadata": {
        "deletable": false,
        "editable": false,
        "nbgrader": {
          "cell_type": "markdown",
          "checksum": "f617d668ff114da391aad1ac59a70286",
          "grade": false,
          "grade_id": "cell-97b5a59a5ade0496",
          "locked": true,
          "schema_version": 3,
          "solution": false,
          "task": false
        },
        "id": "Q1p7vjoW6twq"
      },
      "source": [
        "### Pregunta 2\n",
        "¿Cuántos de los partidos de la base de datos tuvieron una duración (“game_duration”) de 120 minutos?\n",
        "*Alamacena la respuesta en formato int en la variable rep_P2*"
      ]
    },
    {
      "cell_type": "code",
      "execution_count": null,
      "metadata": {
        "deletable": false,
        "nbgrader": {
          "cell_type": "code",
          "checksum": "6b187142746fdad97f0416a2e0f016b3",
          "grade": false,
          "grade_id": "cell-a9e742e4c226ea1a",
          "locked": false,
          "schema_version": 3,
          "solution": true,
          "task": false
        },
        "id": "YUvwz_NJ6twr"
      },
      "outputs": [],
      "source": [
        "#rep_P2=63\n",
        "# your code here\n",
        "# raise NotImplementedError lo comentmamos porque viene un error"
      ]
    },
    {
      "cell_type": "code",
      "execution_count": null,
      "metadata": {
        "colab": {
          "base_uri": "https://localhost:8080/"
        },
        "id": "xclQx_UR6tws",
        "outputId": "c5f9ac05-8812-4a91-8fba-bd6c95360fdb"
      },
      "outputs": [
        {
          "output_type": "execute_result",
          "data": {
            "text/plain": [
              "63"
            ]
          },
          "metadata": {},
          "execution_count": 5
        }
      ],
      "source": [
        "df.head()\n",
        "aux_120min= df[df['game_duration']==120].count()\n",
        "rep_P2 = int(aux_120min.shape[0])\n",
        "rep_P2"
      ]
    },
    {
      "cell_type": "markdown",
      "metadata": {
        "deletable": false,
        "editable": false,
        "nbgrader": {
          "cell_type": "markdown",
          "checksum": "d666a33288f4f2c203340830a9f7daab",
          "grade": false,
          "grade_id": "cell-6c57e733fccc6466",
          "locked": true,
          "schema_version": 3,
          "solution": false,
          "task": false
        },
        "id": "zyQRup3f6twt"
      },
      "source": [
        "### Pregunta 3\n",
        "Considerando solamente los partidos de la Copa del Mundo 2018 (“World Cup 2018”), ¿cuántos partidos disputó Croacia?\n",
        "*almacena tu respuesta en la variable n_croacia*"
      ]
    },
    {
      "cell_type": "code",
      "execution_count": null,
      "metadata": {
        "deletable": false,
        "nbgrader": {
          "cell_type": "code",
          "checksum": "6865eb84c0571ce3f7daef1b2c145baf",
          "grade": false,
          "grade_id": "cell-c4ec5d3f2b70991e",
          "locked": false,
          "schema_version": 3,
          "solution": true,
          "task": false
        },
        "id": "0AdMUY2n6twt"
      },
      "outputs": [],
      "source": [
        "# n_croacia = 6\n",
        "# your code here\n",
        "raise NotImplementedError"
      ]
    },
    {
      "cell_type": "code",
      "execution_count": null,
      "metadata": {
        "colab": {
          "base_uri": "https://localhost:8080/"
        },
        "id": "U_stof526twt",
        "outputId": "22d1e7c6-a702-4110-f97a-6790ed0c214e"
      },
      "outputs": [
        {
          "output_type": "execute_result",
          "data": {
            "text/plain": [
              "6"
            ]
          },
          "metadata": {},
          "execution_count": 9
        }
      ],
      "source": [
        "n_croacia = df.loc[df['team']=='Croatia']\n",
        "n_croacia = n_croacia.loc[n_croacia['competition'] == 'World Cup 2018']\n",
        "n_croacia = len(n_croacia['date'].unique())\n",
        "n_croacia"
      ]
    },
    {
      "cell_type": "code",
      "execution_count": null,
      "metadata": {
        "deletable": false,
        "editable": false,
        "nbgrader": {
          "cell_type": "code",
          "checksum": "f6ccd6796b05e2c4c0fc83935c990773",
          "grade": true,
          "grade_id": "cell-fcdc878340735073",
          "locked": true,
          "points": 10,
          "schema_version": 3,
          "solution": false,
          "task": false
        },
        "colab": {
          "base_uri": "https://localhost:8080/"
        },
        "id": "ciywrwgS6twt",
        "outputId": "39924eac-0e5b-4597-f4f1-d819589b3c61"
      },
      "outputs": [
        {
          "output_type": "execute_result",
          "data": {
            "text/plain": [
              "6"
            ]
          },
          "metadata": {},
          "execution_count": 8
        }
      ],
      "source": [
        "n_croacia = df.loc[(df['team'] == 'Croatia') & (df['competition'] == 'World Cup 2018')]\n",
        "\n",
        "# Obtener las fechas únicas de los partidos\n",
        "n_croacia_partidos = n_croacia['date'].unique()\n",
        "\n",
        "# Contar el número de partidos únicos\n",
        "n_croacia = len(n_croacia_partidos)\n",
        "\n",
        "n_croacia\n"
      ]
    },
    {
      "cell_type": "markdown",
      "metadata": {
        "deletable": false,
        "editable": false,
        "nbgrader": {
          "cell_type": "markdown",
          "checksum": "2bc2d23f39117bab6b3ac049ff9d9a62",
          "grade": false,
          "grade_id": "cell-5ccae1f3b9993f81",
          "locked": true,
          "schema_version": 3,
          "solution": false,
          "task": false
        },
        "id": "c2UiCL966twu"
      },
      "source": [
        "### Pregunta 4\n",
        "Construya un gráfico de torta con los goles marcados por Robert Lewandowski, agrupando los goles que marcó por su selección y por su club.\n",
        "\n",
        "**Importante considerar que para esta pregunta se revisarán manualmente las entregas der manera aleatoria, quién responda sin realizar el gráfico solicitado tendrá 0 puntos.**"
      ]
    },
    {
      "cell_type": "code",
      "execution_count": null,
      "metadata": {
        "deletable": false,
        "nbgrader": {
          "cell_type": "code",
          "checksum": "9f6411115c8cc06e8c73d71d569c5eb6",
          "grade": false,
          "grade_id": "cell-120b7b8fcfc97fd1",
          "locked": false,
          "schema_version": 3,
          "solution": true,
          "task": false
        },
        "colab": {
          "base_uri": "https://localhost:8080/",
          "height": 675
        },
        "id": "HE74RCGr6twu",
        "outputId": "470fd391-e84c-4893-cbb1-ae73e078be77"
      },
      "outputs": [
        {
          "output_type": "display_data",
          "data": {
            "text/plain": [
              "<Figure size 800x800 with 1 Axes>"
            ],
            "image/png": "[encoded data removed]"
          },
          "metadata": {}
        }
      ],
      "source": [
        "## Usen esta celda para crear el grafico.\n",
        "# your code here\n",
        "#raise NotImplementedError\n",
        "\n",
        "lewandowski_data = df[df['player'] == 'Robert Lewandowski']\n",
        "\n",
        "# Agrupar los goles por equipo\n",
        "goles_por_equipo = lewandowski_data.groupby('team')['goals'].sum()\n",
        "\n",
        "# Construir el gráfico de torta\n",
        "plt.figure(figsize=(8, 8))\n",
        "plt.pie(goles_por_equipo, labels=goles_por_equipo.index, autopct='%1.1f%%', startangle=140)\n",
        "plt.title('Goles Marcados por Robert Lewandowski por Selección y Club')\n",
        "plt.axis('equal')  # Para asegurar que el gráfico sea circular\n",
        "plt.show()"
      ]
    },
    {
      "cell_type": "markdown",
      "metadata": {
        "deletable": false,
        "editable": false,
        "nbgrader": {
          "cell_type": "markdown",
          "checksum": "48bf33650f2cae5a1cc21a61e46a9a5d",
          "grade": false,
          "grade_id": "cell-c6a4c4a0ad65aa61",
          "locked": true,
          "schema_version": 3,
          "solution": false,
          "task": false
        },
        "id": "ipLyrvnc6twv"
      },
      "source": [
        "### A partir del gráfico construido, complete la información de las siguientes variables en formato int: \"Goles_Bayern\",\"Goles_Poland\",\"Porcentaje_Bayern\",\"Porcentaje_Poland\"\n",
        "\n",
        "Los porcentajes se aproximan al entero más cercano, por ejemplo 97.32% será 0.97 o 7.85% será 0.08"
      ]
    },
    {
      "cell_type": "code",
      "execution_count": null,
      "metadata": {
        "deletable": false,
        "nbgrader": {
          "cell_type": "code",
          "checksum": "ea3a696276599a03625872c838f5f2a1",
          "grade": false,
          "grade_id": "cell-ab0b8fac7d11b0ef",
          "locked": false,
          "schema_version": 3,
          "solution": true,
          "task": false
        },
        "colab": {
          "base_uri": "https://localhost:8080/"
        },
        "id": "ZXJTUhVJ6twv",
        "outputId": "8ad3565d-06f5-42ce-e216-8ce26bbf64fd"
      },
      "outputs": [
        {
          "output_type": "stream",
          "name": "stdout",
          "text": [
            "Goles Bayern: 70\n",
            "Goles Poland: 3\n",
            "Porcentaje Bayern (%): 96\n",
            "Porcentaje Poland (%): 4\n"
          ]
        }
      ],
      "source": [
        "\n",
        "#Goles_Bayern=70\n",
        "#Goles_Poland=3\n",
        "#Porcentaje_Bayern=96%\n",
        "#Porcentaje_Poland=4%\n",
        "\n",
        "# your code here\n",
        "# raise NotImplementedError\n",
        "\n",
        "# Calculamos los goles por equipo\n",
        "Goles_Bayern = int(goles_por_equipo.get('Bayern Munich', 0))\n",
        "Goles_Poland = int(goles_por_equipo.get('Poland', 0))\n",
        "\n",
        "# Calculamos los porcentajes y redondear al entero más cercano\n",
        "total_goles = Goles_Bayern + Goles_Poland\n",
        "Porcentaje_Bayern = int(np.round((Goles_Bayern / total_goles), 2) * 100)\n",
        "Porcentaje_Poland = int(np.round((Goles_Poland / total_goles), 2) * 100)\n",
        "\n",
        "print(\"Goles Bayern:\", Goles_Bayern)\n",
        "print(\"Goles Poland:\", Goles_Poland)\n",
        "print(\"Porcentaje Bayern (%):\", Porcentaje_Bayern)\n",
        "print(\"Porcentaje Poland (%):\", Porcentaje_Poland)\n"
      ]
    },
    {
      "cell_type": "markdown",
      "metadata": {
        "deletable": false,
        "editable": false,
        "nbgrader": {
          "cell_type": "markdown",
          "checksum": "399065dea54f875b1f9bc1d726b5e664",
          "grade": false,
          "grade_id": "cell-f4d73d366976de24",
          "locked": true,
          "schema_version": 3,
          "solution": false,
          "task": false
        },
        "id": "0NR1FJcM6tww"
      },
      "source": [
        "### Pregunta 5\n",
        "¿Cuántas tarjetas rojas fueron mostradas en la Eurocopa 2016 (“Euro 2016”)? *Almacena tu respuesta en la variable rcards*"
      ]
    },
    {
      "cell_type": "code",
      "execution_count": null,
      "metadata": {
        "deletable": false,
        "nbgrader": {
          "cell_type": "code",
          "checksum": "33ade1ec7d0a32f63fddb1a850b40df1",
          "grade": false,
          "grade_id": "cell-ca547a367e621187",
          "locked": false,
          "schema_version": 3,
          "solution": true,
          "task": false
        },
        "id": "N9_nJtl36tww"
      },
      "outputs": [],
      "source": [
        "#rcards = 3\n",
        "# your code here\n",
        "#raise NotImplementedError"
      ]
    },
    {
      "cell_type": "code",
      "execution_count": null,
      "metadata": {
        "colab": {
          "base_uri": "https://localhost:8080/"
        },
        "id": "mhrOWBVw6twx",
        "outputId": "2d6431d9-6c98-4c59-ab59-f158c89cb5e2"
      },
      "outputs": [
        {
          "output_type": "execute_result",
          "data": {
            "text/plain": [
              "3"
            ]
          },
          "metadata": {},
          "execution_count": 23
        }
      ],
      "source": [
        "rcards = df.loc[df['competition']=='Euro 2016']\n",
        "rcards = rcards.loc[rcards['rcards']>0]\n",
        "rcards= rcards['rcards'].sum()\n",
        "rcards"
      ]
    },
    {
      "cell_type": "markdown",
      "metadata": {
        "deletable": false,
        "editable": false,
        "nbgrader": {
          "cell_type": "markdown",
          "checksum": "184f109c14aba764e716ea5e2b582181",
          "grade": false,
          "grade_id": "cell-dbd7b59f0b4298c8",
          "locked": true,
          "schema_version": 3,
          "solution": false,
          "task": false
        },
        "id": "PEWW7Dmm6twx"
      },
      "source": [
        "### Pregunta 6\n",
        "Construya un Dataframe que contenga, para cada jugador del archivo, la cantidad total de partidos en los que fue evaluado. Muestre solamente los 10 primeros registros (según orden alfabético del nombre del jugador) de este DataFrame. Considere que un jugador no es evaluado cuando original_rating = 1 y los minutos jugados por el jugador es menor que 20 (minutos).\n",
        "\n",
        "Indicaciones:\n",
        "- el nombre de las columnas del dataframe no importa\n",
        "- el dataframe solo debe tener 2 columnas, la primera con el nombre del jugador y la segunda con la cantidad de partidos en los que fue evaluado\n",
        "- almacena el dataframe en la variable df_p6\n",
        "- ordena el dataframe según el nombre de los jugadores, de manera ascendente (en general al hacer el group by deberia quedar con este orden!)\n",
        "- *Hint: los métodos .head() y .groupby() puede ser útiles*. Cuidado con los duplicados!!"
      ]
    },
    {
      "cell_type": "code",
      "execution_count": null,
      "metadata": {
        "deletable": false,
        "nbgrader": {
          "cell_type": "code",
          "checksum": "d05175c4d333a4375c843d1e95398621",
          "grade": false,
          "grade_id": "cell-1d89c7054a6e49f8",
          "locked": false,
          "schema_version": 3,
          "solution": true,
          "task": false
        },
        "id": "hmY-fkX36twx"
      },
      "outputs": [],
      "source": [
        "df_p6= df\n",
        "# your code here\n",
        "# raise NotImplementedError"
      ]
    },
    {
      "cell_type": "code",
      "source": [
        "filtered_data = df[(df['original_rating'] != 1) & (df['minutesPlayed'] > 20)]\n",
        "\n",
        "# Contamos el número de partidos únicos en los que cada jugador fue evaluado\n",
        "player_match_counts = filtered_data.groupby('player')['match'].nunique().reset_index(name='Cantidad total de partidos en los que fue evaluado')\n",
        "\n",
        "# Cambiamos el index por el nombre del jugador\n",
        "player_match_counts.set_index('player', inplace=True)\n",
        "\n",
        "# Ordenamos ascendente por nombre de jugador\n",
        "sorted_data = player_match_counts.sort_index()\n",
        "\n",
        "# Mostramos sólo los primeros 10 registros para verificar\n",
        "df_p6 = sorted_data.head(10)\n",
        "print(df_p6)"
      ],
      "metadata": {
        "colab": {
          "base_uri": "https://localhost:8080/"
        },
        "id": "bXfGhz0ONG6l",
        "outputId": "3c178fa7-473f-40d9-ca28-f4bf3b327ab6"
      },
      "execution_count": 39,
      "outputs": [
        {
          "output_type": "stream",
          "name": "stdout",
          "text": [
            "                   Cantidad total de partidos en los que fue evaluado\n",
            "player                                                               \n",
            "Aaron Cresswell                                                   34 \n",
            "Aaron Hughes                                                       3 \n",
            "Aaron Hunt                                                        28 \n",
            "Aaron Lennon                                                      27 \n",
            "Aaron Mooy                                                        39 \n",
            "Aaron Ramsey                                                      26 \n",
            "Aaron Wan-Bissaka                                                  7 \n",
            "Abdallah El Said                                                   3 \n",
            "Abdelhamid Sabiri                                                  4 \n",
            "Abdiel Arroyo                                                      2 \n"
          ]
        }
      ]
    },
    {
      "cell_type": "markdown",
      "metadata": {
        "deletable": false,
        "editable": false,
        "nbgrader": {
          "cell_type": "markdown",
          "checksum": "52c94bd63f531dfb6b77f7f23405b869",
          "grade": false,
          "grade_id": "cell-f1c3602d52b5872c",
          "locked": true,
          "schema_version": 3,
          "solution": false,
          "task": false
        },
        "id": "cVKzoX8H6twy"
      },
      "source": [
        "Probemos el resultado aqui:"
      ]
    },
    {
      "cell_type": "code",
      "execution_count": 40,
      "metadata": {
        "deletable": false,
        "editable": false,
        "nbgrader": {
          "cell_type": "code",
          "checksum": "9424399a83428c9bc09aa0c1a49e7c6f",
          "grade": false,
          "grade_id": "cell-203ff162094b8928",
          "locked": true,
          "schema_version": 3,
          "solution": false,
          "task": false
        },
        "colab": {
          "base_uri": "https://localhost:8080/",
          "height": 111
        },
        "id": "HYY_FmDK6twy",
        "outputId": "e5d3540f-0887-4caf-f17f-1d59fe7fd5e9"
      },
      "outputs": [
        {
          "output_type": "execute_result",
          "data": {
            "text/plain": [
              "                 Cantidad total de partidos en los que fue evaluado\n",
              "player                                                             \n",
              "Aaron Cresswell                                                 34 "
            ],
            "text/html": [
              "\n",
              "  <div id=\"df-913cbd2f-6daf-4c75-ad08-2824bf2b2f6b\" class=\"colab-df-container\">\n",
              "    <div>\n",
              "<style scoped>\n",
              "    .dataframe tbody tr th:only-of-type {\n",
              "        vertical-align: middle;\n",
              "    }\n",
              "\n",
              "    .dataframe tbody tr th {\n",
              "        vertical-align: top;\n",
              "    }\n",
              "\n",
              "    .dataframe thead th {\n",
              "        text-align: right;\n",
              "    }\n",
              "</style>\n",
              "<table border=\"1\" class=\"dataframe\">\n",
              "  <thead>\n",
              "    <tr style=\"text-align: right;\">\n",
              "      <th></th>\n",
              "      <th>Cantidad total de partidos en los que fue evaluado</th>\n",
              "    </tr>\n",
              "    <tr>\n",
              "      <th>player</th>\n",
              "      <th></th>\n",
              "    </tr>\n",
              "  </thead>\n",
              "  <tbody>\n",
              "    <tr>\n",
              "      <th>Aaron Cresswell</th>\n",
              "      <td>34</td>\n",
              "    </tr>\n",
              "  </tbody>\n",
              "</table>\n",
              "</div>\n",
              "    <div class=\"colab-df-buttons\">\n",
              "\n",
              "  <div class=\"colab-df-container\">\n",
              "    <button class=\"colab-df-convert\" onclick=\"convertToInteractive('df-913cbd2f-6daf-4c75-ad08-2824bf2b2f6b')\"\n",
              "            title=\"Convert this dataframe to an interactive table.\"\n",
              "            style=\"display:none;\">\n",
              "\n",
              "  <svg xmlns=\"http://www.w3.org/2000/svg\" height=\"24px\" viewBox=\"0 -960 960 960\">\n",
              "    <path d=\"M120-120v-720h720v720H120Zm60-500h600v-160H180v160Zm220 220h160v-160H400v160Zm0 220h160v-160H400v160ZM180-400h160v-160H180v160Zm440 0h160v-160H620v160ZM180-180h160v-160H180v160Zm440 0h160v-160H620v160Z\"/>\n",
              "  </svg>\n",
              "    </button>\n",
              "\n",
              "  <style>\n",
              "    .colab-df-container {\n",
              "      display:flex;\n",
              "      gap: 12px;\n",
              "    }\n",
              "\n",
              "    .colab-df-convert {\n",
              "      background-color: #E8F0FE;\n",
              "      border: none;\n",
              "      border-radius: 50%;\n",
              "      cursor: pointer;\n",
              "      display: none;\n",
              "      fill: #1967D2;\n",
              "      height: 32px;\n",
              "      padding: 0 0 0 0;\n",
              "      width: 32px;\n",
              "    }\n",
              "\n",
              "    .colab-df-convert:hover {\n",
              "      background-color: #E2EBFA;\n",
              "      box-shadow: 0px 1px 2px rgba(60, 64, 67, 0.3), 0px 1px 3px 1px rgba(60, 64, 67, 0.15);\n",
              "      fill: #174EA6;\n",
              "    }\n",
              "\n",
              "    .colab-df-buttons div {\n",
              "      margin-bottom: 4px;\n",
              "    }\n",
              "\n",
              "    [theme=dark] .colab-df-convert {\n",
              "      background-color: #3B4455;\n",
              "      fill: #D2E3FC;\n",
              "    }\n",
              "\n",
              "    [theme=dark] .colab-df-convert:hover {\n",
              "      background-color: #434B5C;\n",
              "      box-shadow: 0px 1px 3px 1px rgba(0, 0, 0, 0.15);\n",
              "      filter: drop-shadow(0px 1px 2px rgba(0, 0, 0, 0.3));\n",
              "      fill: #FFFFFF;\n",
              "    }\n",
              "  </style>\n",
              "\n",
              "    <script>\n",
              "      const buttonEl =\n",
              "        document.querySelector('#df-913cbd2f-6daf-4c75-ad08-2824bf2b2f6b button.colab-df-convert');\n",
              "      buttonEl.style.display =\n",
              "        google.colab.kernel.accessAllowed ? 'block' : 'none';\n",
              "\n",
              "      async function convertToInteractive(key) {\n",
              "        const element = document.querySelector('#df-913cbd2f-6daf-4c75-ad08-2824bf2b2f6b');\n",
              "        const dataTable =\n",
              "          await google.colab.kernel.invokeFunction('convertToInteractive',\n",
              "                                                    [key], {});\n",
              "        if (!dataTable) return;\n",
              "\n",
              "        const docLinkHtml = 'Like what you see? Visit the ' +\n",
              "          '<a target=\"_blank\" href=https://colab.research.google.com/notebooks/data_table.ipynb>data table notebook</a>'\n",
              "          + ' to learn more about interactive tables.';\n",
              "        element.innerHTML = '';\n",
              "        dataTable['output_type'] = 'display_data';\n",
              "        await google.colab.output.renderOutput(dataTable, element);\n",
              "        const docLink = document.createElement('div');\n",
              "        docLink.innerHTML = docLinkHtml;\n",
              "        element.appendChild(docLink);\n",
              "      }\n",
              "    </script>\n",
              "  </div>\n",
              "\n",
              "\n",
              "    </div>\n",
              "  </div>\n"
            ],
            "application/vnd.google.colaboratory.intrinsic+json": {
              "type": "dataframe",
              "variable_name": "df_p6",
              "summary": "{\n  \"name\": \"df_p6\",\n  \"rows\": 10,\n  \"fields\": [\n    {\n      \"column\": \"player\",\n      \"properties\": {\n        \"dtype\": \"string\",\n        \"num_unique_values\": 10,\n        \"samples\": [\n          \"Abdelhamid Sabiri\",\n          \"Aaron Hughes\",\n          \"Aaron Ramsey\"\n        ],\n        \"semantic_type\": \"\",\n        \"description\": \"\"\n      }\n    },\n    {\n      \"column\": \"Cantidad total de partidos en los que fue evaluado\",\n      \"properties\": {\n        \"dtype\": \"number\",\n        \"std\": 14,\n        \"min\": 2,\n        \"max\": 39,\n        \"num_unique_values\": 9,\n        \"samples\": [\n          4,\n          3,\n          26\n        ],\n        \"semantic_type\": \"\",\n        \"description\": \"\"\n      }\n    }\n  ]\n}"
            }
          },
          "metadata": {},
          "execution_count": 40
        }
      ],
      "source": [
        "df_p6.head(1)"
      ]
    },
    {
      "cell_type": "markdown",
      "metadata": {
        "deletable": false,
        "editable": false,
        "nbgrader": {
          "cell_type": "markdown",
          "checksum": "07cf758b9ce3aebdff8646b1ba979414",
          "grade": false,
          "grade_id": "cell-328175a14c282e7c",
          "locked": true,
          "schema_version": 3,
          "solution": false,
          "task": false
        },
        "id": "ycpDAsb66twy"
      },
      "source": [
        "La celda anterior debe tener los datos:\n",
        "**Aaron Cresswell 34**"
      ]
    },
    {
      "cell_type": "markdown",
      "metadata": {
        "deletable": false,
        "editable": false,
        "nbgrader": {
          "cell_type": "markdown",
          "checksum": "3936b68037ebabafa25c43494b488545",
          "grade": false,
          "grade_id": "cell-8d5ce5b8cbdfe73d",
          "locked": true,
          "schema_version": 3,
          "solution": false,
          "task": false
        },
        "id": "H9OIQxEM6twy"
      },
      "source": [
        "**Cuidado!! Deja a los jugadores como indice!!**\n",
        "\n",
        "No crees un indice numerico nuevo. En caso de que se haya creado automaticamente, usa el comando\n",
        "\n",
        "``` df_p6.set_index('player', inplace=True)```\n",
        "\n",
        "donde `player` corresponde al nombre de la variable donde guardas los nombres de los jugadores\n",
        "\n",
        "A continuación, hay un test visible, para que puedas ver que tu dataframe este bien creado. Este test vale 1 punto."
      ]
    },
    {
      "cell_type": "code",
      "execution_count": 41,
      "metadata": {
        "deletable": false,
        "editable": false,
        "nbgrader": {
          "cell_type": "code",
          "checksum": "3319c4fab3ab01c3c80ca1acd643be57",
          "grade": true,
          "grade_id": "cell-3037a1d13268ba68",
          "locked": true,
          "points": 1,
          "schema_version": 3,
          "solution": false,
          "task": false
        },
        "id": "dS_2iZ6R6twy"
      },
      "outputs": [],
      "source": [
        "assert df_p6.head(1).values == 34, \"Revisa el formato de tu DataFrame. El primer registro debe ser Aaron Cresswell y los partidos en que fue evaluado son 34\""
      ]
    },
    {
      "cell_type": "markdown",
      "metadata": {
        "deletable": false,
        "editable": false,
        "nbgrader": {
          "cell_type": "markdown",
          "checksum": "24e88948b1577eeb9ef1c314e292f572",
          "grade": false,
          "grade_id": "cell-6ae6e9ee8edae519",
          "locked": true,
          "schema_version": 3,
          "solution": false,
          "task": false
        },
        "id": "RxzdkoZo6twy"
      },
      "source": [
        "La última celda corresponde a un test oculto, que revisa el dataframe pedido en la pregunta 6. **El dataframe solo debe contener los primeros 10 registros. De lo contrario, no tendrás puntaje.**  "
      ]
    },
    {
      "cell_type": "code",
      "execution_count": 42,
      "metadata": {
        "deletable": false,
        "editable": false,
        "nbgrader": {
          "cell_type": "code",
          "checksum": "f0d0bf8dc389f424758dc9dfef3a9383",
          "grade": false,
          "grade_id": "cell-9033117351cab9c4",
          "locked": true,
          "schema_version": 3,
          "solution": false,
          "task": false
        },
        "id": "0SOu946M6twz",
        "colab": {
          "base_uri": "https://localhost:8080/"
        },
        "outputId": "4a92a94e-2c88-471a-ec66-cfa55c849f29"
      },
      "outputs": [
        {
          "output_type": "execute_result",
          "data": {
            "text/plain": [
              "True"
            ]
          },
          "metadata": {},
          "execution_count": 42
        }
      ],
      "source": [
        "## Revisa que tu dataframe tenga el largo correcto!!\n",
        "\n",
        "len(df_p6) == 10"
      ]
    }
  ],
  "metadata": {
    "kernelspec": {
      "display_name": "Python 3",
      "language": "python",
      "name": "python3"
    },
    "language_info": {
      "codemirror_mode": {
        "name": "ipython",
        "version": 3
      },
      "file_extension": ".py",
      "mimetype": "text/x-python",
      "name": "python",
      "nbconvert_exporter": "python",
      "pygments_lexer": "ipython3",
      "version": "3.7.6"
    },
    "colab": {
      "provenance": [],
      "include_colab_link": true
    }
  },
  "nbformat": 4,
  "nbformat_minor": 0
}