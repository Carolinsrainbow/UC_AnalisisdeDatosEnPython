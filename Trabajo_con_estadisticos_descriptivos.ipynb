{
  "cells": [
    {
      "cell_type": "markdown",
      "metadata": {
        "id": "view-in-github",
        "colab_type": "text"
      },
      "source": [
        "<a href=\"https://colab.research.google.com/github/Carolinsrainbow/UC_AnalisisdeDatosEnPython/blob/main/Trabajo_con_estadisticos_descriptivos.ipynb\" target=\"_parent\"><img src=\"https://colab.research.google.com/assets/colab-badge.svg\" alt=\"Open In Colab\"/></a>"
      ]
    },
    {
      "cell_type": "code",
      "execution_count": null,
      "id": "30b50d29",
      "metadata": {
        "id": "30b50d29"
      },
      "outputs": [],
      "source": [
        "import pandas as pd\n",
        "import numpy as np\n",
        "import os\n",
        "\n",
        "import warnings\n",
        "warnings.filterwarnings('ignore')"
      ]
    },
    {
      "cell_type": "code",
      "execution_count": null,
      "id": "7f6e0b38",
      "metadata": {
        "id": "7f6e0b38"
      },
      "outputs": [],
      "source": [
        "os.chdir('C:/Users/aecat/Dropbox/Docencia/PUC/Magíster Ciencia de Datos/Datos')"
      ]
    },
    {
      "cell_type": "markdown",
      "id": "6bf37440",
      "metadata": {
        "id": "6bf37440"
      },
      "source": [
        "## Carga de información"
      ]
    },
    {
      "cell_type": "code",
      "execution_count": null,
      "id": "d5a6144b",
      "metadata": {
        "id": "d5a6144b"
      },
      "outputs": [],
      "source": [
        "laliga2122 = pd.read_excel('LaLiga21 22.xlsx', )\n",
        "laliga2021 = pd.read_excel('LaLiga20 21.xlsx', )\n",
        "laliga1920 = pd.read_excel('LaLiga19 20.xlsx', )\n",
        "laliga1819 = pd.read_excel('LaLiga18 19.xlsx', )\n",
        "laliga1718 = pd.read_excel('LaLiga17 18.xlsx', )\n",
        "laliga1617 = pd.read_excel('LaLiga16 17.xlsx', )\n",
        "seg2122 =  pd.read_excel('LaLiga123 21 22.xlsx', )\n",
        "seg2021 =  pd.read_excel('LaLiga123 20 21.xlsx', )\n",
        "seg1920 =  pd.read_excel('LaLiga123 19 20.xlsx', )\n",
        "seg1819 =  pd.read_excel('LaLiga123 18 19.xlsx', )\n",
        "seg1718 =  pd.read_excel('LaLiga123 17 18.xlsx', )\n",
        "seg1617 =  pd.read_excel('LaLiga123 16 17.xlsx', )"
      ]
    },
    {
      "cell_type": "markdown",
      "id": "7003b43c",
      "metadata": {
        "id": "7003b43c"
      },
      "source": [
        "## Ejemplo 1\n",
        "Se crea la database de primera división"
      ]
    },
    {
      "cell_type": "code",
      "execution_count": null,
      "id": "d6cd6faf",
      "metadata": {
        "id": "d6cd6faf"
      },
      "outputs": [],
      "source": [
        "laliga = laliga2122.dropna(how='all').append(laliga2021.dropna(how='all')\n",
        ").append(laliga1920.dropna(how='all')).append(laliga1819.dropna(how='all')\n",
        ").append(laliga1718.dropna(how='all')).append(laliga1617.dropna(how='all'))\n",
        "laliga2 = laliga.loc[:,['Wk','Date','Local','xG','Score','xG.1','Visitante', 'Attendance']]"
      ]
    },
    {
      "cell_type": "code",
      "execution_count": null,
      "id": "6141b935",
      "metadata": {
        "id": "6141b935"
      },
      "outputs": [],
      "source": [
        "def golesvisita(marcador):\n",
        "    goles = marcador.split('–')\n",
        "    return int(goles[1])\n",
        "\n",
        "def goleslocal(marcador):\n",
        "    goles = marcador.split('–')\n",
        "    return int(goles[0])\n",
        "\n",
        "laliga2['Attendance']= laliga2['Attendance']*1000\n",
        "laliga2['Goles Local'] = laliga2['Score'].apply(goleslocal)\n",
        "laliga2['Goles Visitante'] = laliga2['Score'].apply(golesvisita)"
      ]
    },
    {
      "cell_type": "markdown",
      "id": "e7ed9160",
      "metadata": {
        "id": "e7ed9160"
      },
      "source": [
        "Vamos a estudiar la cantidad de goles que ha realizado el Real Madrid y el Barcelona, de local, durante las últimas 6 temporadas."
      ]
    },
    {
      "cell_type": "code",
      "execution_count": null,
      "id": "268452ec",
      "metadata": {
        "id": "268452ec",
        "outputId": "a0c903f4-5c0b-422f-d12a-554ab33ce7a3"
      },
      "outputs": [
        {
          "data": {
            "text/plain": [
              "251"
            ]
          },
          "execution_count": 6,
          "metadata": {},
          "output_type": "execute_result"
        }
      ],
      "source": [
        "laliga2[laliga2['Local']=='Real Madrid']['Goles Local'].sum() #calculamos el total (suma) de goles de local del Real Madrid (con la condición que el equipo local sea el Real Madrid)"
      ]
    },
    {
      "cell_type": "code",
      "execution_count": null,
      "id": "9b26949c",
      "metadata": {
        "id": "9b26949c",
        "outputId": "30d92ab3-b42f-4aa0-d3de-bcd8eb5c4743"
      },
      "outputs": [
        {
          "data": {
            "text/plain": [
              "301"
            ]
          },
          "execution_count": 7,
          "metadata": {},
          "output_type": "execute_result"
        }
      ],
      "source": [
        "laliga2[laliga2['Local']=='Barcelona']['Goles Local'].sum()"
      ]
    },
    {
      "cell_type": "code",
      "execution_count": null,
      "id": "3eb3f16e",
      "metadata": {
        "id": "3eb3f16e",
        "outputId": "422bb51c-75cb-464f-a173-e7409b4a1b75"
      },
      "outputs": [
        {
          "data": {
            "text/plain": [
              "2.2017543859649122"
            ]
          },
          "execution_count": 8,
          "metadata": {},
          "output_type": "execute_result"
        }
      ],
      "source": [
        "laliga2[laliga2['Local']=='Real Madrid']['Goles Local'].mean() #misma cosa que para los goles totales, pero calculamos el promedio (mean)"
      ]
    },
    {
      "cell_type": "code",
      "execution_count": null,
      "id": "3cf34ecd",
      "metadata": {
        "id": "3cf34ecd",
        "outputId": "1bbf2da7-9feb-4e7b-a535-2c2a9326b75f"
      },
      "outputs": [
        {
          "data": {
            "text/plain": [
              "2.6403508771929824"
            ]
          },
          "execution_count": 9,
          "metadata": {},
          "output_type": "execute_result"
        }
      ],
      "source": [
        "laliga2[laliga2['Local']=='Barcelona']['Goles Local'].mean()"
      ]
    },
    {
      "cell_type": "code",
      "execution_count": null,
      "id": "e279f740",
      "metadata": {
        "id": "e279f740",
        "outputId": "aa366efc-3b94-460c-f5d4-db42ee879c69"
      },
      "outputs": [
        {
          "data": {
            "text/plain": [
              "count    114.000000\n",
              "mean       2.201754\n",
              "std        1.552502\n",
              "min        0.000000\n",
              "25%        1.000000\n",
              "50%        2.000000\n",
              "75%        3.000000\n",
              "max        7.000000\n",
              "Name: Goles Local, dtype: float64"
            ]
          },
          "execution_count": 10,
          "metadata": {},
          "output_type": "execute_result"
        }
      ],
      "source": [
        "laliga2[laliga2['Local']=='Real Madrid']['Goles Local'].describe() #con el comando \"describe\" obtenemos los siguientes estadísticos descriptivos"
      ]
    },
    {
      "cell_type": "code",
      "execution_count": null,
      "id": "12a574ea",
      "metadata": {
        "id": "12a574ea",
        "outputId": "09cd2878-78b5-48b8-92f1-05a55e2bc388"
      },
      "outputs": [
        {
          "data": {
            "text/plain": [
              "count    114.000000\n",
              "mean       2.640351\n",
              "std        1.730145\n",
              "min        0.000000\n",
              "25%        1.000000\n",
              "50%        2.000000\n",
              "75%        4.000000\n",
              "max        8.000000\n",
              "Name: Goles Local, dtype: float64"
            ]
          },
          "execution_count": 11,
          "metadata": {},
          "output_type": "execute_result"
        }
      ],
      "source": [
        "laliga2[laliga2['Local']=='Barcelona']['Goles Local'].describe()"
      ]
    },
    {
      "cell_type": "markdown",
      "id": "ffdd5835",
      "metadata": {
        "id": "ffdd5835"
      },
      "source": [
        "Ahora, estudiaremos la asistencia promedio por temporada/torneo."
      ]
    },
    {
      "cell_type": "code",
      "execution_count": null,
      "id": "93242f83",
      "metadata": {
        "id": "93242f83"
      },
      "outputs": [],
      "source": [
        "#construimos una función que nos retorne una de las 6 temporadas si le indicamos año y mes del partido\n",
        "def torneo(año,mes):\n",
        "    if ((año==2016) & (mes<=12)|(año==2017) & (mes<8)):\n",
        "        return '16/17'\n",
        "    elif ((año==2017) & (mes<=12)|(año==2018) & (mes<8)):\n",
        "        return '17/18'\n",
        "    elif ((año==2018) & (mes<=12)|(año==2019) & (mes<8)):\n",
        "        return '18/19'\n",
        "    elif ((año==2019) & (mes<=12)|(año==2020) & (mes<8)):\n",
        "        return '19/20'\n",
        "    elif ((año==2020) & (mes<=12)|(año==2021) & (mes<8)):\n",
        "        return '20/21'\n",
        "    elif ((año==2021) & (mes<=12)|(año==2022) & (mes<8)):\n",
        "        return '21/22'\n",
        "\n",
        "\n",
        "laliga2['Año'] = laliga2['Date'].dt.year #sacamos el año del partido y lo agregamos a la nueva columna \"Año\"\n",
        "laliga2['Mes'] = laliga2['Date'].dt.month #sacamos el mes del partido y lo agregamos a la nueva columna \"Mes\"\n",
        "laliga2['Temporada'] = laliga2.apply(lambda x: torneo(x['Año'],x['Mes']),axis = 1) #aplicamos la función lambda para aplicar la función torneo al mes y año de un partido\n"
      ]
    },
    {
      "cell_type": "code",
      "execution_count": null,
      "id": "917931b6",
      "metadata": {
        "id": "917931b6"
      },
      "outputs": [],
      "source": [
        "temporadas=['16/17','17/18','18/19','19/20','20/21','21/22'] #creamos una lista con todas las temporadas\n",
        "asist = {} #creamos el diccionario \"asist\"\n",
        "for temporada in temporadas: #recorremos todas las temporadas\n",
        "    base = laliga2[laliga2['Temporada']==temporada] #creamos un Dataframe solo con información de la temporada (de primera división) en que estamos parados\n",
        "    prom = base['Attendance'].mean() #calculamos el promedio de asistencia de la temporada en la que estamos parados (sobre el Dataframe base)\n",
        "    total = base['Attendance'].sum() #calculamos la asistencia total de la temporada en la que estamos parados (sobre el Dataframe base)\n",
        "    asist[temporada] = (total,prom) #guardamos el promedio y total obtenidos en el diccionario, con \"key\" nombre de la temporada"
      ]
    },
    {
      "cell_type": "code",
      "execution_count": null,
      "id": "8cbef495",
      "metadata": {
        "id": "8cbef495",
        "outputId": "7cf01eab-5e37-4aa6-a59e-7d0357dbf3ca"
      },
      "outputs": [
        {
          "data": {
            "text/html": [
              "<div>\n",
              "<style scoped>\n",
              "    .dataframe tbody tr th:only-of-type {\n",
              "        vertical-align: middle;\n",
              "    }\n",
              "\n",
              "    .dataframe tbody tr th {\n",
              "        vertical-align: top;\n",
              "    }\n",
              "\n",
              "    .dataframe thead th {\n",
              "        text-align: right;\n",
              "    }\n",
              "</style>\n",
              "<table border=\"1\" class=\"dataframe\">\n",
              "  <thead>\n",
              "    <tr style=\"text-align: right;\">\n",
              "      <th></th>\n",
              "      <th>Temporada</th>\n",
              "      <th>Asistencia Total</th>\n",
              "      <th>Asistencia promedio</th>\n",
              "    </tr>\n",
              "  </thead>\n",
              "  <tbody>\n",
              "    <tr>\n",
              "      <th>0</th>\n",
              "      <td>16/17</td>\n",
              "      <td>10737706.0</td>\n",
              "      <td>28257.121053</td>\n",
              "    </tr>\n",
              "    <tr>\n",
              "      <th>1</th>\n",
              "      <td>17/18</td>\n",
              "      <td>10528159.0</td>\n",
              "      <td>27778.783641</td>\n",
              "    </tr>\n",
              "    <tr>\n",
              "      <th>2</th>\n",
              "      <td>18/19</td>\n",
              "      <td>10305100.0</td>\n",
              "      <td>27118.684211</td>\n",
              "    </tr>\n",
              "    <tr>\n",
              "      <th>3</th>\n",
              "      <td>19/20</td>\n",
              "      <td>7877083.0</td>\n",
              "      <td>29282.836431</td>\n",
              "    </tr>\n",
              "    <tr>\n",
              "      <th>4</th>\n",
              "      <td>20/21</td>\n",
              "      <td>12745.0</td>\n",
              "      <td>3186.250000</td>\n",
              "    </tr>\n",
              "    <tr>\n",
              "      <th>5</th>\n",
              "      <td>21/22</td>\n",
              "      <td>9308092.0</td>\n",
              "      <td>24494.978947</td>\n",
              "    </tr>\n",
              "  </tbody>\n",
              "</table>\n",
              "</div>"
            ],
            "text/plain": [
              "  Temporada  Asistencia Total  Asistencia promedio\n",
              "0     16/17        10737706.0         28257.121053\n",
              "1     17/18        10528159.0         27778.783641\n",
              "2     18/19        10305100.0         27118.684211\n",
              "3     19/20         7877083.0         29282.836431\n",
              "4     20/21           12745.0          3186.250000\n",
              "5     21/22         9308092.0         24494.978947"
            ]
          },
          "execution_count": 14,
          "metadata": {},
          "output_type": "execute_result"
        }
      ],
      "source": [
        "#transformamos el diccionario en Dataframe\n",
        "asistencia = pd.DataFrame([[key, asist[key][0],asist[key][1]] for key in asist.keys()],\n",
        "                        columns=['Temporada', 'Asistencia Total','Asistencia promedio'])\n",
        "asistencia"
      ]
    },
    {
      "cell_type": "markdown",
      "id": "f43b320b",
      "metadata": {
        "id": "f43b320b"
      },
      "source": [
        "## Ejercicio  1\n",
        "¿Cuál es el código para calcular la cantidad de partidos que jugó en primera división el Alavés?\n"
      ]
    },
    {
      "cell_type": "code",
      "execution_count": null,
      "id": "15f9c22d",
      "metadata": {
        "id": "15f9c22d",
        "outputId": "e502c48f-c956-4723-a198-a5b1d206c1f9"
      },
      "outputs": [
        {
          "data": {
            "text/plain": [
              "228"
            ]
          },
          "execution_count": 15,
          "metadata": {},
          "output_type": "execute_result"
        }
      ],
      "source": [
        "#filtramos el Dataframe laliga buscando al Alavés, ya sea de local o de visitante. Contamos las fechas en las que aparece.\n",
        "laliga2[(laliga2['Local']=='Alavés')|(laliga2['Visitante']=='Alavés')]['Date'].count()"
      ]
    },
    {
      "cell_type": "markdown",
      "id": "2459f397",
      "metadata": {
        "id": "2459f397"
      },
      "source": [
        "## Ejercicio 2\n",
        "¿Cómo determinamos ahora la asistencia por año calendario (de enero a diciembre de cada año?"
      ]
    },
    {
      "cell_type": "code",
      "execution_count": null,
      "id": "33caded3",
      "metadata": {
        "id": "33caded3"
      },
      "outputs": [],
      "source": [
        "años=[2016+i for i in range(7)] #construimos la lista de años, de 2016 a 2016+6=2022 (range(7) = 6)\n",
        "asist2 = {} #creamos este diccionario\n",
        "for año in años: #recorremos los años en la lista\n",
        "    base = laliga2[laliga2['Año']==año] #filtramos el Dataframe laliga solo para los registros del año en que estamos parados\n",
        "    prom = base['Attendance'].mean()\n",
        "    total = base['Attendance'].sum()\n",
        "    asist2[año] = (total,prom) #guardamos el promedio y total obtenidos en el diccionario, con \"key\" nombre del año"
      ]
    },
    {
      "cell_type": "code",
      "execution_count": null,
      "id": "9adac00b",
      "metadata": {
        "id": "9adac00b",
        "outputId": "4d38ef19-329e-442d-91cb-fc2f1dff8f73"
      },
      "outputs": [
        {
          "data": {
            "text/html": [
              "<div>\n",
              "<style scoped>\n",
              "    .dataframe tbody tr th:only-of-type {\n",
              "        vertical-align: middle;\n",
              "    }\n",
              "\n",
              "    .dataframe tbody tr th {\n",
              "        vertical-align: top;\n",
              "    }\n",
              "\n",
              "    .dataframe thead th {\n",
              "        text-align: right;\n",
              "    }\n",
              "</style>\n",
              "<table border=\"1\" class=\"dataframe\">\n",
              "  <thead>\n",
              "    <tr style=\"text-align: right;\">\n",
              "      <th></th>\n",
              "      <th>Año</th>\n",
              "      <th>Asistencia Total</th>\n",
              "      <th>Asistencia promedio</th>\n",
              "    </tr>\n",
              "  </thead>\n",
              "  <tbody>\n",
              "    <tr>\n",
              "      <th>0</th>\n",
              "      <td>2016</td>\n",
              "      <td>4545731.0</td>\n",
              "      <td>28589.503145</td>\n",
              "    </tr>\n",
              "    <tr>\n",
              "      <th>1</th>\n",
              "      <td>2017</td>\n",
              "      <td>10852300.0</td>\n",
              "      <td>27897.943445</td>\n",
              "    </tr>\n",
              "    <tr>\n",
              "      <th>2</th>\n",
              "      <td>2018</td>\n",
              "      <td>10573664.0</td>\n",
              "      <td>27825.431579</td>\n",
              "    </tr>\n",
              "    <tr>\n",
              "      <th>3</th>\n",
              "      <td>2019</td>\n",
              "      <td>10795892.0</td>\n",
              "      <td>27610.976982</td>\n",
              "    </tr>\n",
              "    <tr>\n",
              "      <th>4</th>\n",
              "      <td>2020</td>\n",
              "      <td>2680461.0</td>\n",
              "      <td>30117.539326</td>\n",
              "    </tr>\n",
              "    <tr>\n",
              "      <th>5</th>\n",
              "      <td>2021</td>\n",
              "      <td>4325846.0</td>\n",
              "      <td>23257.236559</td>\n",
              "    </tr>\n",
              "    <tr>\n",
              "      <th>6</th>\n",
              "      <td>2022</td>\n",
              "      <td>4994991.0</td>\n",
              "      <td>25227.227273</td>\n",
              "    </tr>\n",
              "  </tbody>\n",
              "</table>\n",
              "</div>"
            ],
            "text/plain": [
              "    Año  Asistencia Total  Asistencia promedio\n",
              "0  2016         4545731.0         28589.503145\n",
              "1  2017        10852300.0         27897.943445\n",
              "2  2018        10573664.0         27825.431579\n",
              "3  2019        10795892.0         27610.976982\n",
              "4  2020         2680461.0         30117.539326\n",
              "5  2021         4325846.0         23257.236559\n",
              "6  2022         4994991.0         25227.227273"
            ]
          },
          "execution_count": 17,
          "metadata": {},
          "output_type": "execute_result"
        }
      ],
      "source": [
        "#transformamos en Dataframe el diccionario\n",
        "asistencia2 = pd.DataFrame([[key, asist2[key][0],asist2[key][1]] for key in asist2.keys()],\n",
        "                        columns=['Año', 'Asistencia Total','Asistencia promedio'])\n",
        "asistencia2"
      ]
    }
  ],
  "metadata": {
    "kernelspec": {
      "display_name": "Python 3 (ipykernel)",
      "language": "python",
      "name": "python3"
    },
    "language_info": {
      "codemirror_mode": {
        "name": "ipython",
        "version": 3
      },
      "file_extension": ".py",
      "mimetype": "text/x-python",
      "name": "python",
      "nbconvert_exporter": "python",
      "pygments_lexer": "ipython3",
      "version": "3.9.11"
    },
    "colab": {
      "provenance": [],
      "include_colab_link": true
    }
  },
  "nbformat": 4,
  "nbformat_minor": 5
}